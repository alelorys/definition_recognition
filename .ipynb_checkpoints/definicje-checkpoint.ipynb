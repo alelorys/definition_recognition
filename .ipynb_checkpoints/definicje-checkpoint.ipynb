{
 "cells": [
  {
   "cell_type": "code",
   "execution_count": 1,
   "id": "f791b120-0b56-4a45-8203-cf5687787201",
   "metadata": {},
   "outputs": [
    {
     "name": "stdout",
     "output_type": "stream",
     "text": [
      "znajdzka {\"date\":\"2024-10-07T11:18:05.012Z\",\"msg_id\":\"72fa4556-ca8f-4a1e-89b6-2b2503f02c03\",\"msg_type\":\"execute_request\",\"session\":\"03780ea3-bb4a-47c1-b60a-81b55a82fd62\",\"username\":\"\",\"version\":\"5.2\"}\n",
      "znajdzka {}\n",
      "znajdzka {\"trusted\":true,\"deletedCells\":[],\"recordTiming\":false,\"cellId\":\"92565466-5a68-463d-a651-a5e1d424dfe1\"}\n",
      "znajdzka {\"silent\":false,\"store_history\":true,\"user_expressions\":{},\"allow_stdin\":true,\"stop_on_error\":true,\"code\":\"import os\"}\n"
     ]
    }
   ],
   "source": [
    "import numpy as np\n",
    "import pandas as pd"
   ]
  },
  {
   "cell_type": "code",
   "execution_count": 2,
   "id": "92565466-5a68-463d-a651-a5e1d424dfe1",
   "metadata": {},
   "outputs": [
    {
     "name": "stdout",
     "output_type": "stream",
     "text": [
      "znajdzka {\"date\":\"2024-10-07T11:18:08.983Z\",\"msg_id\":\"7a14e233-e7bd-418f-a5ca-01a4f9d4f3d8\",\"msg_type\":\"execute_request\",\"session\":\"03780ea3-bb4a-47c1-b60a-81b55a82fd62\",\"username\":\"\",\"version\":\"5.2\"}\n",
      "znajdzka {}\n",
      "znajdzka {\"trusted\":true,\"deletedCells\":[],\"recordTiming\":false,\"cellId\":\"185cc82c-caf1-40a7-8ad5-0736b54de495\"}\n",
      "znajdzka {\"silent\":false,\"store_history\":true,\"user_expressions\":{},\"allow_stdin\":true,\"stop_on_error\":true,\"code\":\"data = pd.read_excel('definicje-ap.xlsx', sheet_name=['stanford','stanford-nontheses'])\"}\n"
     ]
    }
   ],
   "source": [
    "import os"
   ]
  },
  {
   "cell_type": "code",
   "execution_count": 3,
   "id": "185cc82c-caf1-40a7-8ad5-0736b54de495",
   "metadata": {},
   "outputs": [
    {
     "name": "stdout",
     "output_type": "stream",
     "text": [
      "znajdzka {\"date\":\"2024-10-07T11:18:21.132Z\",\"msg_id\":\"6b0295f5-fe05-411b-aec9-ac0257a69c85\",\"msg_type\":\"execute_request\",\"session\":\"03780ea3-bb4a-47c1-b60a-81b55a82fd62\",\"username\":\"\",\"version\":\"5.2\"}\n",
      "znajdzka {}\n",
      "znajdzka {\"trusted\":true,\"deletedCells\":[],\"recordTiming\":false,\"cellId\":\"1099c905-e792-4f2c-b984-c735d0441911\"}\n",
      "znajdzka {\"silent\":false,\"store_history\":true,\"user_expressions\":{},\"allow_stdin\":true,\"stop_on_error\":true,\"code\":\"data\"}\n"
     ]
    }
   ],
   "source": [
    "data = pd.read_excel('definicje-ap.xlsx', sheet_name=['stanford','stanford-nontheses'])"
   ]
  },
  {
   "cell_type": "code",
   "execution_count": 4,
   "id": "1099c905-e792-4f2c-b984-c735d0441911",
   "metadata": {},
   "outputs": [
    {
     "data": {
      "text/plain": [
       "{'stanford':     Most philosophers agree that abduction (in the sense of Inference to the Best Explanation) is a type of inference that is frequently employed, in some form or other, both in everyday and in scientific reasoning.\n",
       " 0    To say that something is authentic is to say t...                                                                                                                                                                 \n",
       " 1    Donald Davidson [1980, essay 3] asserted that ...                                                                                                                                                                 \n",
       " 2    “Adaptationism” refers to a family of views ab...                                                                                                                                                                 \n",
       " 3    Behaviorism is built on this assumption, and i...                                                                                                                                                                 \n",
       " 4    The epistemic basing relation is the relation ...                                                                                                                                                                 \n",
       " ..                                                 ...                                                                                                                                                                 \n",
       " 96                                                 NaN                                                                                                                                                                 \n",
       " 97                                                 NaN                                                                                                                                                                 \n",
       " 98                                                 NaN                                                                                                                                                                 \n",
       " 99                                                 NaN                                                                                                                                                                 \n",
       " 100  Zombies in philosophy are imaginary creatures ...                                                                                                                                                                 \n",
       " \n",
       " [101 rows x 1 columns],\n",
       " 'stanford-nontheses':     It is standard practice to group non-necessary inferences into inductive and abductive ones.\n",
       " 0    With these social changes there is a sharp shi...                                          \n",
       " 1    It is frequently noted that the agent has some...                                          \n",
       " 2    There were two central but mainly disjunct sci...                                          \n",
       " 3    According to methodological behaviorism, refer...                                          \n",
       " 4    A belief is causally sustained by a reason whe...                                          \n",
       " ..                                                 ...                                          \n",
       " 96   After their 1945 paper, it was not clear that ...                                          \n",
       " 97   The rational egoist might reply that the instr...                                          \n",
       " 98   But there are other points of view, such as th...                                          \n",
       " 99   This same “identity in difference” of original...                                          \n",
       " 100  We noted above that at least many philosophers...                                          \n",
       " \n",
       " [101 rows x 1 columns]}"
      ]
     },
     "execution_count": 4,
     "metadata": {},
     "output_type": "execute_result"
    },
    {
     "name": "stdout",
     "output_type": "stream",
     "text": [
      "znajdzka {\"date\":\"2024-10-07T11:18:26.001Z\",\"msg_id\":\"48a585d0-ac5b-4897-834b-4f0ae3669fc7\",\"msg_type\":\"execute_request\",\"session\":\"03780ea3-bb4a-47c1-b60a-81b55a82fd62\",\"username\":\"\",\"version\":\"5.2\"}\n",
      "znajdzka {}\n",
      "znajdzka {\"trusted\":true,\"deletedCells\":[],\"recordTiming\":false,\"cellId\":\"d6b2db8f-3b56-4fcf-9d80-07c83bba0d59\"}\n",
      "znajdzka {\"silent\":false,\"store_history\":true,\"user_expressions\":{},\"allow_stdin\":true,\"stop_on_error\":true,\"code\":\"stanford_df = data.get('stanford')\\nstanford_nontheses_df = data.get('stanford-nontheses')\"}\n"
     ]
    }
   ],
   "source": [
    "data"
   ]
  },
  {
   "cell_type": "code",
   "execution_count": 5,
   "id": "d6b2db8f-3b56-4fcf-9d80-07c83bba0d59",
   "metadata": {},
   "outputs": [
    {
     "name": "stdout",
     "output_type": "stream",
     "text": [
      "znajdzka {\"date\":\"2024-10-07T11:18:31.448Z\",\"msg_id\":\"2297631d-9cef-45d6-ae01-22fdc8022f03\",\"msg_type\":\"execute_request\",\"session\":\"03780ea3-bb4a-47c1-b60a-81b55a82fd62\",\"username\":\"\",\"version\":\"5.2\"}\n",
      "znajdzka {}\n",
      "znajdzka {\"trusted\":true,\"deletedCells\":[],\"recordTiming\":false,\"cellId\":\"258db662-a6c8-4dde-b6a7-846e021e9347\"}\n",
      "znajdzka {\"silent\":false,\"store_history\":true,\"user_expressions\":{},\"allow_stdin\":true,\"stop_on_error\":true,\"code\":\"stanford_df.head()\"}\n"
     ]
    }
   ],
   "source": [
    "stanford_df = data.get('stanford')\n",
    "stanford_nontheses_df = data.get('stanford-nontheses')"
   ]
  },
  {
   "cell_type": "code",
   "execution_count": 6,
   "id": "258db662-a6c8-4dde-b6a7-846e021e9347",
   "metadata": {},
   "outputs": [
    {
     "data": {
      "text/html": [
       "<div>\n",
       "<style scoped>\n",
       "    .dataframe tbody tr th:only-of-type {\n",
       "        vertical-align: middle;\n",
       "    }\n",
       "\n",
       "    .dataframe tbody tr th {\n",
       "        vertical-align: top;\n",
       "    }\n",
       "\n",
       "    .dataframe thead th {\n",
       "        text-align: right;\n",
       "    }\n",
       "</style>\n",
       "<table border=\"1\" class=\"dataframe\">\n",
       "  <thead>\n",
       "    <tr style=\"text-align: right;\">\n",
       "      <th></th>\n",
       "      <th>Most philosophers agree that abduction (in the sense of Inference to the Best Explanation) is a type of inference that is frequently employed, in some form or other, both in everyday and in scientific reasoning.</th>\n",
       "    </tr>\n",
       "  </thead>\n",
       "  <tbody>\n",
       "    <tr>\n",
       "      <th>0</th>\n",
       "      <td>To say that something is authentic is to say t...</td>\n",
       "    </tr>\n",
       "    <tr>\n",
       "      <th>1</th>\n",
       "      <td>Donald Davidson [1980, essay 3] asserted that ...</td>\n",
       "    </tr>\n",
       "    <tr>\n",
       "      <th>2</th>\n",
       "      <td>“Adaptationism” refers to a family of views ab...</td>\n",
       "    </tr>\n",
       "    <tr>\n",
       "      <th>3</th>\n",
       "      <td>Behaviorism is built on this assumption, and i...</td>\n",
       "    </tr>\n",
       "    <tr>\n",
       "      <th>4</th>\n",
       "      <td>The epistemic basing relation is the relation ...</td>\n",
       "    </tr>\n",
       "  </tbody>\n",
       "</table>\n",
       "</div>"
      ],
      "text/plain": [
       "  Most philosophers agree that abduction (in the sense of Inference to the Best Explanation) is a type of inference that is frequently employed, in some form or other, both in everyday and in scientific reasoning.\n",
       "0  To say that something is authentic is to say t...                                                                                                                                                                 \n",
       "1  Donald Davidson [1980, essay 3] asserted that ...                                                                                                                                                                 \n",
       "2  “Adaptationism” refers to a family of views ab...                                                                                                                                                                 \n",
       "3  Behaviorism is built on this assumption, and i...                                                                                                                                                                 \n",
       "4  The epistemic basing relation is the relation ...                                                                                                                                                                 "
      ]
     },
     "execution_count": 6,
     "metadata": {},
     "output_type": "execute_result"
    },
    {
     "name": "stdout",
     "output_type": "stream",
     "text": [
      "znajdzka {\"date\":\"2024-10-07T11:18:35.623Z\",\"msg_id\":\"4892eb4c-b1ac-4314-a0c7-8caa337b5ee8\",\"msg_type\":\"execute_request\",\"session\":\"03780ea3-bb4a-47c1-b60a-81b55a82fd62\",\"username\":\"\",\"version\":\"5.2\"}\n",
      "znajdzka {}\n",
      "znajdzka {\"trusted\":true,\"deletedCells\":[],\"recordTiming\":false,\"cellId\":\"a0ab98ee-16ea-4e85-99ef-d45bdc99dc13\"}\n",
      "znajdzka {\"silent\":false,\"store_history\":true,\"user_expressions\":{},\"allow_stdin\":true,\"stop_on_error\":true,\"code\":\"convert_data = {}\\nfor row in stanford_df:\\n    \\n    if 'definition' not in convert_data:\\n        convert_data['definition'] = [row]\\n    \\n    print(stanford_df[row])\\n    convert_data['definition'].extend(stanford_df[row])\"}\n"
     ]
    }
   ],
   "source": [
    "stanford_df.head()"
   ]
  },
  {
   "cell_type": "code",
   "execution_count": 7,
   "id": "a0ab98ee-16ea-4e85-99ef-d45bdc99dc13",
   "metadata": {},
   "outputs": [
    {
     "name": "stdout",
     "output_type": "stream",
     "text": [
      "0      To say that something is authentic is to say t...\n",
      "1      Donald Davidson [1980, essay 3] asserted that ...\n",
      "2      “Adaptationism” refers to a family of views ab...\n",
      "3      Behaviorism is built on this assumption, and i...\n",
      "4      The epistemic basing relation is the relation ...\n",
      "                             ...                        \n",
      "96                                                   NaN\n",
      "97                                                   NaN\n",
      "98                                                   NaN\n",
      "99                                                   NaN\n",
      "100    Zombies in philosophy are imaginary creatures ...\n",
      "Name: Most philosophers agree that abduction (in the sense of Inference to the Best Explanation) is a type of inference that is frequently employed, in some form or other, both in everyday and in scientific reasoning., Length: 101, dtype: object\n",
      "znajdzka {\"date\":\"2024-10-07T11:18:39.656Z\",\"msg_id\":\"0fc41a99-7485-42fc-8a52-a4733e1eb9c9\",\"msg_type\":\"execute_request\",\"session\":\"03780ea3-bb4a-47c1-b60a-81b55a82fd62\",\"username\":\"\",\"version\":\"5.2\"}\n",
      "znajdzka {}\n",
      "znajdzka {\"trusted\":true,\"deletedCells\":[],\"recordTiming\":false,\"cellId\":\"0e352f02-bbcd-42a8-b832-a68da1ba4862\"}\n",
      "znajdzka {\"silent\":false,\"store_history\":true,\"user_expressions\":{},\"allow_stdin\":true,\"stop_on_error\":true,\"code\":\"for row in stanford_nontheses_df:\\n    if 'no_definition' not in convert_data:\\n        convert_data['no_definition'] = [row]\\n    convert_data['no_definition'].extend(stanford_nontheses_df[row])\"}\n"
     ]
    }
   ],
   "source": [
    "convert_data = {}\n",
    "for row in stanford_df:\n",
    "    \n",
    "    if 'definition' not in convert_data:\n",
    "        convert_data['definition'] = [row]\n",
    "    \n",
    "    print(stanford_df[row])\n",
    "    convert_data['definition'].extend(stanford_df[row])"
   ]
  },
  {
   "cell_type": "code",
   "execution_count": 8,
   "id": "0e352f02-bbcd-42a8-b832-a68da1ba4862",
   "metadata": {},
   "outputs": [
    {
     "name": "stdout",
     "output_type": "stream",
     "text": [
      "znajdzka {\"date\":\"2024-10-07T11:18:42.703Z\",\"msg_id\":\"99125ab6-8eff-4ace-842c-fcef1fe6eea6\",\"msg_type\":\"execute_request\",\"session\":\"03780ea3-bb4a-47c1-b60a-81b55a82fd62\",\"username\":\"\",\"version\":\"5.2\"}\n",
      "znajdzka {}\n",
      "znajdzka {\"trusted\":true,\"deletedCells\":[],\"recordTiming\":false,\"cellId\":\"e20aa6c8-34b7-487d-b68f-eb3d3fbfecd9\"}\n",
      "znajdzka {\"silent\":false,\"store_history\":true,\"user_expressions\":{},\"allow_stdin\":true,\"stop_on_error\":true,\"code\":\"len(convert_data['definition'])\"}\n"
     ]
    }
   ],
   "source": [
    "for row in stanford_nontheses_df:\n",
    "    if 'no_definition' not in convert_data:\n",
    "        convert_data['no_definition'] = [row]\n",
    "    convert_data['no_definition'].extend(stanford_nontheses_df[row])"
   ]
  },
  {
   "cell_type": "code",
   "execution_count": 9,
   "id": "e20aa6c8-34b7-487d-b68f-eb3d3fbfecd9",
   "metadata": {},
   "outputs": [
    {
     "data": {
      "text/plain": [
       "102"
      ]
     },
     "execution_count": 9,
     "metadata": {},
     "output_type": "execute_result"
    },
    {
     "name": "stdout",
     "output_type": "stream",
     "text": [
      "znajdzka {\"date\":\"2024-10-07T11:18:43.933Z\",\"msg_id\":\"02a237e0-51d9-4b54-9a32-381c5eec376b\",\"msg_type\":\"execute_request\",\"session\":\"03780ea3-bb4a-47c1-b60a-81b55a82fd62\",\"username\":\"\",\"version\":\"5.2\"}\n",
      "znajdzka {}\n",
      "znajdzka {\"trusted\":true,\"deletedCells\":[],\"recordTiming\":false,\"cellId\":\"4c0506e1-becf-472d-80e2-7feb5ef45ecf\"}\n",
      "znajdzka {\"silent\":false,\"store_history\":true,\"user_expressions\":{},\"allow_stdin\":true,\"stop_on_error\":true,\"code\":\"len(convert_data['no_definition'])\"}\n"
     ]
    }
   ],
   "source": [
    "len(convert_data['definition'])"
   ]
  },
  {
   "cell_type": "code",
   "execution_count": 10,
   "id": "4c0506e1-becf-472d-80e2-7feb5ef45ecf",
   "metadata": {},
   "outputs": [
    {
     "data": {
      "text/plain": [
       "102"
      ]
     },
     "execution_count": 10,
     "metadata": {},
     "output_type": "execute_result"
    },
    {
     "name": "stdout",
     "output_type": "stream",
     "text": [
      "znajdzka {\"date\":\"2024-10-07T11:18:46.954Z\",\"msg_id\":\"bd450c40-f7e2-4dbe-813a-9944d4dda494\",\"msg_type\":\"execute_request\",\"session\":\"03780ea3-bb4a-47c1-b60a-81b55a82fd62\",\"username\":\"\",\"version\":\"5.2\"}\n",
      "znajdzka {}\n",
      "znajdzka {\"trusted\":true,\"deletedCells\":[],\"recordTiming\":false,\"cellId\":\"895845d6-696a-44da-b00e-2fc4018edfec\"}\n",
      "znajdzka {\"silent\":false,\"store_history\":true,\"user_expressions\":{},\"allow_stdin\":true,\"stop_on_error\":true,\"code\":\"df = pd.DataFrame(data=convert_data)\"}\n"
     ]
    }
   ],
   "source": [
    "len(convert_data['no_definition'])"
   ]
  },
  {
   "cell_type": "code",
   "execution_count": 11,
   "id": "895845d6-696a-44da-b00e-2fc4018edfec",
   "metadata": {},
   "outputs": [
    {
     "name": "stdout",
     "output_type": "stream",
     "text": [
      "znajdzka {\"date\":\"2024-10-07T11:18:50.494Z\",\"msg_id\":\"eb49f0d5-1e1d-4247-b3e8-c79187b6a5bb\",\"msg_type\":\"execute_request\",\"session\":\"03780ea3-bb4a-47c1-b60a-81b55a82fd62\",\"username\":\"\",\"version\":\"5.2\"}\n",
      "znajdzka {}\n",
      "znajdzka {\"trusted\":true,\"deletedCells\":[],\"recordTiming\":false,\"cellId\":\"42891e4b-912c-4e95-86a2-92e0f20a0a1b\"}\n",
      "znajdzka {\"silent\":false,\"store_history\":true,\"user_expressions\":{},\"allow_stdin\":true,\"stop_on_error\":true,\"code\":\"len(df['definition'])\"}\n"
     ]
    }
   ],
   "source": [
    "df = pd.DataFrame(data=convert_data)"
   ]
  },
  {
   "cell_type": "code",
   "execution_count": 12,
   "id": "42891e4b-912c-4e95-86a2-92e0f20a0a1b",
   "metadata": {},
   "outputs": [
    {
     "data": {
      "text/plain": [
       "102"
      ]
     },
     "execution_count": 12,
     "metadata": {},
     "output_type": "execute_result"
    }
   ],
   "source": [
    "len(df['definition'])"
   ]
  },
  {
   "cell_type": "code",
   "execution_count": null,
   "id": "0512c072-b4ca-4e74-b6f2-1c51f8be33da",
   "metadata": {},
   "outputs": [],
   "source": []
  }
 ],
 "metadata": {
  "kernelspec": {
   "display_name": "Python 3 (ipykernel)",
   "language": "python",
   "name": "python3"
  },
  "language_info": {
   "codemirror_mode": {
    "name": "ipython",
    "version": 3
   },
   "file_extension": ".py",
   "mimetype": "text/x-python",
   "name": "python",
   "nbconvert_exporter": "python",
   "pygments_lexer": "ipython3",
   "version": "3.11.8"
  }
 },
 "nbformat": 4,
 "nbformat_minor": 5
}
