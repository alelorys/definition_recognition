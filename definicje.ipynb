{
 "cells": [
  {
   "cell_type": "code",
   "execution_count": 2,
   "id": "f791b120-0b56-4a45-8203-cf5687787201",
   "metadata": {},
   "outputs": [
    {
     "name": "stdout",
     "output_type": "stream",
     "text": [
      "znajdzka {\"date\":\"2024-10-10T11:09:17.974Z\",\"msg_id\":\"84b0eab3-0f9c-44fc-bb7d-0b8544a2d412\",\"msg_type\":\"execute_request\",\"session\":\"1110b35d-0428-46b3-9a33-1e631ab83b88\",\"username\":\"0c7ec83a-90e3-4685-8f3e-75d86b674bbc\",\"version\":\"5.2\"}\n",
      "znajdzka {}\n",
      "znajdzka {\"cellId\":\"vscode-notebook-cell:/c%3A/Users/aleks/Desktop/Python/AI/definicje/definicje.ipynb#W0sZmlsZQ%3D%3D\"}\n",
      "znajdzka {\"silent\":false,\"store_history\":true,\"user_expressions\":{},\"allow_stdin\":true,\"stop_on_error\":false,\"code\":\"import numpy as np\\nimport pandas as pd\\nimport os\"}\n"
     ]
    }
   ],
   "source": [
    "import numpy as np\n",
    "import pandas as pd\n",
    "import os"
   ]
  },
  {
   "cell_type": "code",
   "execution_count": 3,
   "id": "185cc82c-caf1-40a7-8ad5-0736b54de495",
   "metadata": {},
   "outputs": [
    {
     "name": "stdout",
     "output_type": "stream",
     "text": [
      "znajdzka {\"date\":\"2024-10-10T11:09:20.064Z\",\"msg_id\":\"4738088a-16c6-457e-9b02-865d40b3e4d3\",\"msg_type\":\"execute_request\",\"session\":\"1110b35d-0428-46b3-9a33-1e631ab83b88\",\"username\":\"0c7ec83a-90e3-4685-8f3e-75d86b674bbc\",\"version\":\"5.2\"}\n",
      "znajdzka {}\n",
      "znajdzka {\"cellId\":\"vscode-notebook-cell:/c%3A/Users/aleks/Desktop/Python/AI/definicje/definicje.ipynb#W1sZmlsZQ%3D%3D\"}\n",
      "znajdzka {\"silent\":false,\"store_history\":true,\"user_expressions\":{},\"allow_stdin\":true,\"stop_on_error\":false,\"code\":\"data = pd.read_excel('definicje-ap.xlsx', sheet_name=['stanford','stanford-nontheses'])\"}\n"
     ]
    }
   ],
   "source": [
    "data = pd.read_excel('definicje-ap.xlsx', sheet_name=['stanford','stanford-nontheses'])"
   ]
  },
  {
   "cell_type": "code",
   "execution_count": 4,
   "id": "1099c905-e792-4f2c-b984-c735d0441911",
   "metadata": {},
   "outputs": [
    {
     "name": "stdout",
     "output_type": "stream",
     "text": [
      "znajdzka {\"date\":\"2024-10-10T11:09:21.921Z\",\"msg_id\":\"7b014089-913e-483d-8379-346a6d7c6850\",\"msg_type\":\"execute_request\",\"session\":\"1110b35d-0428-46b3-9a33-1e631ab83b88\",\"username\":\"0c7ec83a-90e3-4685-8f3e-75d86b674bbc\",\"version\":\"5.2\"}\n",
      "znajdzka {}\n",
      "znajdzka {\"cellId\":\"vscode-notebook-cell:/c%3A/Users/aleks/Desktop/Python/AI/definicje/definicje.ipynb#W2sZmlsZQ%3D%3D\"}\n",
      "znajdzka {\"silent\":false,\"store_history\":true,\"user_expressions\":{},\"allow_stdin\":true,\"stop_on_error\":false,\"code\":\"data\"}\n"
     ]
    },
    {
     "data": {
      "text/plain": [
       "{'stanford':     Most philosophers agree that abduction (in the sense of Inference to the Best Explanation) is a type of inference that is frequently employed, in some form or other, both in everyday and in scientific reasoning.\n",
       " 0    To say that something is authentic is to say t...                                                                                                                                                                 \n",
       " 1    Donald Davidson [1980, essay 3] asserted that ...                                                                                                                                                                 \n",
       " 2    “Adaptationism” refers to a family of views ab...                                                                                                                                                                 \n",
       " 3    Behaviorism is built on this assumption, and i...                                                                                                                                                                 \n",
       " 4    The epistemic basing relation is the relation ...                                                                                                                                                                 \n",
       " ..                                                 ...                                                                                                                                                                 \n",
       " 96                                                 NaN                                                                                                                                                                 \n",
       " 97                                                 NaN                                                                                                                                                                 \n",
       " 98                                                 NaN                                                                                                                                                                 \n",
       " 99                                                 NaN                                                                                                                                                                 \n",
       " 100  Zombies in philosophy are imaginary creatures ...                                                                                                                                                                 \n",
       " \n",
       " [101 rows x 1 columns],\n",
       " 'stanford-nontheses':     It is standard practice to group non-necessary inferences into inductive and abductive ones.\n",
       " 0    With these social changes there is a sharp shi...                                          \n",
       " 1    It is frequently noted that the agent has some...                                          \n",
       " 2    There were two central but mainly disjunct sci...                                          \n",
       " 3    According to methodological behaviorism, refer...                                          \n",
       " 4    A belief is causally sustained by a reason whe...                                          \n",
       " ..                                                 ...                                          \n",
       " 96   After their 1945 paper, it was not clear that ...                                          \n",
       " 97   The rational egoist might reply that the instr...                                          \n",
       " 98   But there are other points of view, such as th...                                          \n",
       " 99   This same “identity in difference” of original...                                          \n",
       " 100  We noted above that at least many philosophers...                                          \n",
       " \n",
       " [101 rows x 1 columns]}"
      ]
     },
     "execution_count": 4,
     "metadata": {},
     "output_type": "execute_result"
    }
   ],
   "source": [
    "data"
   ]
  },
  {
   "cell_type": "code",
   "execution_count": 5,
   "id": "d6b2db8f-3b56-4fcf-9d80-07c83bba0d59",
   "metadata": {},
   "outputs": [
    {
     "name": "stdout",
     "output_type": "stream",
     "text": [
      "znajdzka {\"date\":\"2024-10-10T11:09:23.460Z\",\"msg_id\":\"67fb8eb6-2687-40a7-aa3c-f69e6a193110\",\"msg_type\":\"execute_request\",\"session\":\"1110b35d-0428-46b3-9a33-1e631ab83b88\",\"username\":\"0c7ec83a-90e3-4685-8f3e-75d86b674bbc\",\"version\":\"5.2\"}\n",
      "znajdzka {}\n",
      "znajdzka {\"cellId\":\"vscode-notebook-cell:/c%3A/Users/aleks/Desktop/Python/AI/definicje/definicje.ipynb#W3sZmlsZQ%3D%3D\"}\n",
      "znajdzka {\"silent\":false,\"store_history\":true,\"user_expressions\":{},\"allow_stdin\":true,\"stop_on_error\":false,\"code\":\"stanford_df = data.get('stanford')\\nstanford_nontheses_df = data.get('stanford-nontheses')\"}\n"
     ]
    }
   ],
   "source": [
    "stanford_df = data.get('stanford')\n",
    "stanford_nontheses_df = data.get('stanford-nontheses')"
   ]
  },
  {
   "cell_type": "code",
   "execution_count": 6,
   "id": "258db662-a6c8-4dde-b6a7-846e021e9347",
   "metadata": {},
   "outputs": [
    {
     "name": "stdout",
     "output_type": "stream",
     "text": [
      "znajdzka {\"date\":\"2024-10-10T11:09:25.029Z\",\"msg_id\":\"e270573d-c063-4b15-8399-740246dc16e9\",\"msg_type\":\"execute_request\",\"session\":\"1110b35d-0428-46b3-9a33-1e631ab83b88\",\"username\":\"0c7ec83a-90e3-4685-8f3e-75d86b674bbc\",\"version\":\"5.2\"}\n",
      "znajdzka {}\n",
      "znajdzka {\"cellId\":\"vscode-notebook-cell:/c%3A/Users/aleks/Desktop/Python/AI/definicje/definicje.ipynb#W4sZmlsZQ%3D%3D\"}\n",
      "znajdzka {\"silent\":false,\"store_history\":true,\"user_expressions\":{},\"allow_stdin\":true,\"stop_on_error\":false,\"code\":\"stanford_df.head()\"}\n"
     ]
    },
    {
     "data": {
      "text/html": [
       "<div>\n",
       "<style scoped>\n",
       "    .dataframe tbody tr th:only-of-type {\n",
       "        vertical-align: middle;\n",
       "    }\n",
       "\n",
       "    .dataframe tbody tr th {\n",
       "        vertical-align: top;\n",
       "    }\n",
       "\n",
       "    .dataframe thead th {\n",
       "        text-align: right;\n",
       "    }\n",
       "</style>\n",
       "<table border=\"1\" class=\"dataframe\">\n",
       "  <thead>\n",
       "    <tr style=\"text-align: right;\">\n",
       "      <th></th>\n",
       "      <th>Most philosophers agree that abduction (in the sense of Inference to the Best Explanation) is a type of inference that is frequently employed, in some form or other, both in everyday and in scientific reasoning.</th>\n",
       "    </tr>\n",
       "  </thead>\n",
       "  <tbody>\n",
       "    <tr>\n",
       "      <th>0</th>\n",
       "      <td>To say that something is authentic is to say t...</td>\n",
       "    </tr>\n",
       "    <tr>\n",
       "      <th>1</th>\n",
       "      <td>Donald Davidson [1980, essay 3] asserted that ...</td>\n",
       "    </tr>\n",
       "    <tr>\n",
       "      <th>2</th>\n",
       "      <td>“Adaptationism” refers to a family of views ab...</td>\n",
       "    </tr>\n",
       "    <tr>\n",
       "      <th>3</th>\n",
       "      <td>Behaviorism is built on this assumption, and i...</td>\n",
       "    </tr>\n",
       "    <tr>\n",
       "      <th>4</th>\n",
       "      <td>The epistemic basing relation is the relation ...</td>\n",
       "    </tr>\n",
       "  </tbody>\n",
       "</table>\n",
       "</div>"
      ],
      "text/plain": [
       "  Most philosophers agree that abduction (in the sense of Inference to the Best Explanation) is a type of inference that is frequently employed, in some form or other, both in everyday and in scientific reasoning.\n",
       "0  To say that something is authentic is to say t...                                                                                                                                                                 \n",
       "1  Donald Davidson [1980, essay 3] asserted that ...                                                                                                                                                                 \n",
       "2  “Adaptationism” refers to a family of views ab...                                                                                                                                                                 \n",
       "3  Behaviorism is built on this assumption, and i...                                                                                                                                                                 \n",
       "4  The epistemic basing relation is the relation ...                                                                                                                                                                 "
      ]
     },
     "execution_count": 6,
     "metadata": {},
     "output_type": "execute_result"
    }
   ],
   "source": [
    "stanford_df.head()"
   ]
  },
  {
   "cell_type": "code",
   "execution_count": 7,
   "id": "a0ab98ee-16ea-4e85-99ef-d45bdc99dc13",
   "metadata": {},
   "outputs": [
    {
     "name": "stdout",
     "output_type": "stream",
     "text": [
      "znajdzka {\"date\":\"2024-10-10T11:09:26.291Z\",\"msg_id\":\"6748ac93-74b2-4f74-ae89-66be54c9724e\",\"msg_type\":\"execute_request\",\"session\":\"1110b35d-0428-46b3-9a33-1e631ab83b88\",\"username\":\"0c7ec83a-90e3-4685-8f3e-75d86b674bbc\",\"version\":\"5.2\"}\n",
      "znajdzka {}\n",
      "znajdzka {\"cellId\":\"vscode-notebook-cell:/c%3A/Users/aleks/Desktop/Python/AI/definicje/definicje.ipynb#W5sZmlsZQ%3D%3D\"}\n",
      "znajdzka {\"silent\":false,\"store_history\":true,\"user_expressions\":{},\"allow_stdin\":true,\"stop_on_error\":false,\"code\":\"convert_data = {}\\nfor row in stanford_df:\\n    \\n    if 'definition' not in convert_data:\\n        convert_data['definition'] = [row]\\n    \\n    convert_data['definition'].extend(stanford_df[row])\"}\n"
     ]
    }
   ],
   "source": [
    "convert_data = {}\n",
    "for row in stanford_df:\n",
    "    \n",
    "    if 'definition' not in convert_data:\n",
    "        convert_data['definition'] = [row]\n",
    "    \n",
    "    convert_data['definition'].extend(stanford_df[row])"
   ]
  },
  {
   "cell_type": "code",
   "execution_count": 8,
   "id": "0e352f02-bbcd-42a8-b832-a68da1ba4862",
   "metadata": {},
   "outputs": [
    {
     "name": "stdout",
     "output_type": "stream",
     "text": [
      "znajdzka {\"date\":\"2024-10-10T11:09:27.618Z\",\"msg_id\":\"283390b7-697a-4830-9c18-75ff989e3f49\",\"msg_type\":\"execute_request\",\"session\":\"1110b35d-0428-46b3-9a33-1e631ab83b88\",\"username\":\"0c7ec83a-90e3-4685-8f3e-75d86b674bbc\",\"version\":\"5.2\"}\n",
      "znajdzka {}\n",
      "znajdzka {\"cellId\":\"vscode-notebook-cell:/c%3A/Users/aleks/Desktop/Python/AI/definicje/definicje.ipynb#W6sZmlsZQ%3D%3D\"}\n",
      "znajdzka {\"silent\":false,\"store_history\":true,\"user_expressions\":{},\"allow_stdin\":true,\"stop_on_error\":false,\"code\":\"for row in stanford_nontheses_df:\\n    if 'no_definition' not in convert_data:\\n        convert_data['no_definition'] = [row]\\n    convert_data['no_definition'].extend(stanford_nontheses_df[row])\"}\n"
     ]
    }
   ],
   "source": [
    "for row in stanford_nontheses_df:\n",
    "    if 'no_definition' not in convert_data:\n",
    "        convert_data['no_definition'] = [row]\n",
    "    convert_data['no_definition'].extend(stanford_nontheses_df[row])"
   ]
  },
  {
   "cell_type": "code",
   "execution_count": 9,
   "id": "e20aa6c8-34b7-487d-b68f-eb3d3fbfecd9",
   "metadata": {},
   "outputs": [
    {
     "name": "stdout",
     "output_type": "stream",
     "text": [
      "znajdzka {\"date\":\"2024-10-10T11:09:28.484Z\",\"msg_id\":\"1fd33ba3-1145-45f4-8542-83efc3a60bc0\",\"msg_type\":\"execute_request\",\"session\":\"1110b35d-0428-46b3-9a33-1e631ab83b88\",\"username\":\"0c7ec83a-90e3-4685-8f3e-75d86b674bbc\",\"version\":\"5.2\"}\n",
      "znajdzka {}\n",
      "znajdzka {\"cellId\":\"vscode-notebook-cell:/c%3A/Users/aleks/Desktop/Python/AI/definicje/definicje.ipynb#X10sZmlsZQ%3D%3D\"}\n",
      "znajdzka {\"silent\":false,\"store_history\":true,\"user_expressions\":{},\"allow_stdin\":true,\"stop_on_error\":false,\"code\":\"len(convert_data['definition'])\"}\n"
     ]
    },
    {
     "data": {
      "text/plain": [
       "102"
      ]
     },
     "execution_count": 9,
     "metadata": {},
     "output_type": "execute_result"
    }
   ],
   "source": [
    "len(convert_data['definition'])"
   ]
  },
  {
   "cell_type": "code",
   "execution_count": 10,
   "id": "4c0506e1-becf-472d-80e2-7feb5ef45ecf",
   "metadata": {},
   "outputs": [
    {
     "name": "stdout",
     "output_type": "stream",
     "text": [
      "znajdzka {\"date\":\"2024-10-10T11:09:29.419Z\",\"msg_id\":\"33b93c22-7850-4c9f-b081-89646a502535\",\"msg_type\":\"execute_request\",\"session\":\"1110b35d-0428-46b3-9a33-1e631ab83b88\",\"username\":\"0c7ec83a-90e3-4685-8f3e-75d86b674bbc\",\"version\":\"5.2\"}\n",
      "znajdzka {}\n",
      "znajdzka {\"cellId\":\"vscode-notebook-cell:/c%3A/Users/aleks/Desktop/Python/AI/definicje/definicje.ipynb#X11sZmlsZQ%3D%3D\"}\n",
      "znajdzka {\"silent\":false,\"store_history\":true,\"user_expressions\":{},\"allow_stdin\":true,\"stop_on_error\":false,\"code\":\"len(convert_data['no_definition'])\"}\n"
     ]
    },
    {
     "data": {
      "text/plain": [
       "102"
      ]
     },
     "execution_count": 10,
     "metadata": {},
     "output_type": "execute_result"
    }
   ],
   "source": [
    "len(convert_data['no_definition'])"
   ]
  },
  {
   "cell_type": "code",
   "execution_count": 11,
   "id": "895845d6-696a-44da-b00e-2fc4018edfec",
   "metadata": {},
   "outputs": [
    {
     "name": "stdout",
     "output_type": "stream",
     "text": [
      "znajdzka {\"date\":\"2024-10-10T11:09:30.433Z\",\"msg_id\":\"f920b806-7b7f-4188-8384-dca41699c229\",\"msg_type\":\"execute_request\",\"session\":\"1110b35d-0428-46b3-9a33-1e631ab83b88\",\"username\":\"0c7ec83a-90e3-4685-8f3e-75d86b674bbc\",\"version\":\"5.2\"}\n",
      "znajdzka {}\n",
      "znajdzka {\"cellId\":\"vscode-notebook-cell:/c%3A/Users/aleks/Desktop/Python/AI/definicje/definicje.ipynb#X12sZmlsZQ%3D%3D\"}\n",
      "znajdzka {\"silent\":false,\"store_history\":true,\"user_expressions\":{},\"allow_stdin\":true,\"stop_on_error\":false,\"code\":\"df = pd.DataFrame(data=convert_data)\"}\n"
     ]
    }
   ],
   "source": [
    "df = pd.DataFrame(data=convert_data)"
   ]
  },
  {
   "cell_type": "code",
   "execution_count": 12,
   "id": "42891e4b-912c-4e95-86a2-92e0f20a0a1b",
   "metadata": {},
   "outputs": [
    {
     "name": "stdout",
     "output_type": "stream",
     "text": [
      "znajdzka {\"date\":\"2024-10-10T11:09:32.074Z\",\"msg_id\":\"e33625e5-e6e2-47f9-9941-07b970f9baac\",\"msg_type\":\"execute_request\",\"session\":\"1110b35d-0428-46b3-9a33-1e631ab83b88\",\"username\":\"0c7ec83a-90e3-4685-8f3e-75d86b674bbc\",\"version\":\"5.2\"}\n",
      "znajdzka {}\n",
      "znajdzka {\"cellId\":\"vscode-notebook-cell:/c%3A/Users/aleks/Desktop/Python/AI/definicje/definicje.ipynb#X13sZmlsZQ%3D%3D\"}\n",
      "znajdzka {\"silent\":false,\"store_history\":true,\"user_expressions\":{},\"allow_stdin\":true,\"stop_on_error\":false,\"code\":\"len(df['definition'])\"}\n"
     ]
    },
    {
     "data": {
      "text/plain": [
       "102"
      ]
     },
     "execution_count": 12,
     "metadata": {},
     "output_type": "execute_result"
    }
   ],
   "source": [
    "len(df['definition'])"
   ]
  },
  {
   "cell_type": "code",
   "execution_count": 13,
   "id": "0512c072-b4ca-4e74-b6f2-1c51f8be33da",
   "metadata": {},
   "outputs": [
    {
     "name": "stdout",
     "output_type": "stream",
     "text": [
      "znajdzka {\"date\":\"2024-10-10T11:09:33.466Z\",\"msg_id\":\"b5e18b2e-d8b7-447c-91a0-52da37b9a6e9\",\"msg_type\":\"execute_request\",\"session\":\"1110b35d-0428-46b3-9a33-1e631ab83b88\",\"username\":\"0c7ec83a-90e3-4685-8f3e-75d86b674bbc\",\"version\":\"5.2\"}\n",
      "znajdzka {}\n",
      "znajdzka {\"cellId\":\"vscode-notebook-cell:/c%3A/Users/aleks/Desktop/Python/AI/definicje/definicje.ipynb#X14sZmlsZQ%3D%3D\"}\n",
      "znajdzka {\"silent\":false,\"store_history\":true,\"user_expressions\":{},\"allow_stdin\":true,\"stop_on_error\":false,\"code\":\"df\"}\n"
     ]
    },
    {
     "data": {
      "text/html": [
       "<div>\n",
       "<style scoped>\n",
       "    .dataframe tbody tr th:only-of-type {\n",
       "        vertical-align: middle;\n",
       "    }\n",
       "\n",
       "    .dataframe tbody tr th {\n",
       "        vertical-align: top;\n",
       "    }\n",
       "\n",
       "    .dataframe thead th {\n",
       "        text-align: right;\n",
       "    }\n",
       "</style>\n",
       "<table border=\"1\" class=\"dataframe\">\n",
       "  <thead>\n",
       "    <tr style=\"text-align: right;\">\n",
       "      <th></th>\n",
       "      <th>definition</th>\n",
       "      <th>no_definition</th>\n",
       "    </tr>\n",
       "  </thead>\n",
       "  <tbody>\n",
       "    <tr>\n",
       "      <th>0</th>\n",
       "      <td>Most philosophers agree that abduction (in the...</td>\n",
       "      <td>It is standard practice to group non-necessary...</td>\n",
       "    </tr>\n",
       "    <tr>\n",
       "      <th>1</th>\n",
       "      <td>To say that something is authentic is to say t...</td>\n",
       "      <td>With these social changes there is a sharp shi...</td>\n",
       "    </tr>\n",
       "    <tr>\n",
       "      <th>2</th>\n",
       "      <td>Donald Davidson [1980, essay 3] asserted that ...</td>\n",
       "      <td>It is frequently noted that the agent has some...</td>\n",
       "    </tr>\n",
       "    <tr>\n",
       "      <th>3</th>\n",
       "      <td>“Adaptationism” refers to a family of views ab...</td>\n",
       "      <td>There were two central but mainly disjunct sci...</td>\n",
       "    </tr>\n",
       "    <tr>\n",
       "      <th>4</th>\n",
       "      <td>Behaviorism is built on this assumption, and i...</td>\n",
       "      <td>According to methodological behaviorism, refer...</td>\n",
       "    </tr>\n",
       "    <tr>\n",
       "      <th>...</th>\n",
       "      <td>...</td>\n",
       "      <td>...</td>\n",
       "    </tr>\n",
       "    <tr>\n",
       "      <th>97</th>\n",
       "      <td>NaN</td>\n",
       "      <td>After their 1945 paper, it was not clear that ...</td>\n",
       "    </tr>\n",
       "    <tr>\n",
       "      <th>98</th>\n",
       "      <td>NaN</td>\n",
       "      <td>The rational egoist might reply that the instr...</td>\n",
       "    </tr>\n",
       "    <tr>\n",
       "      <th>99</th>\n",
       "      <td>NaN</td>\n",
       "      <td>But there are other points of view, such as th...</td>\n",
       "    </tr>\n",
       "    <tr>\n",
       "      <th>100</th>\n",
       "      <td>NaN</td>\n",
       "      <td>This same “identity in difference” of original...</td>\n",
       "    </tr>\n",
       "    <tr>\n",
       "      <th>101</th>\n",
       "      <td>Zombies in philosophy are imaginary creatures ...</td>\n",
       "      <td>We noted above that at least many philosophers...</td>\n",
       "    </tr>\n",
       "  </tbody>\n",
       "</table>\n",
       "<p>102 rows × 2 columns</p>\n",
       "</div>"
      ],
      "text/plain": [
       "                                            definition  \\\n",
       "0    Most philosophers agree that abduction (in the...   \n",
       "1    To say that something is authentic is to say t...   \n",
       "2    Donald Davidson [1980, essay 3] asserted that ...   \n",
       "3    “Adaptationism” refers to a family of views ab...   \n",
       "4    Behaviorism is built on this assumption, and i...   \n",
       "..                                                 ...   \n",
       "97                                                 NaN   \n",
       "98                                                 NaN   \n",
       "99                                                 NaN   \n",
       "100                                                NaN   \n",
       "101  Zombies in philosophy are imaginary creatures ...   \n",
       "\n",
       "                                         no_definition  \n",
       "0    It is standard practice to group non-necessary...  \n",
       "1    With these social changes there is a sharp shi...  \n",
       "2    It is frequently noted that the agent has some...  \n",
       "3    There were two central but mainly disjunct sci...  \n",
       "4    According to methodological behaviorism, refer...  \n",
       "..                                                 ...  \n",
       "97   After their 1945 paper, it was not clear that ...  \n",
       "98   The rational egoist might reply that the instr...  \n",
       "99   But there are other points of view, such as th...  \n",
       "100  This same “identity in difference” of original...  \n",
       "101  We noted above that at least many philosophers...  \n",
       "\n",
       "[102 rows x 2 columns]"
      ]
     },
     "execution_count": 13,
     "metadata": {},
     "output_type": "execute_result"
    }
   ],
   "source": [
    "df"
   ]
  },
  {
   "cell_type": "code",
   "execution_count": 14,
   "id": "18afe5aa",
   "metadata": {},
   "outputs": [
    {
     "name": "stdout",
     "output_type": "stream",
     "text": [
      "znajdzka {\"date\":\"2024-10-10T11:09:34.832Z\",\"msg_id\":\"f496945d-e9f0-4c67-95e5-5a08dee69c05\",\"msg_type\":\"execute_request\",\"session\":\"1110b35d-0428-46b3-9a33-1e631ab83b88\",\"username\":\"0c7ec83a-90e3-4685-8f3e-75d86b674bbc\",\"version\":\"5.2\"}\n",
      "znajdzka {}\n",
      "znajdzka {\"cellId\":\"vscode-notebook-cell:/c%3A/Users/aleks/Desktop/Python/AI/definicje/definicje.ipynb#X15sZmlsZQ%3D%3D\"}\n",
      "znajdzka {\"silent\":false,\"store_history\":true,\"user_expressions\":{},\"allow_stdin\":true,\"stop_on_error\":false,\"code\":\"from nltk import word_tokenize\"}\n"
     ]
    }
   ],
   "source": [
    "from nltk import word_tokenize"
   ]
  },
  {
   "cell_type": "code",
   "execution_count": 24,
   "id": "72878eef",
   "metadata": {},
   "outputs": [
    {
     "data": {
      "text/plain": [
       "['Lazy', 'dog', 'jump', 'over', 'fluffy', 'fox', '.']"
      ]
     },
     "execution_count": 24,
     "metadata": {},
     "output_type": "execute_result"
    },
    {
     "name": "stdout",
     "output_type": "stream",
     "text": [
      "znajdzka {\"date\":\"2024-10-07T18:32:32.172Z\",\"msg_id\":\"256884d7-0296-4cd5-a20e-efc5c2188001\",\"msg_type\":\"execute_request\",\"session\":\"9322afaa-1264-4f7c-a7e0-99156304b2b0\",\"username\":\"aa955429-2d1b-4904-9f2a-a5d14a9f649a\",\"version\":\"5.2\"}\n",
      "znajdzka {}\n",
      "znajdzka {}\n",
      "znajdzka {\"silent\":false,\"store_history\":false,\"user_expressions\":{},\"allow_stdin\":false,\"stop_on_error\":false,\"code\":\"def __jupyter_exec_background__():\\n    from IPython.display import display\\n    from threading import Thread\\n    from traceback import format_exc\\n\\n    # First send a dummy response to get the display id.\\n    # Later we'll send the real response with the actual data.\\n    # And that can happen much later even after the execution completes,\\n    # as that response will be sent from a bg thread.\\n    output = display({\\\"application/vnd.vscode.bg.execution.55\\\": \\\"\\\"}, raw=True, display_id=True)\\n\\n    def do_implementation():\\n        return get_ipython().kernel.do_complete(\\\"def make_bag_of_words(data:pd.DataFrame)->dict:\\\\r\\\\n    bag_of_words = {}\\\\r\\\\n    words = data.to_dict('records')\\\\r\\\\n    for lbl in words:\\\\r\\\\n        for sent in lbl.values():\\\\r\\\\n            p\\\\r\\\\n            words = word_tokenize(sent)\\\\r\\\\n            for word in words:\\\\r\\\\n                if word not in bag_of_words:\\\\r\\\\n                    bag_of_words[word] = 0\\\\r\\\\n                else:\\\\r\\\\n                    bag_of_words[word]+=1\\\\r\\\\n    return bag_of_words\\\", 180)\\n\\n    def bg_main():\\n        try:\\n            output.update({\\\"application/vnd.vscode.bg.execution.55.result\\\": do_implementation()}, raw=True)\\n        except Exception as e:\\n            output.update({\\\"application/vnd.vscode.bg.execution.55.error\\\": format_exc()}, raw=True)\\n\\n\\n    Thread(target=bg_main, daemon=True).start()\\n\\n\\n__jupyter_exec_background__()\\ndel __jupyter_exec_background__\"}\n"
     ]
    }
   ],
   "source": [
    "word_tokenize('Lazy dog jump over fluffy fox.')"
   ]
  },
  {
   "cell_type": "code",
   "execution_count": 15,
   "id": "87b882d5-f978-455e-9dbf-8458a7df9784",
   "metadata": {},
   "outputs": [
    {
     "name": "stdout",
     "output_type": "stream",
     "text": [
      "znajdzka {\"date\":\"2024-10-10T11:09:38.427Z\",\"msg_id\":\"05d12197-de5f-408b-a731-50d9011af5c6\",\"msg_type\":\"execute_request\",\"session\":\"1110b35d-0428-46b3-9a33-1e631ab83b88\",\"username\":\"0c7ec83a-90e3-4685-8f3e-75d86b674bbc\",\"version\":\"5.2\"}\n",
      "znajdzka {}\n",
      "znajdzka {\"cellId\":\"vscode-notebook-cell:/c%3A/Users/aleks/Desktop/Python/AI/definicje/definicje.ipynb#X20sZmlsZQ%3D%3D\"}\n",
      "znajdzka {\"silent\":false,\"store_history\":true,\"user_expressions\":{},\"allow_stdin\":true,\"stop_on_error\":false,\"code\":\"def make_bag_of_words(data:pd.DataFrame)->dict:\\n    bag_of_words = {}\\n    data = data.to_dict('records')\\n    count = 1\\n    for lbl in data:\\n        for sent in lbl.values():\\n            if type(sent) is float:\\n                continue\\n            words = word_tokenize(sent)\\n\\n            for word in words:\\n                if word not in bag_of_words:\\n                    bag_of_words[word] = count\\n                if word in bag_of_words:\\n                    count += 1\\n                \\n    return bag_of_words\"}\n"
     ]
    }
   ],
   "source": [
    "def make_bag_of_words(data:pd.DataFrame)->dict:\n",
    "    bag_of_words = {}\n",
    "    data = data.to_dict('records')\n",
    "    count = 1\n",
    "    for lbl in data:\n",
    "        for sent in lbl.values():\n",
    "            if type(sent) is float:\n",
    "                continue\n",
    "            words = word_tokenize(sent)\n",
    "\n",
    "            for word in words:\n",
    "                if word not in bag_of_words:\n",
    "                    bag_of_words[word] = count\n",
    "                if word in bag_of_words:\n",
    "                    count += 1\n",
    "                \n",
    "    return bag_of_words"
   ]
  },
  {
   "cell_type": "code",
   "execution_count": 16,
   "id": "b7399cde-4fb9-4dfe-a737-63aa683d3dd1",
   "metadata": {},
   "outputs": [
    {
     "name": "stdout",
     "output_type": "stream",
     "text": [
      "znajdzka {\"date\":\"2024-10-10T11:09:39.689Z\",\"msg_id\":\"2ceaba6b-5f76-414b-a0e7-a9e7d06e5376\",\"msg_type\":\"execute_request\",\"session\":\"1110b35d-0428-46b3-9a33-1e631ab83b88\",\"username\":\"0c7ec83a-90e3-4685-8f3e-75d86b674bbc\",\"version\":\"5.2\"}\n",
      "znajdzka {}\n",
      "znajdzka {\"cellId\":\"vscode-notebook-cell:/c%3A/Users/aleks/Desktop/Python/AI/definicje/definicje.ipynb#X21sZmlsZQ%3D%3D\"}\n",
      "znajdzka {\"silent\":false,\"store_history\":true,\"user_expressions\":{},\"allow_stdin\":true,\"stop_on_error\":false,\"code\":\"\\nbag_of_words = make_bag_of_words(df)\"}\n"
     ]
    }
   ],
   "source": [
    "\n",
    "bag_of_words = make_bag_of_words(df)"
   ]
  },
  {
   "cell_type": "code",
   "execution_count": 21,
   "id": "ba9b36b5-e54d-456e-8abf-f2241dde0f76",
   "metadata": {},
   "outputs": [],
   "source": [
    "def convert_words_to_vectors(data:pd.DataFrame, bag_of_words:dict)->list:\n",
    "    data = data.to_dict('records')\n",
    "    vectors = []\n",
    "\n",
    "    for row in data:\n",
    "        for lbl, sent in row.items():\n",
    "            if type(sent) is float:\n",
    "                continue\n",
    "            words = word_tokenize(sent)\n",
    "            \n",
    "            vecs = [bag_of_words[word] for word in words]\n",
    "            if lbl == 'no_definition':\n",
    "                vectors.append({0:vecs})\n",
    "            else:\n",
    "                vectors.append({1:vecs})\n",
    "    return vectors"
   ]
  },
  {
   "cell_type": "code",
   "execution_count": 23,
   "id": "43d00b42",
   "metadata": {},
   "outputs": [
    {
     "name": "stdout",
     "output_type": "stream",
     "text": [
      "znajdzka {\"date\":\"2024-10-10T11:14:25.928Z\",\"msg_id\":\"88e23c6b-19e5-45fa-849f-4bdc999c27c4\",\"msg_type\":\"execute_request\",\"session\":\"1110b35d-0428-46b3-9a33-1e631ab83b88\",\"username\":\"0c7ec83a-90e3-4685-8f3e-75d86b674bbc\",\"version\":\"5.2\"}\n",
      "znajdzka {}\n",
      "znajdzka {}\n",
      "znajdzka {\"silent\":false,\"store_history\":false,\"user_expressions\":{},\"allow_stdin\":false,\"stop_on_error\":false,\"code\":\"def __jupyter_exec_background__():\\n    from IPython.display import display\\n    from threading import Thread\\n    from traceback import format_exc\\n\\n    # First send a dummy response to get the display id.\\n    # Later we'll send the real response with the actual data.\\n    # And that can happen much later even after the execution completes,\\n    # as that response will be sent from a bg thread.\\n    output = display({\\\"application/vnd.vscode.bg.execution.68\\\": \\\"\\\"}, raw=True, display_id=True)\\n\\n    def do_implementation():\\n        return get_ipython().kernel.do_complete(\\\"de\\\", 2)\\n\\n    def bg_main():\\n        try:\\n            output.update({\\\"application/vnd.vscode.bg.execution.68.result\\\": do_implementation()}, raw=True)\\n        except Exception as e:\\n            output.update({\\\"application/vnd.vscode.bg.execution.68.error\\\": format_exc()}, raw=True)\\n\\n\\n    Thread(target=bg_main, daemon=True).start()\\n\\n\\n__jupyter_exec_background__()\\ndel __jupyter_exec_background__\"}\n"
     ]
    }
   ],
   "source": [
    "words_to_vectors = convert_words_to_vectors(df, bag_of_words)"
   ]
  },
  {
   "cell_type": "code",
   "execution_count": 28,
   "id": "6a83a467",
   "metadata": {},
   "outputs": [],
   "source": [
    "def labels_texts(words_to_vectors:list):\n",
    "    labels = []\n",
    "    texts = []\n",
    "\n",
    "    for vector in words_to_vectors:\n",
    "        for label, text in vector.items():\n",
    "            labels.append(label)\n",
    "            texts.append(text)\n",
    "    return labels, texts\n"
   ]
  },
  {
   "cell_type": "code",
   "execution_count": 30,
   "id": "e9be5421",
   "metadata": {},
   "outputs": [
    {
     "name": "stdout",
     "output_type": "stream",
     "text": [
      "znajdzka {\"date\":\"2024-10-10T11:21:53.641Z\",\"msg_id\":\"6d3d8c16-2416-4eed-98d2-f11ed2424dc5\",\"msg_type\":\"execute_request\",\"session\":\"1110b35d-0428-46b3-9a33-1e631ab83b88\",\"username\":\"0c7ec83a-90e3-4685-8f3e-75d86b674bbc\",\"version\":\"5.2\"}\n",
      "znajdzka {}\n",
      "znajdzka {}\n",
      "znajdzka {\"silent\":false,\"store_history\":false,\"user_expressions\":{},\"allow_stdin\":false,\"stop_on_error\":false,\"code\":\"def __jupyter_exec_background__():\\n    from IPython.display import display\\n    from threading import Thread\\n    from traceback import format_exc\\n\\n    # First send a dummy response to get the display id.\\n    # Later we'll send the real response with the actual data.\\n    # And that can happen much later even after the execution completes,\\n    # as that response will be sent from a bg thread.\\n    output = display({\\\"application/vnd.vscode.bg.execution.153\\\": \\\"\\\"}, raw=True, display_id=True)\\n\\n    def do_implementation():\\n        return get_ipython().kernel.do_complete(\\\"fo\\\", 2)\\n\\n    def bg_main():\\n        try:\\n            output.update({\\\"application/vnd.vscode.bg.execution.153.result\\\": do_implementation()}, raw=True)\\n        except Exception as e:\\n            output.update({\\\"application/vnd.vscode.bg.execution.153.error\\\": format_exc()}, raw=True)\\n\\n\\n    Thread(target=bg_main, daemon=True).start()\\n\\n\\n__jupyter_exec_background__()\\ndel __jupyter_exec_background__\"}\n"
     ]
    }
   ],
   "source": [
    "labels, texts = labels_texts(words_to_vectors)"
   ]
  },
  {
   "cell_type": "code",
   "execution_count": 31,
   "id": "c8a6a2c6",
   "metadata": {},
   "outputs": [
    {
     "name": "stdout",
     "output_type": "stream",
     "text": [
      "1 [1, 2, 3, 4, 5, 6, 7, 8, 9, 10, 11, 12, 8, 14, 15, 16, 17, 18, 19, 10, 21, 4, 17, 24, 25, 26, 7, 28, 29, 30, 31, 26, 33, 7, 35, 36, 7, 38, 39, 40]\n",
      "0 [41, 17, 43, 44, 12, 46, 47, 48, 49, 50, 36, 52, 53, 40]\n",
      "1 [55, 56, 4, 58, 17, 60, 17, 12, 56, 4, 65, 17, 67, 65, 69, 12, 71, 26, 30, 67, 65, 17, 77, 12, 71, 26, 7, 82, 30, 84, 40]\n",
      "0 [86, 87, 88, 89, 90, 17, 18, 93, 94, 7, 8, 97, 10, 99, 36, 101, 4, 103, 104, 105, 7, 107, 108, 36, 110, 40]\n",
      "1 [112, 113, 114, 115, 26, 117, 118, 119, 120, 4, 122, 123, 26, 7, 28, 127, 9, 26, 17, 58, 122, 133, 134, 4, 136, 137, 138, 139, 28, 141, 26, 143, 36, 145, 31, 2, 148, 149, 150, 151, 4, 90, 17, 18, 156, 157, 158, 159, 123, 26, 162, 8, 164, 165, 26, 36, 168, 26, 162, 8, 31, 40]\n",
      "0 [41, 17, 24, 177, 4, 8, 133, 181, 28, 183, 10, 185, 186, 10, 188, 189, 190, 36, 10, 8, 194, 4, 8, 190, 17, 199, 200, 201, 40]\n",
      "1 [203, 204, 205, 206, 12, 18, 209, 10, 211, 212, 8, 214, 10, 216, 217, 7, 8, 220, 10, 222, 26, 7, 8, 226, 10, 228, 229, 26, 36, 7, 233, 8, 235, 10, 237, 162, 220, 40, 241, 10, 243, 30, 203, 246, 205, 248, 216, 217, 251, 252, 253, 18, 255, 256, 8, 258, 259, 260, 10, 8, 220, 10, 18, 266, 267, 268, 269, 270, 271, 4, 8, 226, 10, 229, 277, 278, 162, 216, 217, 12, 71, 8, 285, 286, 287, 10, 289, 290, 7, 228, 293, 36, 4, 296, 297, 298, 8, 285, 259, 235, 10, 228, 293, 26, 307, 17, 12, 310, 8, 220, 10, 314, 40]\n",
      "0 [316, 317, 318, 319, 320, 321, 322, 38, 324, 4, 326, 8, 328, 36, 330, 10, 332, 36, 10, 335, 211, 337, 296, 339, 40]\n",
      "1 [341, 17, 343, 162, 296, 346, 26, 36, 349, 235, 17, 12, 353, 8, 38, 356, 10, 358, 40]\n",
      "0 [360, 12, 362, 363, 26, 365, 12, 367, 368, 26, 370, 256, 122, 373, 143, 375, 376, 30, 378, 26, 380, 381, 12, 67, 384, 385, 36, 387, 310, 212, 8, 391, 10, 358, 40]\n",
      "1 [395, 396, 397, 398, 17, 8, 398, 307, 403, 158, 18, 406, 36, 18, 409, 410, 36, 258, 410, 8, 406, 17, 18, 406, 419, 307, 8, 409, 17, 424, 40, 41, 17, 428, 429, 12, 71, 18, 433, 26, 320, 436, 437, 26, 439, 419, 18, 409, 143, 375, 445, 446, 4, 8, 409, 71, 277, 162, 18, 406, 40, 395, 397, 398, 17, 67, 461, 462, 463, 307, 18, 466, 467, 4, 469, 12, 8, 472, 473, 10, 18, 476, 409, 478, 462, 463, 307, 8, 466, 467, 320, 4, 487, 436, 469, 12, 8, 472, 473, 10, 8, 409, 40]\n",
      "0 [498, 409, 17, 501, 502, 503, 18, 406, 506, 8, 406, 509, 8, 409, 26, 513, 514, 18, 516, 517, 518, 8, 520, 36, 522, 10, 18, 525, 526, 40]\n",
      "1 [395, 529, 10, 531, 17, 164, 10, 8, 285, 537, 36, 539, 540, 7, 542, 543, 26, 36, 546, 8, 529, 10, 550, 10, 8, 318, 554, 555, 7, 557, 558, 40, 560, 181, 562, 563, 564, 251, 8, 567, 568, 26, 150, 571, 26, 573, 26, 36, 576, 40]\n",
      "0 [578, 8, 31, 165, 26, 65, 584, 585, 12, 56, 4, 531, 181, 591, 592, 12, 594, 595, 30, 4, 65, 17, 600, 601, 40]\n",
      "1 [603, 17, 18, 606, 12, 58, 10, 610, 611, 612, 212, 614, 30, 616, 358, 40]\n",
      "0 [619, 620, 10, 622, 623, 4, 622, 17, 627, 18, 629, 30, 631, 4, 633, 634, 212, 122, 133, 7, 639, 10, 616, 642, 26, 644, 26, 30, 647, 40]\n",
      "1 [649, 650, 17, 18, 653, 654, 40, 656, 657, 25, 503, 660, 26, 8, 663, 206, 12, 18, 46, 10, 669, 670, 671, 337, 8, 339, 10, 8, 677, 678, 26, 680, 7, 682, 26, 36, 670, 317, 687, 12, 689, 690, 6, 7, 693, 256, 695, 256, 44, 16, 36, 700, 568, 317, 627, 704, 12, 8, 707, 708]\n",
      "0 [395, 710, 10, 712, 713, 714, 30, 716, 717, 478, 719, 31, 721, 122, 259, 724, 7, 726, 10, 728, 40]\n",
      "1 [730, 17, 8, 733, 4, 735, 736, 17, 738, 150, 740, 40]\n",
      "0 [742, 743, 7, 18, 746, 747, 584, 12, 750, 751, 752, 753, 7, 307, 122, 133, 758, 759, 7, 595, 12, 463, 40]\n",
      "1 [498, 766, 17, 18, 769, 10, 18, 772, 773, 670, 775, 8, 777, 36, 779, 8, 781, 10, 783, 40]\n",
      "0 [785, 786, 787, 4, 789, 200, 8, 792, 793, 794, 18, 796, 10, 349, 772, 800, 26, 18, 803, 10, 349, 806, 647, 40]\n",
      "1 [809, 17, 8, 812, 10, 18, 815, 816, 10, 18, 819, 10, 821, 30, 10, 8, 825, 826, 10, 122, 829, 40, 831, 8, 833, 9, 26, 809, 837, 838, 7, 8, 841, 10, 843, 844, 36, 31, 847, 40]\n",
      "0 [849, 10, 8, 852, 853, 150, 855, 181, 12, 487, 150, 860, 67, 633, 863, 12, 865, 212, 867, 49, 67, 870, 6, 436, 258, 874, 320, 8, 870, 10, 855, 880, 16, 882, 883, 212, 189, 886, 36, 616, 889, 40]\n",
      "1 [891, 892, 18, 894, 29, 10, 228, 898, 419, 8, 901, 36, 903, 10, 905, 162, 907, 40]\n",
      "0 [909, 7, 911, 912, 913, 914, 915, 883, 12, 918, 8, 920, 10, 922, 4, 103, 285, 259, 419, 928, 929, 18, 46, 10, 222, 17, 18, 936, 26, 36, 939, 929, 65, 942, 12, 71, 945, 18, 947, 200, 4, 950, 793, 40]\n",
      "1 [953, 17, 18, 956, 957, 6, 959, 16, 961, 962, 256, 18, 573, 966, 8, 968, 10, 307, 17, 972, 410, 200, 975, 164, 10, 8, 979, 980, 6, 982, 16, 17, 972, 26, 36, 988, 759, 40, 991, 992, 592, 150, 995, 996, 10, 216, 999, 514, 30, 181, 1003, 1004, 2, 26, 1007, 36, 1009, 40]\n",
      "0 [1011, 122, 1013, 1014, 1015, 36, 1017, 6, 1019, 16, 1021, 4, 633, 385, 1025, 1026, 87, 1028, 1029, 953, 150, 8, 1033, 1034, 7, 18, 1037, 1038, 6, 30, 26, 1042, 18, 1044, 26, 1046, 1047, 16, 40]\n",
      "1 [1050, 1051, 1052, 1053, 7, 8, 543, 10, 1058, 40, 395, 663, 137, 1053, 143, 181, 18, 1067, 10, 1028, 7, 8, 901, 10, 429, 40, 831, 1077, 26, 8, 1080, 17, 4, 26, 419, 28, 1086, 1087, 26, 90, 103, 318, 554, 1093, 30, 1095, 10, 1097, 30, 1099, 40, 831, 1102, 26, 419, 747, 18, 137, 1108, 143, 17, 614, 670, 1113, 4, 1115, 36, 1117, 1118, 36, 8, 1121, 1122, 36, 1124, 30, 1126, 1127, 1128, 7, 8, 1131, 40]\n",
      "0 [395, 1134, 1135, 17, 4, 26, 410, 367, 368, 487, 381, 26, 90, 17, 591, 406, 1149, 268, 387, 148, 1153, 40]\n",
      "1 [1155, 10, 1157, 103, 1159, 1160, 12, 310, 8, 1164, 10, 576, 26, 1168, 26, 36, 1171, 503, 1173, 1174, 1175, 268, 103, 1178, 40, 1180, 620, 1182, 12, 1184, 36, 1186, 911, 1188, 212, 67, 65, 17, 12, 71, 1195, 1196, 1197, 1198, 26, 1200, 26, 212, 67, 65, 17, 12, 71, 1208, 26, 1210, 26, 36, 1213, 1196, 1215, 1216, 40]\n",
      "0 [395, 1219, 10, 296, 1222, 1223, 162, 1225, 633, 310, 1228, 30, 1230, 40, 1232, 498, 181, 18, 1216, 30, 1238, 12, 1240, 1241, 1003, 256, 65, 17, 1246, 7, 1248, 9, 419, 498, 12, 487, 1241, 26, 256, 1257, 1258, 1259, 26, 1261, 1262, 162, 8, 1164, 10, 1267, 17, 1269, 1270, 1271, 26, 65, 17, 114, 1276, 40, 119, 1279, 1246, 419, 1282, 36, 1284, 12, 1240, 150, 616, 1289, 40]\n",
      "1 [203, 1292, 1293, 205, 206, 12, 1293, 4, 1299, 162, 1301, 1292, 1303, 26, 30, 162, 8, 1308, 1309, 36, 1311, 10, 1313, 7, 1315, 1316, 26, 1318, 26, 1320, 26, 1322, 18, 1324, 956, 1326, 40]\n",
      "0 [1328, 4, 1330, 10, 1332, 1333, 17, 1335, 7, 18, 1338, 143, 375, 1341, 26, 2, 103, 1345, 1346, 150, 233, 1349, 1293, 7, 18, 1353, 4, 1355, 1356, 642, 478, 1359, 18, 1361, 10, 1349, 1364, 40]\n",
      "1 [395, 1367, 1368, 17, 18, 1371, 1372, 1373, 503, 1375, 1376, 7, 8, 1379, 10, 188, 1382, 7, 8, 1385, 10, 1387, 40, 395, 1367, 1034, 17, 18, 1394, 1034, 307, 1397, 1398, 7, 1400, 1401, 1402, 40]\n",
      "0 [1232, 1405, 317, 1407, 1093, 10, 1188, 30, 1412, 26, 268, 1415, 1416, 478, 31, 1093, 10, 1188, 30, 1412, 436, 7, 1426, 10, 1428, 320, 1430, 7, 1426, 10, 1434, 17, 1436, 30, 1438, 506, 633, 1441, 40]\n",
      "1 [395, 710, 10, 1446, 17, 105, 12, 1450, 12, 18, 1453, 1454, 10, 1456, 1230, 4, 103, 429, 10, 256, 445, 319, 419, 1359, 1467, 256, 88, 1470, 1471, 883, 12, 865, 67, 31, 1477, 103, 1479, 36, 1481, 26, 12, 1484, 1485, 150, 1487, 26, 12, 1490, 616, 1492, 36, 1494, 26, 36, 12, 1267, 419, 616, 1501, 40]\n",
      "0 [1503, 1504, 10, 1446, 256, 445, 1509, 12, 1511, 1512, 10, 1514, 1471, 883, 12, 1518, 1519, 7, 639, 10, 18, 1067, 10, 1526, 1527, 478, 1529, 466, 40]\n",
      "1 [395, 870, 10, 1535, 1536, 1537, 158, 1539, 222, 36, 616, 1543, 26, 1545, 1537, 150, 33, 1549, 36, 1551, 10, 31, 936, 40]\n",
      "0 [1556, 1557, 7, 1559, 1560, 307, 26, 1563, 8, 1565, 26, 200, 33, 8, 1570, 36, 1572, 1573, 1574, 26, 1576, 1577, 36, 31, 1580, 256, 1582, 40]\n",
      "1 [1584, 7, 349, 1587, 1588, 7, 293, 270, 206, 12, 8, 89, 7, 8, 1598, 10, 1600, 1601, 7, 18, 255, 1605, 1606, 6, 1608, 8, 1610, 162, 228, 429, 1614, 1615, 36, 1615, 1270, 478, 1620, 10, 1622, 12, 1624, 10, 1626, 419, 1628, 1629, 16, 40]\n",
      "0 [1632, 1633, 10, 1635, 7, 8, 543, 10, 220, 1641, 1642, 36, 1644, 40]\n",
      "1 [1646, 103, 8, 1649, 10, 1332, 367, 368, 36, 758, 26, 268, 634, 1659, 972, 36, 1662, 12, 1664, 26, 268, 103, 1668, 10, 8, 1671, 10, 8, 1131, 40]\n",
      "0 [1676, 1677, 17, 18, 1680, 26, 1682, 6, 1677, 16, 1682, 6, 1677, 16, 6, 8, 1692, 10, 1677, 16, 17, 8, 1046, 10, 1026, 1701, 200, 307, 1677, 1705, 40]\n",
      "1 [1707, 17, 1709, 18, 1711, 398, 1713, 18, 1715, 36, 18, 1718, 1719, 26, 36, 17, 429, 12, 71, 18, 287, 7, 307, 1730, 10, 1732, 1733, 33, 616, 36, 18, 1715, 143, 375, 1741, 503, 26, 419, 1745, 26, 1747, 1748, 1749, 708, 18, 1752, 1753, 40]\n",
      "0 [1755, 1756, 4, 8, 573, 10, 1761, 17, 137, 1764, 1765, 143, 1767, 17, 26, 4, 911, 1772, 1773, 1774, 17, 1776, 1777, 962, 478, 33, 18, 1782, 36, 18, 1785, 1014]\n",
      "1 [1787, 17, 8, 1790, 4, 67, 1793, 58, 18, 429, 26, 1798, 26, 1800, 6, 30, 1248, 31, 19, 10, 367, 1808, 16, 1223, 436, 162, 349, 1814, 1815, 26, 320, 278, 162, 349, 966, 26, 30, 8, 724, 65, 721, 26, 7, 8, 1831, 1832, 10, 307, 65, 17, 18, 1668, 40]\n",
      "0 [1840, 1841, 419, 1843, 36, 1845, 26, 256, 1848, 256, 65, 1851, 1852, 26, 17, 1855, 256, 1857, 503, 1859, 1860, 220, 256, 1863, 503, 216, 36, 1867, 217, 385, 1870, 65]\n",
      "1 [1872, 26, 256, 1875, 1876, 26, 17, 18, 1880, 472, 1882, 4, 17, 1885, 7, 18, 1888, 162, 8, 1668, 10, 719, 1894, 419, 8, 1897, 10, 8, 31, 26, 419, 8, 31, 143, 375, 1907, 26, 36, 4, 1641, 28, 1913, 10, 1915, 40]\n",
      "0 [1917, 296, 1919, 181, 1921, 1922, 26, 1924, 134, 436, 1271, 1928, 67, 8, 1164, 10, 4, 203, 1935, 773, 205, 17, 30, 1149, 65, 387, 148, 4, 1164, 40]\n",
      "1 [1947, 693, 17, 8, 356, 10, 8, 1954, 7, 307, 1957, 1958, 10, 1960, 1961, 1962, 1963, 150, 1965, 12, 8, 1968, 6, 30, 1971, 16, 10, 1974, 1961, 26, 1175, 8, 1963, 7, 1981, 517, 148, 563, 1985, 503, 1987, 10, 8, 1961, 40]\n",
      "0 [1232, 1993, 103, 1995, 503, 296, 26, 1999, 4, 18, 2002, 2003, 2004, 18, 2006, 67, 12, 487, 200, 2011, 1313, 1046, 1175, 4, 2006, 181, 122, 123, 40]\n",
      "1 [2021, 17, 2023, 12, 8, 356, 36, 2028, 10, 1642, 36, 2032, 7, 2034, 222, 40]\n",
      "0 [395, 1080, 4, 1752, 2041, 2042, 258, 12, 2045, 4, 385, 2048, 12, 2050, 7, 2052, 150, 1487, 181, 18, 2057, 2058, 26, 320, 8, 2057, 2063, 2064, 258, 12, 1752, 2041, 1875, 7, 18, 2072, 2073, 287, 26, 256, 2077, 10, 18, 1332, 183]\n",
      "1 [2082, 18, 1453, 1454, 10, 2087, 772, 26, 1960, 26, 36, 2093, 2094, 26, 8, 663, 203, 2099, 205, 2101, 2102, 12, 1587, 772, 36, 2107, 2108, 40, 831, 1587, 2112, 2113, 26, 2099, 1851, 2117, 256, 2119, 1124, 2121, 18, 2123, 419, 164, 30, 1124, 10, 8, 2130, 2131, 1270, 8, 2134, 10, 2136, 2137, 6, 30, 203, 735, 2142, 205, 16, 2145, 7, 8, 1131, 2149, 6, 203, 1960, 2153, 205, 16, 26, 8, 716, 2159, 10, 2161, 6, 30, 2164, 2165, 16, 2167, 10, 772, 26, 1960, 26, 36, 2093, 905, 6, 203, 2178, 205, 30, 203, 2182, 205, 16, 26, 18, 792, 772, 2189, 343, 162, 2137, 2193, 10, 2195, 2196, 6, 8, 203, 792, 2137, 2189, 205, 16, 26, 8, 328, 10, 2209, 1313, 2211, 6, 8, 203, 2215, 2216, 205, 16, 26, 256, 695, 256, 8, 2224, 4, 2226, 2227, 200, 8, 2230, 10, 201, 164, 2234, 2235, 773, 7, 307, 852, 391, 10, 88, 2243, 148, 2245, 6, 203, 792, 2249, 205, 16, 40]\n",
      "0 [2253, 2254, 2255, 2256, 2101, 2102, 419, 145, 2261, 6, 419, 747, 26, 2266, 12, 2268, 8, 2270, 10, 18, 2273, 2142, 16, 26, 2277, 2278, 2279, 7, 145, 88, 2283, 40]\n",
      "1 [2285, 17, 8, 2288, 30, 2290, 595, 7, 18, 2294, 12, 2296, 30, 2298, 478, 18, 2301, 40]\n",
      "0 [2303, 2, 2305, 4, 2307, 517, 71, 2310, 2164, 410, 18, 2294, 2315, 8, 2317, 2318, 1494, 36, 644, 200, 8, 1606, 10, 2326, 40]\n",
      "1 [137, 2329, 143, 17, 18, 1164, 663, 26, 2336, 2337, 150, 2339, 30, 2341, 40]\n",
      "0 [831, 296, 2345, 65, 584, 4, 18, 693, 10, 2352, 17, 7, 2355, 10, 2357, 18, 1077, 693, 10, 2339, 26, 36, 2365, 134, 436, 2368, 8, 1882, 158, 8, 318, 40]\n",
      "1 [2375, 103, 122, 2378, 2345, 356, 419, 2382, 36, 2384, 40, 2386, 26, 2388, 2389, 10, 8, 1131, 2393, 2394, 256, 1649, 10, 365, 26, 162, 18, 2402, 150, 1400, 2405, 1649, 40, 6, 137, 316, 103, 256, 145, 2394, 7, 8, 2417, 256, 90, 103, 2421, 7, 8, 2424, 40, 143, 16]\n",
      "0 [2428, 8, 2430, 26, 90, 17, 1077, 2435, 4, 633, 385, 436, 2440, 419, 67, 633, 271, 12, 71, 2447, 2448, 30, 1332, 40]\n",
      "1 [2452, 256, 8, 2455, 10, 2457, 17, 2459, 150, 853, 4, 2463, 506, 2465, 150, 2467, 2468, 642, 36, 8, 2472, 10, 370, 642, 26, 285, 2478, 2479, 40]\n",
      "0 [2481, 150, 8, 747, 105, 2486, 26, 10, 18, 2073, 2491, 10, 2493, 2494, 26, 65, 2497, 2498, 670, 103, 2501, 36, 1484, 2504, 12, 31, 2498, 26, 1748, 670, 487, 436, 2513, 8, 141, 40]\n",
      "1 [2517, 17, 18, 10, 2521, 2522, 17, 2524]\n",
      "0 [395, 2526, 10, 18, 2529, 26, 150, 1965, 12, 18, 2535, 26, 17, 18, 2539, 2540, 26, 4, 17, 26, 18, 2540, 150, 18, 2549, 2550, 700, 567, 2553, 103, 1539, 26, 2557, 26, 36, 2560, 40]\n",
      "1 [2562, 2563, 17, 26, 2336, 2567, 26, 18, 2570, 2571, 700, 365, 385, 94, 478, 2535, 12, 2535, 40]\n",
      "0 [1232, 1118, 2583, 58, 2209, 26, 1345, 1614, 2589, 65, 26, 785, 136, 436, 2595, 40]\n",
      "1 [395, 1790, 10, 2600, 2601, 6, 2603, 16, 2605, 4, 1118, 385, 436, 2610, 2611, 30, 2613, 2614, 7, 1248, 1965, 40]\n",
      "0 [395, 1135, 17, 436, 258, 4, 2625, 2626, 10, 296, 183, 103, 2631, 12, 2633, 478, 2635, 2636, 26, 320, 269, 4, 90, 17, 2643, 12, 71, 18, 156, 2648, 150, 8, 2072, 1080, 10, 2654, 2655, 7, 370, 1426, 40]\n",
      "1 [2660, 17, 18, 2663, 10, 2589, 212, 164, 143, 375, 2670, 2671, 2672, 26, 30, 2675, 2072, 2677, 708, 26, 367, 368, 30, 2683]\n",
      "0 [395, 2685, 10, 18, 2688, 693, 12, 2691, 1313, 2693, 7, 8, 2696, 2697, 17, 2699, 2700, 12, 8, 2703, 10, 8, 693, 10, 2708, 40]\n",
      "1 [203, 2711, 205, 103, 2714, 2715, 267, 911, 557, 620, 103, 8, 2722, 40, 1755, 103, 2726, 26, 28, 103, 2730, 267, 28, 103, 1086, 26, 28, 1077, 267, 28, 103, 1124, 2742, 424, 26, 28, 1126, 40]\n",
      "0 [2748, 2749, 2750, 18, 319, 2753, 10, 8, 2756, 7, 2758, 2759, 162, 203, 395, 2763, 10, 2765, 205, 36, 203, 395, 2770, 2771, 40, 205]\n",
      "1 [2774, 2748, 136, 122, 2778, 2779, 7, 36, 158, 8, 2784, 10, 2786, 26, 384, 36, 543, 40, 2792, 2793, 2794, 2795, 26, 395, 2798, 10, 2800, 6, 2802, 16, 26, 17, 18, 2807, 2808, 10, 2786, 26, 384, 26, 543, 26, 36, 472, 2818, 4, 181, 476, 883, 370, 2824, 256, 203, 8, 2828, 10, 429, 205, 36, 8, 2834, 143, 375, 2837, 10, 8, 1131, 203, 256, 164, 2844, 2845, 26, 2847, 2848, 205, 6, 2851, 2852, 16, 40]\n",
      "0 [2855, 26, 150, 18, 2859, 10, 557, 2862, 2863, 2864, 12, 2866, 36, 2868, 2869, 7, 2871, 36, 2873, 26, 2875, 12, 2877, 143, 375, 2880, 2711, 36, 2883, 409, 2885, 2730, 2887, 26, 2889, 912, 2891, 36, 2893, 2894, 503, 18, 2897, 10, 1315, 2900, 10, 429, 26, 36, 18, 2807, 2209, 2908, 2909, 150, 2911, 12, 2824, 36, 1426, 478, 2917, 26, 2919, 26, 36, 2922, 40]\n",
      "1 [2924, 2, 148, 2927, 2928, 2929, 150, 18, 2897, 10, 2934, 2935, 616, 2937, 2938, 2939, 2922, 26, 2942, 26, 2944, 26, 36, 542, 40, 2949, 268, 148, 2952, 478, 18, 2807, 2956, 10, 2824, 36, 620, 162, 307, 12, 2964, 7, 2966, 616, 2670, 894, 557, 2971, 40, 656, 18, 2975, 2924, 2, 148, 2979, 563, 2981, 2982, 12, 8, 2985, 2560, 251, 2988, 26, 1954, 10, 1479, 26, 36, 557, 1131, 211, 40]\n",
      "0 [2999, 633, 148, 318, 1477, 498, 36, 3006, 26, 10, 3009, 164, 17, 3012, 3013, 3014, 2121, 1529, 3017, 181, 3019, 3020, 30, 18, 3023, 3024, 26, 56, 40]\n",
      "1 [395, 1080, 10, 576, 3032, 3033, 3034, 33, 7, 3037, 26, 36, 7, 3041, 36, 772, 543, 40, 3046, 2042, 65, 12, 1539, 642, 26, 12, 3054, 26, 36, 12, 689, 2145, 26, 36, 633, 3063, 7, 719, 2345, 4, 410, 268, 103, 3071, 296, 17, 18, 3075, 26, 3077, 2164, 3079, 26, 406, 12, 3083, 1487, 40, 3086, 26, 576, 136, 564, 256, 164, 10, 8, 3095, 3096, 3097, 6, 36, 1258, 256, 8, 285, 259, 10, 8, 3095, 16]\n",
      "0 [3109, 8, 3111, 10, 3113, 3114, 26, 90, 736, 71, 18, 3120, 3121, 26, 200, 307, 3125, 7, 3054, 385, 71, 3130, 36, 89, 385, 71, 3135, 40]\n",
      "1 [3137, 136, 18, 3140, 3141, 26, 36, 188, 3145, 317, 3147, 150, 557, 2526, 40, 3152, 150, 8, 557, 3156, 10, 188, 3159, 36, 10, 3162, 26, 785, 3165, 3166, 18, 2807, 557, 3170, 7, 188, 3173, 26, 3175, 3176, 36, 298, 26, 689, 3181, 26, 3183, 3184, 26, 3186, 12, 3188, 3189, 3190, 26, 36, 188, 258, 2756, 26, 3197, 162, 8, 3200, 10, 3202, 40]\n",
      "0 [3046, 103, 3206, 150, 381, 3209, 911, 287, 10, 3213, 1487, 26, 307, 17, 3218, 12, 883, 26, 36, 307, 1709, 134, 436, 3227, 3228, 12, 2011, 445, 26, 2254, 12, 71, 3236, 65, 3238, 12, 2011, 2468, 445, 40]\n",
      "1 [3244, 3245, 6, 3247, 16, 17, 8, 319, 3252, 7, 3254, 543, 40, 1503, 3258, 2758, 3254, 3261, 36, 3263, 26, 1046, 8, 1426, 419, 513, 10, 3271, 36, 2696, 2697, 543, 26, 36, 3278, 12, 3280, 18, 3282, 3283, 3284, 7, 3286, 26, 3288, 26, 3037, 26, 772, 543, 26, 558, 26, 36, 31, 3299, 40, 395, 554, 1080, 10, 3245, 143, 375, 203, 3309, 543, 205, 3017, 680, 7, 188, 3316, 3317, 1270, 8, 3320, 10, 3322, 3323, 6, 3325, 26, 3327, 16, 26, 8, 3320, 10, 3333, 3323, 6, 3336, 16, 26, 36, 8, 3320, 10, 8, 3344, 10, 3346, 6, 3348, 16, 3017, 17, 2468, 3353, 40]\n",
      "0 [3355, 3356, 8, 3358, 936, 693, 1270, 3362, 936, 3364, 478, 8, 3367, 1097, 36, 3370, 8, 9, 3373, 503, 3375, 3376, 162, 8, 203, 3380, 205, 36, 1345, 162, 8, 1814, 2117, 40]\n",
      "1 [3389, 3390, 6, 3392, 16, 17, 164, 10, 8, 285, 3282, 3400, 10, 8, 3403, 3404, 2216, 10, 8, 3408, 36, 3410, 3411, 40, 1917, 785, 3415, 258, 8, 127, 3419, 10, 18, 203, 3423, 205, 36, 136, 3427, 3428, 3429, 1102, 200, 8, 3433, 10, 188, 3436, 26, 785, 3439, 3440, 3441, 419, 188, 3444, 3445, 36, 912, 3448, 40]\n",
      "0 [3450, 1026, 26, 65, 17, 269, 1851, 8, 2345, 4, 18, 972, 409, 517, 3464, 3465, 1196, 164, 3468, 164, 143, 375, 194, 26, 256, 506, 164, 17, 3478, 12, 3480, 8, 3482, 12, 3484, 18, 3486, 36, 3488, 3489, 12, 3491, 26, 1860, 164, 3495, 4, 90, 17, 18, 3500, 3501, 4, 164, 517, 2048, 12, 3507, 8, 31, 3510, 40]\n",
      "1 [395, 1164, 10, 3515, 181, 2979, 563, 18, 319, 3521, 253, 3288, 40, 3525, 1026, 8, 287, 2864, 12, 3531, 143, 375, 3534, 26, 2, 148, 3538, 26, 1149, 17, 3515, 1124, 3544, 2121, 3546, 972, 409, 3549, 3550, 7, 296, 1981, 181, 3555, 7, 3557, 3114, 26, 150, 3561, 3562, 18, 1454, 10, 3566, 40, 3568, 28, 3083, 8, 3572, 10, 8, 1981, 36, 1919, 4, 8, 1164, 10, 3515, 17, 137, 3585, 143, 503, 8, 1164, 10, 972, 409, 40, 3594, 108, 1756, 4, 3598, 31, 2121, 3515, 26, 370, 256, 473, 30, 913, 26, 103, 1880, 3544, 40]\n",
      "0 [3613, 26, 419, 747, 26, 65, 3619, 71, 992, 4, 164, 517, 3625, 256, 695, 3628, 26, 478, 8, 1680, 4, 318, 3635, 3636, 148, 3638, 26, 4, 8, 1134, 164, 17, 3645, 4, 65, 1415, 1709, 71, 3651, 3652, 203, 3654, 205, 3636, 12, 3658, 4, 3660, 3636, 3662, 3663, 3664, 256, 1774, 10, 8, 3669, 10, 8, 3672, 3636, 162, 307, 268, 3677, 40]\n",
      "1 [3679, 3680, 26, 670, 2631, 3684, 3685, 3686, 3687, 26, 136, 18, 3691, 10, 8, 3694, 3695, 3696, 10, 3698, 3699, 40, 3701, 8, 285, 3704, 669, 7, 8, 901, 10, 2942, 543, 26, 785, 3135, 3282, 3716, 3717, 8, 3719, 1454, 10, 555, 4, 3724, 478, 4, 3696, 143, 375, 3730, 1888, 150, 3733, 3734, 36, 3736, 267, 3738, 1026, 2942, 2, 3742, 3743, 12, 3745, 3746, 3747, 2, 26, 700, 3751, 317, 285, 3754, 704, 12, 3757, 65, 433, 12, 3761, 680, 150, 188, 1364, 7, 3288, 36, 543, 10, 999, 40, 3701, 8, 3775, 7, 307, 785, 3779, 3780, 3283, 103, 3783, 26, 3785, 26, 3787, 26, 36, 6, 3791, 16, 3793, 40]\n",
      "0 [498, 2700, 26, 1124, 539, 26, 3801, 17, 256, 12, 929, 3806, 26, 256, 3809, 12, 3811, 26, 2196, 3814, 1248, 3041, 777, 162, 8, 3820, 3821, 503, 65, 40]\n",
      "1 [3825, 777, 103, 26, 1271, 26, 777, 307, 3833, 139, 8, 3836, 10, 3041, 2885, 30, 503, 3842, 10, 3844, 10, 3846, 3847, 886, 253, 1487, 40]\n",
      "0 [3852, 17, 1126, 3441, 17, 8, 1605, 3859, 10, 1364, 3862, 26, 7, 1668, 26, 503, 8, 31, 3870, 10, 3872, 3873, 2063, 26, 3876, 1225, 222, 3879, 2189, 478, 3882, 3883, 8, 3885, 10, 3887, 2885, 3889, 478, 3891]\n",
      "1 [3892, 17, 1851, 3895, 7, 127, 293, 3899, 7, 1426, 10, 18, 3904, 10, 894, 2557, 4, 3909, 2034, 2885, 478, 3913, 40]\n",
      "0 [2562, 3704, 3917, 10, 1479, 7, 296, 3922, 26, 2699, 2700, 12, 3927, 3928, 3929, 36, 3931, 3932, 3933, 26, 3935, 4, 3937, 30, 2136, 2137, 772, 3942, 3724, 478, 2468, 396, 3947, 40]\n",
      "1 [3949, 17, 18, 209, 10, 211, 7, 772, 543, 40, 3959, 3960, 1164, 1539, 1168, 36, 1608, 296, 256, 3968, 3075, 3970, 419, 1539, 1168, 40]\n",
      "0 [831, 3976, 143, 3704, 3979, 26, 772, 3734, 17, 3984, 503, 8, 88, 3988, 40, 831, 8, 1808, 10, 529, 26, 3996, 143, 375, 3999, 17, 139, 4002, 36, 296, 1793, 65, 4007, 419, 1026, 26, 3976, 3935, 26, 12, 4015, 12, 18, 4018, 4, 4020, 18, 4022, 670, 385, 4025, 616, 4027, 36, 12, 4030, 616, 777, 12, 296, 4035, 1539, 30, 18, 46, 10, 252, 40]\n",
      "1 [4043, 4044, 17, 18, 3842, 10, 772, 4050, 36, 10, 8, 4054, 3054, 26, 2145, 26, 36, 4060, 419, 772, 4063, 253, 1487, 40]\n",
      "0 [4067, 10, 8, 4070, 26, 30, 4073, 26, 10, 4076, 148, 4078, 4, 4076, 387, 71, 2875, 2868, 49, 4086, 150, 8, 4089, 4090, 40]\n",
      "1 [137, 4093, 143, 385, 1450, 12, 18, 3041, 3988, 36, 3811, 1741, 26, 18, 4106, 4107, 26, 36, 18, 88, 44, 26, 1026, 10, 307, 4117, 503, 3041, 4120, 26, 4106, 1790, 26, 36, 2988]\n",
      "0 [4127, 663, 4129, 206, 12, 8, 4133, 10, 1313, 419, 4137, 12, 4139, 4140, 267, 4142, 663, 4129, 26, 307, 4147, 1313, 478, 4150, 4142, 663, 4129, 26, 17, 12, 28, 4158, 139, 4160, 4161, 320, 17, 4164, 503, 18, 4167, 1238, 40]\n",
      "1 [4170, 721, 259, 4173, 7, 145, 3775, 10, 543, 40, 41, 17, 4182, 12, 911, 3515, 10, 8, 1131, 7, 1077, 36, 10, 8, 472, 708, 7, 1086, 40, 41, 4200, 911, 4202, 256, 252, 36, 911, 4207, 12, 31, 1477, 40]\n",
      "0 [498, 4213, 2063, 4215, 12, 4217, 4, 8, 4220, 17, 1124, 4223, 2121, 436, 26, 30, 4, 65, 17, 1124, 4223, 2121, 28, 4235, 43, 6, 56, 26, 4240, 16, 26, 30, 4, 65, 17, 3889, 1124, 4223, 476, 8, 1774, 4253, 2121, 65, 17, 4257, 1122, 10, 4, 1774, 40]\n",
      "1 [498, 4264, 17, 122, 4267, 4, 17, 436, 4271, 503, 216, 4274, 4275, 40]\n",
      "0 [4277, 10, 87, 992, 433, 4282, 17, 539, 36, 1748, 719, 181, 4289, 563, 4291, 12, 71, 200, 8, 4296, 10, 67, 17, 894, 212, 4302, 40]\n",
      "1 [4304, 17, 8, 4307, 12, 310, 8, 4311, 26, 4313, 26, 4315, 26, 36, 1456, 26, 4320, 36, 4322, 10, 1752, 429, 26, 4327, 26, 36, 44, 40]\n",
      "0 [4332, 7, 4334, 1198, 10, 4337, 4338, 4339, 4340, 162, 18, 4343, 158, 318, 4346, 40]\n",
      "1 [395, 663, 203, 4351, 205, 17, 428, 105, 12, 4357, 318, 2131, 1270, 6, 4362, 16, 8, 1428, 4, 8, 1551, 10, 18, 4371, 148, 506, 268, 1267, 212, 616, 4378, 2494, 26, 36, 6, 4383, 16, 8, 642, 4, 8, 1551, 10, 18, 4371, 4339, 506, 4395, 12, 4397, 6, 30, 518, 16, 4402, 40]\n",
      "0 [1676, 4405, 3063, 212, 4408, 26, 4410, 30, 4412, 26, 2, 3063, 212, 4417, 4418, 26, 2557, 26, 4422, 30, 1606, 26, 1095, 4, 2550, 1026, 911, 1479, 212, 8, 216, 1131, 40]\n",
      "1 [4437, 4438, 103, 4440, 4441, 10, 216, 999, 26, 700, 4447, 2101, 18, 4450, 4451, 40]\n",
      "0 [395, 2570, 2571, 10, 4457, 26, 349, 4460, 150, 8, 2131, 10, 610, 4466, 26, 4468, 26, 36, 4471, 26, 36, 8, 4475, 158, 610, 29, 36, 610, 1588, 1026, 4483, 4484, 36, 259, 853, 419, 4489, 26, 4447, 26, 36, 4494, 40]\n",
      "1 [4496, 17, 7, 8, 4500, 4340, 18, 4503, 10, 4315, 4506, 40, 656, 370, 26, 4457, 4512, 122, 2571, 3355, 12, 1529, 2571, 150, 18, 1588, 4, 17, 7, 28, 287, 3809, 12, 8, 1588, 10, 4532, 1050, 398, 914, 71, 4537, 4538, 36, 4540, 7, 1511, 1954, 40, 4545, 26, 90, 103, 1315, 1093, 10, 4315, 4506, 40, 4496, 17, 18, 4558, 4559, 4560, 10, 2011, 2468, 999, 26, 1748, 17, 1178, 478, 759, 4484, 2885, 10, 373, 4575, 40]\n",
      "0 [4577, 555, 269, 2463, 478, 4582, 237, 162, 4585, 4586, 40]\n",
      "1 [4588, 17, 122, 4591, 237, 4593, 4, 4595, 162, 4597, 555, 4599, 503, 911, 4602, 36, 4604, 4605, 913, 10, 8, 4609, 36, 911, 4612, 12, 4614, 36, 3283, 65, 26, 256, 695, 256, 162, 4597, 555, 4, 4626, 478, 911, 4629, 4630, 913, 10, 8, 1600, 4635, 10, 4637, 36, 4597, 4640, 40]\n",
      "0 [4642, 36, 4644, 4645, 4646, 4647, 419, 4649, 8, 4651, 406, 1270, 268, 429, 4656, 317, 689, 26, 601, 36, 4662, 26, 4664, 4665, 4666, 40]\n",
      "1 [4668, 17, 277, 162, 8, 4673, 4, 633, 487, 436, 865, 8, 1588, 10, 18, 710, 4684, 633, 148, 18, 4688, 10, 4690, 419, 65, 40, 41, 17, 104, 4257, 18, 693, 10, 1588, 307, 368, 4, 203, 633, 4707, 503, 1248, 710, 381, 1124, 2121, 18, 1046, 10, 4656, 267, 8, 710, 17, 2337, 150, 8, 4725, 1046, 10, 4656, 205, 6, 4731, 4732, 26, 4734, 16, 40]\n",
      "0 [4737, 4738, 10, 8, 4741, 4742, 4339, 8, 4745, 4746, 211, 12, 71, 600, 738, 150, 8, 2711, 30, 376, 4, 103, 4759, 12, 4761, 4762]\n",
      "1 [4763, 35, 4765, 4483, 883, 150, 18, 1453, 4771, 10, 1649, 1270, 4775, 36, 4777, 26, 4779, 36, 4781, 26, 4783, 36, 616, 4786, 26, 36, 1241, 4790, 40, 4792, 920, 10, 1400, 1649, 914, 863, 4799, 4800, 7, 4802, 12, 4804, 514, 1318, 26, 4808, 26, 4810, 26, 2394, 26, 4814, 10, 4816, 26, 36, 4819, 10, 1606, 40, 4823, 26, 162, 4826, 4827, 26, 268, 103, 200, 975, 256, 4834, 26, 410, 436, 1124, 1241]\n",
      "0 [55, 4841, 320, 164, 2648, 26, 4846, 633, 517, 3658, 4, 65, 1415, 71, 18, 3019, 4856, 12, 4858, 58, 410, 164, 4862, 436, 3833, 2121, 410, 164, 4862, 3833, 26, 65, 4872, 143, 4874, 3724, 478, 296, 4, 18, 4880, 4881, 17, 3019, 6, 4559, 445, 16, 2121, 122, 4890, 4881, 40]\n",
      "1 [4893, 4894, 103, 4894, 478, 67, 103, 270, 2643, 12, 71, 1987, 320, 4906, 26, 18, 4909, 36, 433, 4912, 12, 8, 4220, 4, 1118, 1705, 40]\n",
      "0 [395, 127, 1080, 10, 296, 3979, 10, 4927, 17, 4, 122, 133, 17, 4933, 3625, 506, 785, 385, 4938, 1248, 1808, 10, 4942, 4, 65, 17, 1246, 419, 614, 12, 4938, 26, 3209, 419, 1332, 203, 4956, 10, 1168, 205, 26, 616, 4962, 26, 36, 1332, 368, 10, 4942, 4, 103, 203, 4972, 2448, 205, 1860, 10, 8, 708, 40]\n",
      "1 [4980, 17, 4982, 1216, 40, 4985, 4986, 6, 30, 4989, 16, 4991, 4927, 40, 360, 12, 4996, 542, 1761, 26, 1118, 17, 5002, 2844, 6, 30, 5006, 16, 26, 36, 1709, 17, 4933, 40]\n",
      "0 [831, 44, 26, 5017, 26, 5019, 1026, 5021, 10, 5023, 248, 10, 5026, 103, 5028, 5029]\n",
      "1 [5030, 17, 8, 285, 5034, 769, 10, 18, 5038, 10, 5040, 3441, 256, 5043, 5040, 26, 307, 4991, 5048, 26, 5050, 26, 5052, 26, 5054, 26, 36, 1241, 162, 40, 5060, 5040, 103, 270, 5064, 12, 5043, 5067, 36, 5069, 12, 148, 5072, 370, 256, 5075, 26, 5077, 26, 5079, 26, 36, 1241, 162, 26, 4, 103, 5087, 5064, 12, 189, 1649, 30, 5093, 40]\n",
      "0 [395, 1315, 5097, 939, 148, 18, 5101, 5102, 26, 256, 5105, 12, 5107, 5108, 10, 1373, 905, 1230, 3017, 18, 5102, 5116, 5117, 478, 8, 5101, 5102, 10, 905, 2279, 40]\n",
      "1 [5126, 17, 8, 5129, 10, 18, 1808, 30, 122, 1539, 150, 1529, 466, 26, 1196, 616, 736, 26, 36, 5145, 30, 5147, 503, 18, 1919, 4, 8, 466, 5154, 150, 736, 71, 3013, 3014, 30, 3821, 478, 5163]\n",
      "0 [3568, 2675, 296, 248, 385, 71, 962, 256, 2714, 8, 1080, 4, 368, 10, 4942, 387, 71, 4291, 419, 5183, 7, 18, 5186, 5187, 5188, 4395, 122, 898, 10, 616, 5102, 503, 5196, 12, 5198, 30, 759]\n",
      "1 [5201, 6, 269, 5204, 137, 922, 26, 143, 137, 889, 26, 143, 137, 5072, 26, 143, 137, 5218, 26, 143, 137, 1601, 143, 16, 103, 1974, 4804, 4, 385, 71, 5231, 10, 1097, 30, 26, 7, 31, 996, 26, 5064, 12, 1487, 40]\n",
      "0 [395, 127, 1080, 10, 5248, 5249, 4690, 17, 12, 5253, 4, 758, 148, 5257, 5258, 26, 36, 4, 719, 2050, 17, 5265, 12, 18, 5268, 158, 87, 1963, 40]\n",
      "1 [5273, 17, 18, 1668, 10, 1402, 307, 5280, 150, 5282, 26, 503, 307, 633, 736, 4707, 2073, 5290, 26, 8, 138, 758, 10, 5296, 200, 5298, 36, 5300, 26, 270, 1713, 999, 40]\n",
      "0 [4277, 5307, 478, 2136, 5310, 1402, 633, 148, 4257, 1557, 478, 122, 5318, 12, 2447, 5321, 10, 5323, 5310, 1402, 30, 8, 5328, 5329, 10, 5331, 7, 18, 5334, 503, 122, 5337, 10, 1649, 12, 8, 5342, 10, 8, 999, 40]\n",
      "1 [5347, 1851, 5349, 8, 663, 137, 5353, 143, 6, 5356, 137, 5358, 143, 16, 12, 1450, 12, 8, 5365, 5366, 26, 5368, 5369, 10, 911, 367, 5373, 40]\n",
      "0 [395, 2234, 2553, 10, 87, 5380, 5381, 5382, 36, 8, 4441, 5386, 158, 5388, 8, 2722, 966, 256, 8, 3186, 36, 5396, 10, 5398, 3186, 7, 2234, 996, 40]\n",
      "1 [5404, 4441, 103, 5382, 10, 5409, 40, 5411, 5412, 7, 18, 1067, 10, 5417, 1095, 7, 5420, 26, 320, 5423, 514, 203, 1026, 205, 26, 203, 719, 205, 26, 203, 28, 205, 26, 203, 145, 205, 26, 203, 285, 205, 26, 36, 203, 5447, 205, 5449, 28, 10, 8, 285, 1324, 5455, 10, 5457, 40]\n",
      "0 [5459, 2254, 26, 296, 5463, 17, 5465, 40]\n",
      "1 [5467, 5468, 26, 5470, 5471, 26, 17, 18, 189, 693, 6, 5478, 137, 139, 226, 143, 16, 5484, 33, 8, 1099, 10, 1077, 5490, 36, 5492, 693, 40]\n",
      "0 [3613, 26, 370, 4738, 5499, 12, 1928, 1225, 406, 385, 5505, 8, 1131, 7, 8, 4500, 5511, 1709, 296, 1361, 10, 5516, 5517, 134, 436, 863, 12, 5522, 162, 568, 30, 2041, 320, 5528, 71, 18, 5531, 5532, 40]\n",
      "1 [5534, 26, 5492, 5537, 385, 71, 1855, 256, 18, 5543, 5544, 1368, 5546, 5547, 18, 5543, 5550, 1402, 40]\n",
      "0 [831, 8, 3156, 26, 18, 1067, 10, 4338, 103, 5562, 3717, 1225, 573, 5566, 385, 469, 12, 5570, 26, 33, 251, 1539, 5575, 36, 1730, 256, 695, 256, 253, 4378, 5583, 40]\n",
      "1 [5585, 17, 18, 398, 4, 5590, 158, 1332, 920, 10, 5595, 5596, 36, 1649, 40]\n",
      "0 [1050, 26, 5470, 2567, 26, 5605, 2063, 17, 3887, 12, 1981, 7, 18, 1067, 10, 5615, 40]\n",
      "1 [5617, 181, 33, 18, 611, 36, 18, 1456, 800, 40, 5627, 26, 410, 1993, 5631, 1529, 466, 150, 5635, 12, 18, 1332, 5639, 26, 256, 122, 5643, 133, 26, 419, 747, 26, 1993, 487, 436, 258, 5653, 4, 5655, 181, 296, 5639, 320, 1993, 5661, 18, 5663, 1428, 3429, 5666, 419, 5668, 296, 5639, 40, 1180, 5517, 5674, 4, 1993, 3677, 5678, 12, 2393, 5666, 7, 18, 1332, 287, 26, 4, 17, 26, 1993, 5631, 18, 2073, 611, 1741, 10, 8, 31, 466, 26, 5701, 26, 256, 18, 735, 36, 1127, 466, 40]\n",
      "0 [1755, 3444, 620, 385, 71, 5715, 5716, 7, 18, 5719, 999, 26, 320, 1332, 2927, 259, 5726, 620, 36, 1046, 620, 385, 436, 40]\n",
      "1 [395, 663, 137, 5570, 143, 17, 105, 12, 1450, 2447, 12, 18, 5746, 30, 12, 122, 5750, 30, 235, 40, 5754, 26, 256, 122, 5750, 26, 17, 122, 5762, 7, 8, 2560, 251, 5767, 5768, 200, 5770, 150, 164, 1529, 40]\n",
      "0 [1755, 5776, 148, 4078, 4, 5780, 8, 5782, 5783, 10, 1364, 162, 8, 3521, 26, 8, 2224, 10, 367, 5334, 17, 436, 5797, 5798, 40]\n",
      "1 [5800, 17, 8, 5544, 10, 122, 5806, 4267, 307, 914, 30, 914, 436, 5813, 40]\n",
      "0 [1328, 8, 5817, 4, 633, 387, 5821, 33, 5823, 36, 5825, 5826, 12, 310, 1149, 5830, 148, 5832, 26, 387, 633, 5836, 26, 256, 5839, 134, 26, 4, 8, 5844, 5845, 181, 122, 2613, 5849, 3549, 1755, 1756, 137, 591, 143]\n",
      "1 [498, 5857, 17, 18, 4484, 1832, 5862, 10, 498, 5857, 17, 18, 4484, 1832, 5862, 10, 30, 18, 3510, 439]\n",
      "0 [5347, 148, 5878, 12, 5880, 143, 375, 5883, 7, 18, 1067, 10, 1954, 40]\n",
      "1 [3404, 5891, 17, 8, 5746, 30, 5896, 10, 5898, 38, 5900, 40, 5902, 10, 5891, 385, 71, 1097, 26, 5290, 26, 2683, 26, 4274, 26, 36, 2557, 256, 695, 256, 620, 36, 5922, 36, 616, 5072, 6, 616, 5928, 1216, 26, 419, 747, 16, 40]\n",
      "0 [5935, 26, 164, 385, 258, 5940, 10, 5942, 1175, 65, 17, 5946, 5947, 36, 17, 436, 5951, 26, 419, 759, 65, 1415, 71, 18, 2345, 10, 2714, 203, 5963, 205, 30, 203, 537, 205, 1332, 1097, 4, 164, 5973, 320, 1196, 307, 164, 17, 5979, 40]\n",
      "1 [1622, 103, 8, 554, 950, 5986, 10, 1600, 5989, 40]\n",
      "0 [1050, 5992, 58, 10, 18, 1135, 419, 911, 5999, 6000, 10, 6002, 186, 40]\n",
      "1 [831, 543, 26, 203, 6009, 205, 6011, 206, 12, 3515, 10, 164, 143, 375, 2670, 5040, 26, 1492, 26, 376, 26, 36, 31, 367, 368, 40]\n",
      "0 [6031, 103, 6033, 256, 1289, 26, 5017, 26, 36, 616, 6041, 6042, 103, 1851, 424, 1196, 1487, 40]\n",
      "1 [395, 663, 203, 5942, 205, 428, 206, 12, 8, 6058, 6059, 10, 30, 6062, 150, 376, 26, 642, 30, 6068, 4, 164, 6071, 12, 71, 6074, 320, 5478, 203, 6078, 26, 205, 370, 4, 268, 387, 436, 71, 6087, 30, 6089, 40]\n",
      "0 [6091, 4500, 12, 8, 6095, 1164, 10, 6098, 12, 8, 6101, 26, 28, 1756, 4, 6106, 6107, 6108, 911, 3020, 419, 6112, 150, 108, 36, 419, 6117, 478, 4, 6120, 26, 6122, 10, 6124, 633, 1415, 258, 6128, 410, 1477, 633, 6132, 6133, 256, 695]\n",
      "1 [395, 9, 10, 6139, 17, 164, 10, 8, 319, 2167, 10, 5023, 4666, 40, 6150, 12, 71, 164, 10, 8, 4500, 6157, 12, 6159, 26, 6139, 837, 6163, 8, 6165, 6166, 6167, 18, 1067, 10, 6171, 7, 8, 6174, 40, 41, 1851, 6178, 87, 6180, 150, 6182, 478, 8, 6185, 36, 6187, 256, 633, 6190, 6191, 36, 6193, 8, 1131, 26, 36, 150, 6199, 1313, 212, 8, 522, 10, 911, 6206, 6207, 40]\n",
      "0 [6209, 162, 307, 10, 87, 6214, 6, 6216, 5072, 10, 5356, 1097, 26, 616, 6216, 6224, 26, 30, 616, 6216, 4438, 16, 268, 1855, 256, 8, 6235, 26, 6237, 6238, 6239, 26, 65, 17, 6243, 12, 6245, 707, 6247, 256, 445, 5029, 26, 6252, 26, 30, 6255, 26, 6257, 40]\n",
      "1 [6259, 17, 122, 2165, 6263, 26, 557, 26, 4106, 26, 36, 772, 6271, 10, 8, 2758, 3271, 2697, 26, 6278, 3685, 6280, 6281, 6282, 40]\n",
      "0 [656, 177, 2486, 26, 6288, 429, 4, 8, 183, 10, 6294, 785, 4645, 6297, 6298, 18, 6300, 258, 419, 912, 874, 26, 320, 3743, 1479, 7, 8, 543, 10, 870, 181, 6315, 12, 8, 6318, 4, 8, 6321, 6288, 6297, 2064, 12, 912, 6327, 7, 1026, 3299, 10, 38, 5900, 40]\n",
      "1 [498, 6336, 6337, 1345, 26, 30, 18, 2708, 6337, 256, 6336, 5204, 65, 26, 7, 6336, 143, 375, 2778, 5329, 17, 18, 6337, 6358, 10, 18, 6361, 1046, 10, 6364, 6365, 26, 6367, 26, 6369, 6, 8, 368, 10, 8, 6337, 26, 5204, 6378, 503, 6336, 16, 40]\n",
      "0 [6383, 6384, 17, 1258, 6387, 503, 1922, 12, 8, 4673, 4, 164, 387, 2979, 487, 8, 6399, 123, 26, 36, 1345, 8, 346, 4, 642, 103, 258, 6410, 462, 30, 6413, 6414, 419, 8, 1907, 10, 67, 268, 915, 12]\n",
      "1 [203, 395, 1135, 10, 6239, 205, 7, 1077, 17, 18, 2927, 6434, 6435, 10, 6437, 2699, 2700, 26, 1748, 7, 1315, 156, 6445, 5528, 6447, 6448, 4311, 26, 1371, 26, 36, 4313, 6455, 26, 5116, 1026, 6459, 12, 8, 6462, 10, 1225, 6216, 6466, 10, 5356, 1097, 17, 1246, 40]\n",
      "0 [498, 6474, 385, 436, 71, 33, 164, 10, 6481, 6482, 36, 164, 10, 6486, 6482, 40, 831, 18, 6474, 10, 6481, 6482, 26, 65, 17, 988, 4, 8, 3041, 6502, 103, 3013, 2121, 8, 43, 36, 988, 4, 8, 43, 17, 3013, 2121, 8, 3041, 6502]\n",
      "1 [3109, 8, 4296, 10, 8, 6294, 10, 38, 693, 503, 1774, 17, 8, 6532, 1080, 4, 8, 1774, 1773, 12, 883, 200, 18, 476, 1606, 914, 71, 6546, 12, 6548, 67, 376, 633, 387, 623, 7, 595, 12, 65, 40]\n",
      "0 [41, 3619, 5449, 883, 150, 18, 6565, 2209, 1087, 4, 385, 71, 6571, 419, 8, 6574, 7, 1248, 6577, 6578, 258, 162, 6581, 2557, 10, 8, 6574, 26, 320, 307, 6589, 478, 8, 6574, 7, 31, 6, 3227, 6597, 16, 6565, 5615, 40]\n",
      "0 [6602, 216, 5396, 103, 5396, 10, 1128, 36, 2683, 40]\n",
      "0 [41, 914, 71, 4, 1248, 6617, 3979, 1415, 7, 6621, 6622, 8, 6624, 150, 8, 6627, 10, 3254, 1402, 40]\n",
      "1 [316, 17, 1453, 2435, 4, 18, 663, 17, 2880, 12, 8, 4158, 4, 65, 181, 6647, 1174, 40, 1050, 1793, 8, 2224, 10, 18, 6647, 2345, 2102, 7, 4738, 10, 6662, 40]\n",
      "0 [395, 6665, 419, 6667, 17, 6669, 2121, 8, 1324, 164, 419, 2611, 2753, 1270, 318, 1097, 385, 71, 6682, 256, 6684, 6685, 268, 6687, 12, 2087, 1095, 40]\n",
      "1 [395, 663, 203, 1164, 693, 205, 17, 105, 7, 200, 975, 3316, 1315, 1954, 7, 543, 40, 831, 349, 6711, 9, 26, 203, 1164, 693, 205, 17, 18, 6720, 6721, 105, 12, 6724, 1026, 4786, 10, 1752, 543, 26, 88, 36, 772, 543, 26, 558, 26, 36, 1258, 6740, 543, 36, 8, 543, 10, 6746]\n",
      "0 [6747, 26, 1315, 3561, 148, 6752, 1315, 6754, 3883, 87, 6757, 40]\n",
      "1 [6759, 6760, 143, 6762, 6, 6764, 16, 26, 3013, 3441, 503, 188, 6771, 947, 6773, 26, 136, 18, 6777, 3141, 36, 689, 6781, 670, 6783, 18, 5356, 724, 7, 233, 8, 6790, 6271, 5204, 8, 6794, 40]\n",
      "0 [1232, 6797, 4645, 6799, 26, 785, 3619, 148, 6804, 1026, 8, 1086, 1174, 26, 320, 188, 2756, 1415, 148, 6815, 1241, 6817, 4, 65, 6820, 1415, 148, 6823, 8, 6825, 40]\n",
      "1 [6827, 17, 26, 8, 6831, 12, 6833, 30, 6835, 164, 156, 6838, 26, 370, 256, 6842, 874, 26, 7, 1426, 10, 1529, 26, 370, 256, 6852, 874, 40]\n",
      "0 [3613, 65, 17, 4078, 4, 2164, 410, 18, 6863, 1131, 17, 6866, 6867, 26, 65, 134, 436, 3724, 4, 90, 103, 6876, 2557, 7, 911, 1131, 40]\n",
      "1 [6882, 17, 285, 104, 105, 7, 543, 12, 4357, 67, 17, 6893, 30, 5116, 462, 419, 18, 466, 40]\n",
      "0 [849, 6902, 6903, 4, 1026, 8, 6907, 1398, 6909, 1241, 3889, 103, 6866, 6914]\n",
      "1 [6915, 10, 3625, 6918, 693, 17, 12, 1182, 18, 6924, 6925, 158, 1487, 1270, 12, 6930, 200, 975, 28, 6934, 26, 320, 269, 12, 6939, 1487]\n",
      "0 [6941, 3935, 4, 296, 1361, 10, 1831, 6948, 6949, 18, 203, 6952, 6953, 205, 6955, 8, 6957, 40]\n",
      "1 [137, 6960, 6961, 143, 206, 12, 8, 1080, 10, 1026, 6969, 6970, 139, 164, 1324, 772, 3734, 40]\n",
      "0 [395, 6978, 10, 8, 2535, 2753, 36, 8, 6985, 2753, 4, 136, 6989, 12, 65, 6992, 6993, 6994, 40]\n",
      "0 [6996, 26, 9, 6999, 36, 7001, 6466, 103, 7004]\n",
      "0 [41, 17, 259, 12, 7009, 1225, 7011, 3836, 2750, 8, 7015, 10, 6239, 150, 2600, 2824, 26, 256, 7023, 10, 1097, 7026, 478, 7028, 26, 256, 3531, 7032, 6, 7034, 3531, 7036, 16, 26, 256, 1974, 103, 436, 7043, 1248, 724, 7, 2468, 6466, 40]\n",
      "0 [55, 4339, 18, 6532, 2345, 1270, 410, 90, 103, 3316, 1246, 7061, 10, 7063, 200, 18, 476, 7067, 7, 18, 255, 26, 633, 385, 7074, 8, 5750, 10, 18, 7079, 7080, 256, 137, 7083, 143, 410, 719, 10, 8, 3316, 1246, 7061, 837, 200, 18, 7095, 7096, 7097, 503, 8, 3054, 10, 5544]\n",
      "0 [7103, 17, 1876, 7106, 4, 26, 7109, 1615, 7111, 4, 6167, 8, 663, 137, 7083, 143, 1430, 6180, 7121, 10, 8, 972, 260, 26, 36, 7109, 8, 7130, 314, 7, 529, 2305, 7135, 26, 1615, 387, 7139, 8, 5463, 4, 7143, 103, 1509, 12, 7083, 7, 8, 9, 10, 137, 7153, 10, 7135, 143, 40]\n",
      "0 [1050, 7159, 10, 7161, 136, 7163, 7164, 1605, 7166, 478, 1511, 391, 10, 7171, 7172, 143, 375, 7175, 10, 7177, 7178, 7, 7161, 7181, 26, 12, 7184, 7185, 10, 7187, 7, 7161, 26, 12, 8, 5891, 10, 8, 203, 7197, 205, 7199, 10, 8, 4500, 7203, 7204, 12, 71, 7207, 150, 7161, 40]\n",
      "0 [3450, 616, 7213, 7214, 26, 65, 136, 436, 5798, 4, 8, 6224, 10, 7224, 693, 1415, 5783, 12, 1124, 2121, 18, 7232, 999, 267, 296, 6866, 136, 8, 1741, 7240, 419, 212, 7243, 3114, 40]\n",
      "0 [395, 4007, 7248, 517, 7250, 4, 8, 6095, 693, 17, 1776, 18, 1135, 419, 1248, 43, 1752, 693, 4, 4338, 12, 7267, 122, 3979, 10, 67, 164, 7273, 7274, 26, 30, 1026, 1097, 4257, 26, 12, 487, 40]\n",
      "0 [3568, 90, 103, 31, 4814, 10, 248, 26, 370, 256, 4, 10, 7296, 936, 26, 209, 30, 7301, 40]\n",
      "0 [1050, 2722, 203, 2494, 7, 7308, 205, 10, 2778, 7312, 517, 269, 71, 6297, 256, 122, 203, 7001, 4673, 26, 205, 7324, 256, 65, 1641, 8, 185, 7330, 10, 8, 7333, 12, 2279, 26, 3672, 12, 36, 7340, 10, 1248, 7343, 2526, 40]\n",
      "1 [7346, 7, 543, 103, 7350, 1470, 7352, 12, 7354, 853, 212, 7357, 36, 349, 398, 12, 8, 189, 1131, 40]\n",
      "0 [3046, 177, 2486, 4, 200, 975, 145, 2, 103, 7375, 4, 6059, 10, 2136, 7380, 7381, 7382, 12, 122, 7385, 7386, 7387, 40]\n"
     ]
    },
    {
     "name": "stdout",
     "output_type": "stream",
     "text": [
      "znajdzka {\"date\":\"2024-10-10T11:22:46.356Z\",\"msg_id\":\"6d0b17a1-9f44-4884-9bb3-33211c3589a2\",\"msg_type\":\"execute_request\",\"session\":\"1110b35d-0428-46b3-9a33-1e631ab83b88\",\"username\":\"0c7ec83a-90e3-4685-8f3e-75d86b674bbc\",\"version\":\"5.2\"}\n",
      "znajdzka {}\n",
      "znajdzka {}\n",
      "znajdzka {\"silent\":false,\"store_history\":false,\"user_expressions\":{},\"allow_stdin\":false,\"stop_on_error\":false,\"code\":\"def __jupyter_exec_background__():\\n    from IPython.display import display\\n    from threading import Thread\\n    from traceback import format_exc\\n\\n    # First send a dummy response to get the display id.\\n    # Later we'll send the real response with the actual data.\\n    # And that can happen much later even after the execution completes,\\n    # as that response will be sent from a bg thread.\\n    output = display({\\\"application/vnd.vscode.bg.execution.164\\\": \\\"\\\"}, raw=True, display_id=True)\\n\\n    def do_implementation():\\n        return get_ipython().kernel.do_complete(\\\"for label, text in zi\\\\\\\\p(labels,texts):\\\\r\\\\n    print(label, text)\\\", 23)\\n\\n    def bg_main():\\n        try:\\n            output.update({\\\"application/vnd.vscode.bg.execution.164.result\\\": do_implementation()}, raw=True)\\n        except Exception as e:\\n            output.update({\\\"application/vnd.vscode.bg.execution.164.error\\\": format_exc()}, raw=True)\\n\\n\\n    Thread(target=bg_main, daemon=True).start()\\n\\n\\n__jupyter_exec_background__()\\ndel __jupyter_exec_background__\"}\n"
     ]
    }
   ],
   "source": [
    "for label, text in zip(labels,texts):\n",
    "    print(label, text)"
   ]
  }
 ],
 "metadata": {
  "kernelspec": {
   "display_name": "Python 3 (ipykernel)",
   "language": "python",
   "name": "python3"
  },
  "language_info": {
   "codemirror_mode": {
    "name": "ipython",
    "version": 3
   },
   "file_extension": ".py",
   "mimetype": "text/x-python",
   "name": "python",
   "nbconvert_exporter": "python",
   "pygments_lexer": "ipython3",
   "version": "3.11.8"
  }
 },
 "nbformat": 4,
 "nbformat_minor": 5
}
