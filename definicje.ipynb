{
 "cells": [
  {
   "cell_type": "code",
   "execution_count": 2,
   "id": "f791b120-0b56-4a45-8203-cf5687787201",
   "metadata": {},
   "outputs": [
    {
     "name": "stdout",
     "output_type": "stream",
     "text": [
      "znajdzka {\"date\":\"2024-10-15T08:41:56.407Z\",\"msg_id\":\"834b3ea2-f09c-4d71-b373-88017aafa5b6\",\"msg_type\":\"execute_request\",\"session\":\"c44cdea7-1f4a-42ff-8ee9-50eaa837fbe2\",\"username\":\"09268c39-1f81-4d55-b45a-c5380e590122\",\"version\":\"5.2\"}\n",
      "znajdzka {}\n",
      "znajdzka {\"cellId\":\"vscode-notebook-cell:/c%3A/Users/aleks/Desktop/Python/AI/definicje/definicje.ipynb#W0sZmlsZQ%3D%3D\"}\n",
      "znajdzka {\"silent\":false,\"store_history\":true,\"user_expressions\":{},\"allow_stdin\":true,\"stop_on_error\":false,\"code\":\"import numpy as np\\nimport pandas as pd\\nimport os\"}\n"
     ]
    }
   ],
   "source": [
    "import numpy as np\n",
    "import pandas as pd\n",
    "import os"
   ]
  },
  {
   "cell_type": "code",
   "execution_count": 3,
   "id": "185cc82c-caf1-40a7-8ad5-0736b54de495",
   "metadata": {},
   "outputs": [
    {
     "name": "stdout",
     "output_type": "stream",
     "text": [
      "znajdzka {\"date\":\"2024-10-15T08:41:59.187Z\",\"msg_id\":\"8703c779-a400-4d3c-a936-a8ea7274ee15\",\"msg_type\":\"execute_request\",\"session\":\"c44cdea7-1f4a-42ff-8ee9-50eaa837fbe2\",\"username\":\"09268c39-1f81-4d55-b45a-c5380e590122\",\"version\":\"5.2\"}\n",
      "znajdzka {}\n",
      "znajdzka {\"cellId\":\"vscode-notebook-cell:/c%3A/Users/aleks/Desktop/Python/AI/definicje/definicje.ipynb#W1sZmlsZQ%3D%3D\"}\n",
      "znajdzka {\"silent\":false,\"store_history\":true,\"user_expressions\":{},\"allow_stdin\":true,\"stop_on_error\":false,\"code\":\"data = pd.read_excel('definicje-ap.xlsx', sheet_name=['stanford','stanford-nontheses'])\"}\n"
     ]
    }
   ],
   "source": [
    "data = pd.read_excel('definicje-ap.xlsx', sheet_name=['stanford','stanford-nontheses'])"
   ]
  },
  {
   "cell_type": "code",
   "execution_count": 4,
   "id": "1099c905-e792-4f2c-b984-c735d0441911",
   "metadata": {},
   "outputs": [
    {
     "name": "stdout",
     "output_type": "stream",
     "text": [
      "znajdzka {\"date\":\"2024-10-15T08:42:00.438Z\",\"msg_id\":\"d9106d7e-b436-4972-bb8c-e7759e34e904\",\"msg_type\":\"execute_request\",\"session\":\"c44cdea7-1f4a-42ff-8ee9-50eaa837fbe2\",\"username\":\"09268c39-1f81-4d55-b45a-c5380e590122\",\"version\":\"5.2\"}\n",
      "znajdzka {}\n",
      "znajdzka {\"cellId\":\"vscode-notebook-cell:/c%3A/Users/aleks/Desktop/Python/AI/definicje/definicje.ipynb#W2sZmlsZQ%3D%3D\"}\n",
      "znajdzka {\"silent\":false,\"store_history\":true,\"user_expressions\":{},\"allow_stdin\":true,\"stop_on_error\":false,\"code\":\"data\"}\n"
     ]
    },
    {
     "data": {
      "text/plain": [
       "{'stanford':     Most philosophers agree that abduction (in the sense of Inference to the Best Explanation) is a type of inference that is frequently employed, in some form or other, both in everyday and in scientific reasoning.\n",
       " 0    To say that something is authentic is to say t...                                                                                                                                                                 \n",
       " 1    Donald Davidson [1980, essay 3] asserted that ...                                                                                                                                                                 \n",
       " 2    “Adaptationism” refers to a family of views ab...                                                                                                                                                                 \n",
       " 3    Behaviorism is built on this assumption, and i...                                                                                                                                                                 \n",
       " 4    The epistemic basing relation is the relation ...                                                                                                                                                                 \n",
       " ..                                                 ...                                                                                                                                                                 \n",
       " 96                                                 NaN                                                                                                                                                                 \n",
       " 97                                                 NaN                                                                                                                                                                 \n",
       " 98                                                 NaN                                                                                                                                                                 \n",
       " 99                                                 NaN                                                                                                                                                                 \n",
       " 100  Zombies in philosophy are imaginary creatures ...                                                                                                                                                                 \n",
       " \n",
       " [101 rows x 1 columns],\n",
       " 'stanford-nontheses':     It is standard practice to group non-necessary inferences into inductive and abductive ones.\n",
       " 0    With these social changes there is a sharp shi...                                          \n",
       " 1    It is frequently noted that the agent has some...                                          \n",
       " 2    There were two central but mainly disjunct sci...                                          \n",
       " 3    According to methodological behaviorism, refer...                                          \n",
       " 4    A belief is causally sustained by a reason whe...                                          \n",
       " ..                                                 ...                                          \n",
       " 96   After their 1945 paper, it was not clear that ...                                          \n",
       " 97   The rational egoist might reply that the instr...                                          \n",
       " 98   But there are other points of view, such as th...                                          \n",
       " 99   This same “identity in difference” of original...                                          \n",
       " 100  We noted above that at least many philosophers...                                          \n",
       " \n",
       " [101 rows x 1 columns]}"
      ]
     },
     "execution_count": 4,
     "metadata": {},
     "output_type": "execute_result"
    }
   ],
   "source": [
    "data"
   ]
  },
  {
   "cell_type": "code",
   "execution_count": 5,
   "id": "d6b2db8f-3b56-4fcf-9d80-07c83bba0d59",
   "metadata": {},
   "outputs": [
    {
     "name": "stdout",
     "output_type": "stream",
     "text": [
      "znajdzka {\"date\":\"2024-10-15T08:42:01.285Z\",\"msg_id\":\"38e0f19c-af7f-44f2-adcf-31d868780eb2\",\"msg_type\":\"execute_request\",\"session\":\"c44cdea7-1f4a-42ff-8ee9-50eaa837fbe2\",\"username\":\"09268c39-1f81-4d55-b45a-c5380e590122\",\"version\":\"5.2\"}\n",
      "znajdzka {}\n",
      "znajdzka {\"cellId\":\"vscode-notebook-cell:/c%3A/Users/aleks/Desktop/Python/AI/definicje/definicje.ipynb#W3sZmlsZQ%3D%3D\"}\n",
      "znajdzka {\"silent\":false,\"store_history\":true,\"user_expressions\":{},\"allow_stdin\":true,\"stop_on_error\":false,\"code\":\"stanford_df = data.get('stanford')\\nstanford_nontheses_df = data.get('stanford-nontheses')\"}\n"
     ]
    }
   ],
   "source": [
    "stanford_df = data.get('stanford')\n",
    "stanford_nontheses_df = data.get('stanford-nontheses')"
   ]
  },
  {
   "cell_type": "code",
   "execution_count": 6,
   "id": "258db662-a6c8-4dde-b6a7-846e021e9347",
   "metadata": {},
   "outputs": [
    {
     "name": "stdout",
     "output_type": "stream",
     "text": [
      "znajdzka {\"date\":\"2024-10-15T08:42:02.244Z\",\"msg_id\":\"f8e194ad-90f8-427b-9a33-bc61c95cdf3a\",\"msg_type\":\"execute_request\",\"session\":\"c44cdea7-1f4a-42ff-8ee9-50eaa837fbe2\",\"username\":\"09268c39-1f81-4d55-b45a-c5380e590122\",\"version\":\"5.2\"}\n",
      "znajdzka {}\n",
      "znajdzka {\"cellId\":\"vscode-notebook-cell:/c%3A/Users/aleks/Desktop/Python/AI/definicje/definicje.ipynb#W4sZmlsZQ%3D%3D\"}\n",
      "znajdzka {\"silent\":false,\"store_history\":true,\"user_expressions\":{},\"allow_stdin\":true,\"stop_on_error\":false,\"code\":\"stanford_df.head()\"}\n"
     ]
    },
    {
     "data": {
      "text/html": [
       "<div>\n",
       "<style scoped>\n",
       "    .dataframe tbody tr th:only-of-type {\n",
       "        vertical-align: middle;\n",
       "    }\n",
       "\n",
       "    .dataframe tbody tr th {\n",
       "        vertical-align: top;\n",
       "    }\n",
       "\n",
       "    .dataframe thead th {\n",
       "        text-align: right;\n",
       "    }\n",
       "</style>\n",
       "<table border=\"1\" class=\"dataframe\">\n",
       "  <thead>\n",
       "    <tr style=\"text-align: right;\">\n",
       "      <th></th>\n",
       "      <th>Most philosophers agree that abduction (in the sense of Inference to the Best Explanation) is a type of inference that is frequently employed, in some form or other, both in everyday and in scientific reasoning.</th>\n",
       "    </tr>\n",
       "  </thead>\n",
       "  <tbody>\n",
       "    <tr>\n",
       "      <th>0</th>\n",
       "      <td>To say that something is authentic is to say t...</td>\n",
       "    </tr>\n",
       "    <tr>\n",
       "      <th>1</th>\n",
       "      <td>Donald Davidson [1980, essay 3] asserted that ...</td>\n",
       "    </tr>\n",
       "    <tr>\n",
       "      <th>2</th>\n",
       "      <td>“Adaptationism” refers to a family of views ab...</td>\n",
       "    </tr>\n",
       "    <tr>\n",
       "      <th>3</th>\n",
       "      <td>Behaviorism is built on this assumption, and i...</td>\n",
       "    </tr>\n",
       "    <tr>\n",
       "      <th>4</th>\n",
       "      <td>The epistemic basing relation is the relation ...</td>\n",
       "    </tr>\n",
       "  </tbody>\n",
       "</table>\n",
       "</div>"
      ],
      "text/plain": [
       "  Most philosophers agree that abduction (in the sense of Inference to the Best Explanation) is a type of inference that is frequently employed, in some form or other, both in everyday and in scientific reasoning.\n",
       "0  To say that something is authentic is to say t...                                                                                                                                                                 \n",
       "1  Donald Davidson [1980, essay 3] asserted that ...                                                                                                                                                                 \n",
       "2  “Adaptationism” refers to a family of views ab...                                                                                                                                                                 \n",
       "3  Behaviorism is built on this assumption, and i...                                                                                                                                                                 \n",
       "4  The epistemic basing relation is the relation ...                                                                                                                                                                 "
      ]
     },
     "execution_count": 6,
     "metadata": {},
     "output_type": "execute_result"
    }
   ],
   "source": [
    "stanford_df.head()"
   ]
  },
  {
   "cell_type": "code",
   "execution_count": 7,
   "id": "a0ab98ee-16ea-4e85-99ef-d45bdc99dc13",
   "metadata": {},
   "outputs": [
    {
     "name": "stdout",
     "output_type": "stream",
     "text": [
      "znajdzka {\"date\":\"2024-10-15T08:42:03.216Z\",\"msg_id\":\"e007ae79-1786-48e4-a972-dabf0fde4463\",\"msg_type\":\"execute_request\",\"session\":\"c44cdea7-1f4a-42ff-8ee9-50eaa837fbe2\",\"username\":\"09268c39-1f81-4d55-b45a-c5380e590122\",\"version\":\"5.2\"}\n",
      "znajdzka {}\n",
      "znajdzka {\"cellId\":\"vscode-notebook-cell:/c%3A/Users/aleks/Desktop/Python/AI/definicje/definicje.ipynb#W5sZmlsZQ%3D%3D\"}\n",
      "znajdzka {\"silent\":false,\"store_history\":true,\"user_expressions\":{},\"allow_stdin\":true,\"stop_on_error\":false,\"code\":\"convert_data = {}\\nfor row in stanford_df:\\n    \\n    if 'definition' not in convert_data:\\n        convert_data['definition'] = [row]\\n    \\n    convert_data['definition'].extend(stanford_df[row])\"}\n"
     ]
    }
   ],
   "source": [
    "convert_data = {}\n",
    "for row in stanford_df:\n",
    "    \n",
    "    if 'definition' not in convert_data:\n",
    "        convert_data['definition'] = [row]\n",
    "    \n",
    "    convert_data['definition'].extend(stanford_df[row])"
   ]
  },
  {
   "cell_type": "code",
   "execution_count": 8,
   "id": "0e352f02-bbcd-42a8-b832-a68da1ba4862",
   "metadata": {},
   "outputs": [
    {
     "name": "stdout",
     "output_type": "stream",
     "text": [
      "znajdzka {\"date\":\"2024-10-15T08:42:03.824Z\",\"msg_id\":\"49675900-84ed-4e5b-85ab-3cf1202c3264\",\"msg_type\":\"execute_request\",\"session\":\"c44cdea7-1f4a-42ff-8ee9-50eaa837fbe2\",\"username\":\"09268c39-1f81-4d55-b45a-c5380e590122\",\"version\":\"5.2\"}\n",
      "znajdzka {}\n",
      "znajdzka {\"cellId\":\"vscode-notebook-cell:/c%3A/Users/aleks/Desktop/Python/AI/definicje/definicje.ipynb#W6sZmlsZQ%3D%3D\"}\n",
      "znajdzka {\"silent\":false,\"store_history\":true,\"user_expressions\":{},\"allow_stdin\":true,\"stop_on_error\":false,\"code\":\"for row in stanford_nontheses_df:\\n    if 'no_definition' not in convert_data:\\n        convert_data['no_definition'] = [row]\\n    convert_data['no_definition'].extend(stanford_nontheses_df[row])\"}\n"
     ]
    }
   ],
   "source": [
    "for row in stanford_nontheses_df:\n",
    "    if 'no_definition' not in convert_data:\n",
    "        convert_data['no_definition'] = [row]\n",
    "    convert_data['no_definition'].extend(stanford_nontheses_df[row])"
   ]
  },
  {
   "cell_type": "code",
   "execution_count": 9,
   "id": "e20aa6c8-34b7-487d-b68f-eb3d3fbfecd9",
   "metadata": {},
   "outputs": [
    {
     "name": "stdout",
     "output_type": "stream",
     "text": [
      "znajdzka {\"date\":\"2024-10-15T08:42:04.549Z\",\"msg_id\":\"a3ed21b6-6eeb-4889-b7c3-263a4e87add9\",\"msg_type\":\"execute_request\",\"session\":\"c44cdea7-1f4a-42ff-8ee9-50eaa837fbe2\",\"username\":\"09268c39-1f81-4d55-b45a-c5380e590122\",\"version\":\"5.2\"}\n",
      "znajdzka {}\n",
      "znajdzka {\"cellId\":\"vscode-notebook-cell:/c%3A/Users/aleks/Desktop/Python/AI/definicje/definicje.ipynb#X10sZmlsZQ%3D%3D\"}\n",
      "znajdzka {\"silent\":false,\"store_history\":true,\"user_expressions\":{},\"allow_stdin\":true,\"stop_on_error\":false,\"code\":\"len(convert_data['definition'])\"}\n"
     ]
    },
    {
     "data": {
      "text/plain": [
       "102"
      ]
     },
     "execution_count": 9,
     "metadata": {},
     "output_type": "execute_result"
    }
   ],
   "source": [
    "len(convert_data['definition'])"
   ]
  },
  {
   "cell_type": "code",
   "execution_count": 10,
   "id": "4c0506e1-becf-472d-80e2-7feb5ef45ecf",
   "metadata": {},
   "outputs": [
    {
     "name": "stdout",
     "output_type": "stream",
     "text": [
      "znajdzka {\"date\":\"2024-10-15T08:42:05.042Z\",\"msg_id\":\"7d317526-1180-471b-a478-427ce47df17a\",\"msg_type\":\"execute_request\",\"session\":\"c44cdea7-1f4a-42ff-8ee9-50eaa837fbe2\",\"username\":\"09268c39-1f81-4d55-b45a-c5380e590122\",\"version\":\"5.2\"}\n",
      "znajdzka {}\n",
      "znajdzka {\"cellId\":\"vscode-notebook-cell:/c%3A/Users/aleks/Desktop/Python/AI/definicje/definicje.ipynb#X11sZmlsZQ%3D%3D\"}\n",
      "znajdzka {\"silent\":false,\"store_history\":true,\"user_expressions\":{},\"allow_stdin\":true,\"stop_on_error\":false,\"code\":\"len(convert_data['no_definition'])\"}\n"
     ]
    },
    {
     "data": {
      "text/plain": [
       "102"
      ]
     },
     "execution_count": 10,
     "metadata": {},
     "output_type": "execute_result"
    }
   ],
   "source": [
    "len(convert_data['no_definition'])"
   ]
  },
  {
   "cell_type": "code",
   "execution_count": 11,
   "id": "895845d6-696a-44da-b00e-2fc4018edfec",
   "metadata": {},
   "outputs": [
    {
     "name": "stdout",
     "output_type": "stream",
     "text": [
      "znajdzka {\"date\":\"2024-10-15T08:42:05.736Z\",\"msg_id\":\"e849dd7f-e9df-4359-83f2-b7f0cdceca45\",\"msg_type\":\"execute_request\",\"session\":\"c44cdea7-1f4a-42ff-8ee9-50eaa837fbe2\",\"username\":\"09268c39-1f81-4d55-b45a-c5380e590122\",\"version\":\"5.2\"}\n",
      "znajdzka {}\n",
      "znajdzka {\"cellId\":\"vscode-notebook-cell:/c%3A/Users/aleks/Desktop/Python/AI/definicje/definicje.ipynb#X12sZmlsZQ%3D%3D\"}\n",
      "znajdzka {\"silent\":false,\"store_history\":true,\"user_expressions\":{},\"allow_stdin\":true,\"stop_on_error\":false,\"code\":\"df = pd.DataFrame(data=convert_data)\"}\n"
     ]
    }
   ],
   "source": [
    "df = pd.DataFrame(data=convert_data)"
   ]
  },
  {
   "cell_type": "code",
   "execution_count": 12,
   "id": "42891e4b-912c-4e95-86a2-92e0f20a0a1b",
   "metadata": {},
   "outputs": [
    {
     "name": "stdout",
     "output_type": "stream",
     "text": [
      "znajdzka {\"date\":\"2024-10-15T08:42:07.234Z\",\"msg_id\":\"d599ffb9-8da7-41e1-83e0-a765ca772efa\",\"msg_type\":\"execute_request\",\"session\":\"c44cdea7-1f4a-42ff-8ee9-50eaa837fbe2\",\"username\":\"09268c39-1f81-4d55-b45a-c5380e590122\",\"version\":\"5.2\"}\n",
      "znajdzka {}\n",
      "znajdzka {\"cellId\":\"vscode-notebook-cell:/c%3A/Users/aleks/Desktop/Python/AI/definicje/definicje.ipynb#X13sZmlsZQ%3D%3D\"}\n",
      "znajdzka {\"silent\":false,\"store_history\":true,\"user_expressions\":{},\"allow_stdin\":true,\"stop_on_error\":false,\"code\":\"len(df['definition'])\"}\n"
     ]
    },
    {
     "data": {
      "text/plain": [
       "102"
      ]
     },
     "execution_count": 12,
     "metadata": {},
     "output_type": "execute_result"
    }
   ],
   "source": [
    "len(df['definition'])"
   ]
  },
  {
   "cell_type": "code",
   "execution_count": 13,
   "id": "0512c072-b4ca-4e74-b6f2-1c51f8be33da",
   "metadata": {},
   "outputs": [
    {
     "name": "stdout",
     "output_type": "stream",
     "text": [
      "znajdzka {\"date\":\"2024-10-15T08:42:09.342Z\",\"msg_id\":\"f316fee2-db57-435e-9733-37b6fe8f4b39\",\"msg_type\":\"execute_request\",\"session\":\"c44cdea7-1f4a-42ff-8ee9-50eaa837fbe2\",\"username\":\"09268c39-1f81-4d55-b45a-c5380e590122\",\"version\":\"5.2\"}\n",
      "znajdzka {}\n",
      "znajdzka {\"cellId\":\"vscode-notebook-cell:/c%3A/Users/aleks/Desktop/Python/AI/definicje/definicje.ipynb#X14sZmlsZQ%3D%3D\"}\n",
      "znajdzka {\"silent\":false,\"store_history\":true,\"user_expressions\":{},\"allow_stdin\":true,\"stop_on_error\":false,\"code\":\"df\"}\n"
     ]
    },
    {
     "data": {
      "text/html": [
       "<div>\n",
       "<style scoped>\n",
       "    .dataframe tbody tr th:only-of-type {\n",
       "        vertical-align: middle;\n",
       "    }\n",
       "\n",
       "    .dataframe tbody tr th {\n",
       "        vertical-align: top;\n",
       "    }\n",
       "\n",
       "    .dataframe thead th {\n",
       "        text-align: right;\n",
       "    }\n",
       "</style>\n",
       "<table border=\"1\" class=\"dataframe\">\n",
       "  <thead>\n",
       "    <tr style=\"text-align: right;\">\n",
       "      <th></th>\n",
       "      <th>definition</th>\n",
       "      <th>no_definition</th>\n",
       "    </tr>\n",
       "  </thead>\n",
       "  <tbody>\n",
       "    <tr>\n",
       "      <th>0</th>\n",
       "      <td>Most philosophers agree that abduction (in the...</td>\n",
       "      <td>It is standard practice to group non-necessary...</td>\n",
       "    </tr>\n",
       "    <tr>\n",
       "      <th>1</th>\n",
       "      <td>To say that something is authentic is to say t...</td>\n",
       "      <td>With these social changes there is a sharp shi...</td>\n",
       "    </tr>\n",
       "    <tr>\n",
       "      <th>2</th>\n",
       "      <td>Donald Davidson [1980, essay 3] asserted that ...</td>\n",
       "      <td>It is frequently noted that the agent has some...</td>\n",
       "    </tr>\n",
       "    <tr>\n",
       "      <th>3</th>\n",
       "      <td>“Adaptationism” refers to a family of views ab...</td>\n",
       "      <td>There were two central but mainly disjunct sci...</td>\n",
       "    </tr>\n",
       "    <tr>\n",
       "      <th>4</th>\n",
       "      <td>Behaviorism is built on this assumption, and i...</td>\n",
       "      <td>According to methodological behaviorism, refer...</td>\n",
       "    </tr>\n",
       "    <tr>\n",
       "      <th>...</th>\n",
       "      <td>...</td>\n",
       "      <td>...</td>\n",
       "    </tr>\n",
       "    <tr>\n",
       "      <th>97</th>\n",
       "      <td>NaN</td>\n",
       "      <td>After their 1945 paper, it was not clear that ...</td>\n",
       "    </tr>\n",
       "    <tr>\n",
       "      <th>98</th>\n",
       "      <td>NaN</td>\n",
       "      <td>The rational egoist might reply that the instr...</td>\n",
       "    </tr>\n",
       "    <tr>\n",
       "      <th>99</th>\n",
       "      <td>NaN</td>\n",
       "      <td>But there are other points of view, such as th...</td>\n",
       "    </tr>\n",
       "    <tr>\n",
       "      <th>100</th>\n",
       "      <td>NaN</td>\n",
       "      <td>This same “identity in difference” of original...</td>\n",
       "    </tr>\n",
       "    <tr>\n",
       "      <th>101</th>\n",
       "      <td>Zombies in philosophy are imaginary creatures ...</td>\n",
       "      <td>We noted above that at least many philosophers...</td>\n",
       "    </tr>\n",
       "  </tbody>\n",
       "</table>\n",
       "<p>102 rows × 2 columns</p>\n",
       "</div>"
      ],
      "text/plain": [
       "                                            definition  \\\n",
       "0    Most philosophers agree that abduction (in the...   \n",
       "1    To say that something is authentic is to say t...   \n",
       "2    Donald Davidson [1980, essay 3] asserted that ...   \n",
       "3    “Adaptationism” refers to a family of views ab...   \n",
       "4    Behaviorism is built on this assumption, and i...   \n",
       "..                                                 ...   \n",
       "97                                                 NaN   \n",
       "98                                                 NaN   \n",
       "99                                                 NaN   \n",
       "100                                                NaN   \n",
       "101  Zombies in philosophy are imaginary creatures ...   \n",
       "\n",
       "                                         no_definition  \n",
       "0    It is standard practice to group non-necessary...  \n",
       "1    With these social changes there is a sharp shi...  \n",
       "2    It is frequently noted that the agent has some...  \n",
       "3    There were two central but mainly disjunct sci...  \n",
       "4    According to methodological behaviorism, refer...  \n",
       "..                                                 ...  \n",
       "97   After their 1945 paper, it was not clear that ...  \n",
       "98   The rational egoist might reply that the instr...  \n",
       "99   But there are other points of view, such as th...  \n",
       "100  This same “identity in difference” of original...  \n",
       "101  We noted above that at least many philosophers...  \n",
       "\n",
       "[102 rows x 2 columns]"
      ]
     },
     "execution_count": 13,
     "metadata": {},
     "output_type": "execute_result"
    }
   ],
   "source": [
    "df"
   ]
  },
  {
   "cell_type": "code",
   "execution_count": 14,
   "id": "18afe5aa",
   "metadata": {},
   "outputs": [
    {
     "name": "stdout",
     "output_type": "stream",
     "text": [
      "znajdzka {\"date\":\"2024-10-15T08:42:10.824Z\",\"msg_id\":\"65cb072a-da8f-4a16-82d4-469906983a5c\",\"msg_type\":\"execute_request\",\"session\":\"c44cdea7-1f4a-42ff-8ee9-50eaa837fbe2\",\"username\":\"09268c39-1f81-4d55-b45a-c5380e590122\",\"version\":\"5.2\"}\n",
      "znajdzka {}\n",
      "znajdzka {\"cellId\":\"vscode-notebook-cell:/c%3A/Users/aleks/Desktop/Python/AI/definicje/definicje.ipynb#X15sZmlsZQ%3D%3D\"}\n",
      "znajdzka {\"silent\":false,\"store_history\":true,\"user_expressions\":{},\"allow_stdin\":true,\"stop_on_error\":false,\"code\":\"from nltk import word_tokenize\"}\n"
     ]
    }
   ],
   "source": [
    "from nltk import word_tokenize"
   ]
  },
  {
   "cell_type": "code",
   "execution_count": 57,
   "id": "72878eef",
   "metadata": {},
   "outputs": [
    {
     "name": "stdout",
     "output_type": "stream",
     "text": [
      "znajdzka {\"date\":\"2024-10-15T08:20:44.922Z\",\"msg_id\":\"7c1afa26-4e2c-44a6-bc0e-0b2f557eb1b9\",\"msg_type\":\"execute_request\",\"session\":\"cb7c4b03-d5df-4786-96ba-cfb464677bfc\",\"username\":\"17b94c58-16f5-4526-aec2-19a3448653f3\",\"version\":\"5.2\"}\n",
      "znajdzka {}\n",
      "znajdzka {\"cellId\":\"vscode-notebook-cell:/c%3A/Users/aleks/Desktop/Python/AI/definicje/definicje.ipynb#X16sZmlsZQ%3D%3D\"}\n",
      "znajdzka {\"silent\":false,\"store_history\":true,\"user_expressions\":{},\"allow_stdin\":true,\"stop_on_error\":false,\"code\":\"word_tokenize('Lazy dog jump over fluffy fox.')\"}\n"
     ]
    },
    {
     "data": {
      "text/plain": [
       "['Lazy', 'dog', 'jump', 'over', 'fluffy', 'fox', '.']"
      ]
     },
     "execution_count": 57,
     "metadata": {},
     "output_type": "execute_result"
    }
   ],
   "source": [
    "word_tokenize('Lazy dog jump over fluffy fox.')"
   ]
  },
  {
   "cell_type": "code",
   "execution_count": 15,
   "id": "87b882d5-f978-455e-9dbf-8458a7df9784",
   "metadata": {},
   "outputs": [
    {
     "name": "stdout",
     "output_type": "stream",
     "text": [
      "znajdzka {\"date\":\"2024-10-15T08:42:15.858Z\",\"msg_id\":\"f2b1a1eb-0634-43c5-a10d-d5faa9ff497d\",\"msg_type\":\"execute_request\",\"session\":\"c44cdea7-1f4a-42ff-8ee9-50eaa837fbe2\",\"username\":\"09268c39-1f81-4d55-b45a-c5380e590122\",\"version\":\"5.2\"}\n",
      "znajdzka {}\n",
      "znajdzka {\"cellId\":\"vscode-notebook-cell:/c%3A/Users/aleks/Desktop/Python/AI/definicje/definicje.ipynb#X20sZmlsZQ%3D%3D\"}\n",
      "znajdzka {\"silent\":false,\"store_history\":true,\"user_expressions\":{},\"allow_stdin\":true,\"stop_on_error\":false,\"code\":\"def make_bag_of_words(data:pd.DataFrame)->dict:\\n    bag_of_words = {}\\n    data = data.to_dict('records')\\n    count = 1\\n    for lbl in data:\\n        for sent in lbl.values():\\n            if type(sent) is float:\\n                continue\\n            words = word_tokenize(sent)\\n\\n            for word in words:\\n                if word not in bag_of_words:\\n                    bag_of_words[word] = count\\n                if word in bag_of_words:\\n                    count += 1\\n                \\n    return bag_of_words\"}\n"
     ]
    }
   ],
   "source": [
    "def make_bag_of_words(data:pd.DataFrame)->dict:\n",
    "    bag_of_words = {}\n",
    "    data = data.to_dict('records')\n",
    "    count = 1\n",
    "    for lbl in data:\n",
    "        for sent in lbl.values():\n",
    "            if type(sent) is float:\n",
    "                continue\n",
    "            words = word_tokenize(sent)\n",
    "\n",
    "            for word in words:\n",
    "                if word not in bag_of_words:\n",
    "                    bag_of_words[word] = count\n",
    "                if word in bag_of_words:\n",
    "                    count += 1\n",
    "                \n",
    "    return bag_of_words"
   ]
  },
  {
   "cell_type": "code",
   "execution_count": 16,
   "id": "b7399cde-4fb9-4dfe-a737-63aa683d3dd1",
   "metadata": {},
   "outputs": [
    {
     "name": "stdout",
     "output_type": "stream",
     "text": [
      "znajdzka {\"date\":\"2024-10-15T08:42:17.220Z\",\"msg_id\":\"42a9d306-60fc-4beb-b645-a0bd072204aa\",\"msg_type\":\"execute_request\",\"session\":\"c44cdea7-1f4a-42ff-8ee9-50eaa837fbe2\",\"username\":\"09268c39-1f81-4d55-b45a-c5380e590122\",\"version\":\"5.2\"}\n",
      "znajdzka {}\n",
      "znajdzka {\"cellId\":\"vscode-notebook-cell:/c%3A/Users/aleks/Desktop/Python/AI/definicje/definicje.ipynb#X21sZmlsZQ%3D%3D\"}\n",
      "znajdzka {\"silent\":false,\"store_history\":true,\"user_expressions\":{},\"allow_stdin\":true,\"stop_on_error\":false,\"code\":\"\\nbag_of_words = make_bag_of_words(df)\"}\n"
     ]
    }
   ],
   "source": [
    "\n",
    "bag_of_words = make_bag_of_words(df)"
   ]
  },
  {
   "cell_type": "code",
   "execution_count": 17,
   "id": "ba9b36b5-e54d-456e-8abf-f2241dde0f76",
   "metadata": {},
   "outputs": [
    {
     "name": "stdout",
     "output_type": "stream",
     "text": [
      "znajdzka {\"date\":\"2024-10-15T08:42:18.671Z\",\"msg_id\":\"ce330240-3007-4ded-9804-0db758133d52\",\"msg_type\":\"execute_request\",\"session\":\"c44cdea7-1f4a-42ff-8ee9-50eaa837fbe2\",\"username\":\"09268c39-1f81-4d55-b45a-c5380e590122\",\"version\":\"5.2\"}\n",
      "znajdzka {}\n",
      "znajdzka {\"cellId\":\"vscode-notebook-cell:/c%3A/Users/aleks/Desktop/Python/AI/definicje/definicje.ipynb#X22sZmlsZQ%3D%3D\"}\n",
      "znajdzka {\"silent\":false,\"store_history\":true,\"user_expressions\":{},\"allow_stdin\":true,\"stop_on_error\":false,\"code\":\"def convert_words_to_vectors(data:pd.DataFrame, bag_of_words:dict)->list:\\n    data = data.to_dict('records')\\n    vectors = []\\n\\n    for row in data:\\n        for lbl, sent in row.items():\\n            if type(sent) is float:\\n                continue\\n            words = word_tokenize(sent)\\n            \\n            vecs = [bag_of_words[word] for word in words]\\n            if lbl == 'no_definition':\\n                vectors.append({0:vecs})\\n            else:\\n                vectors.append({1:vecs})\\n    return vectors\"}\n"
     ]
    }
   ],
   "source": [
    "def convert_words_to_vectors(data:pd.DataFrame, bag_of_words:dict)->list:\n",
    "    data = data.to_dict('records')\n",
    "    vectors = []\n",
    "\n",
    "    for row in data:\n",
    "        for lbl, sent in row.items():\n",
    "            if type(sent) is float:\n",
    "                continue\n",
    "            words = word_tokenize(sent)\n",
    "            \n",
    "            vecs = [bag_of_words[word] for word in words]\n",
    "            if lbl == 'no_definition':\n",
    "                vectors.append({0:vecs})\n",
    "            else:\n",
    "                vectors.append({1:vecs})\n",
    "    return vectors"
   ]
  },
  {
   "cell_type": "code",
   "execution_count": 18,
   "id": "43d00b42",
   "metadata": {},
   "outputs": [
    {
     "name": "stdout",
     "output_type": "stream",
     "text": [
      "znajdzka {\"date\":\"2024-10-15T08:42:20.041Z\",\"msg_id\":\"49972901-0f12-41da-ae52-925448bf5be3\",\"msg_type\":\"execute_request\",\"session\":\"c44cdea7-1f4a-42ff-8ee9-50eaa837fbe2\",\"username\":\"09268c39-1f81-4d55-b45a-c5380e590122\",\"version\":\"5.2\"}\n",
      "znajdzka {}\n",
      "znajdzka {\"cellId\":\"vscode-notebook-cell:/c%3A/Users/aleks/Desktop/Python/AI/definicje/definicje.ipynb#X23sZmlsZQ%3D%3D\"}\n",
      "znajdzka {\"silent\":false,\"store_history\":true,\"user_expressions\":{},\"allow_stdin\":true,\"stop_on_error\":false,\"code\":\"words_to_vectors = convert_words_to_vectors(df, bag_of_words)\"}\n"
     ]
    }
   ],
   "source": [
    "words_to_vectors = convert_words_to_vectors(df, bag_of_words)"
   ]
  },
  {
   "cell_type": "code",
   "execution_count": 19,
   "id": "6a83a467",
   "metadata": {},
   "outputs": [
    {
     "name": "stdout",
     "output_type": "stream",
     "text": [
      "znajdzka {\"date\":\"2024-10-15T08:42:20.701Z\",\"msg_id\":\"9476678c-1ee7-437a-ac40-61849e715d97\",\"msg_type\":\"execute_request\",\"session\":\"c44cdea7-1f4a-42ff-8ee9-50eaa837fbe2\",\"username\":\"09268c39-1f81-4d55-b45a-c5380e590122\",\"version\":\"5.2\"}\n",
      "znajdzka {}\n",
      "znajdzka {\"cellId\":\"vscode-notebook-cell:/c%3A/Users/aleks/Desktop/Python/AI/definicje/definicje.ipynb#X24sZmlsZQ%3D%3D\"}\n",
      "znajdzka {\"silent\":false,\"store_history\":true,\"user_expressions\":{},\"allow_stdin\":true,\"stop_on_error\":false,\"code\":\"def labels_texts(words_to_vectors:list):\\n    labels = []\\n    texts = []\\n\\n    for vector in words_to_vectors:\\n        for label, text in vector.items():\\n            labels.append(label)\\n            texts.append(text)\\n    return labels, texts\\n\"}\n"
     ]
    }
   ],
   "source": [
    "def labels_texts(words_to_vectors:list):\n",
    "    labels = []\n",
    "    texts = []\n",
    "\n",
    "    for vector in words_to_vectors:\n",
    "        for label, text in vector.items():\n",
    "            labels.append(label)\n",
    "            texts.append(text)\n",
    "    return labels, texts\n"
   ]
  },
  {
   "cell_type": "code",
   "execution_count": 20,
   "id": "e9be5421",
   "metadata": {},
   "outputs": [
    {
     "name": "stdout",
     "output_type": "stream",
     "text": [
      "znajdzka {\"date\":\"2024-10-15T08:42:21.441Z\",\"msg_id\":\"9bbd81d3-9933-40b3-b06c-3a71c5ec8ca3\",\"msg_type\":\"execute_request\",\"session\":\"c44cdea7-1f4a-42ff-8ee9-50eaa837fbe2\",\"username\":\"09268c39-1f81-4d55-b45a-c5380e590122\",\"version\":\"5.2\"}\n",
      "znajdzka {}\n",
      "znajdzka {\"cellId\":\"vscode-notebook-cell:/c%3A/Users/aleks/Desktop/Python/AI/definicje/definicje.ipynb#X25sZmlsZQ%3D%3D\"}\n",
      "znajdzka {\"silent\":false,\"store_history\":true,\"user_expressions\":{},\"allow_stdin\":true,\"stop_on_error\":false,\"code\":\"labels, texts = labels_texts(words_to_vectors)\"}\n"
     ]
    }
   ],
   "source": [
    "labels, texts = labels_texts(words_to_vectors)"
   ]
  },
  {
   "cell_type": "code",
   "execution_count": 64,
   "id": "d9db37db",
   "metadata": {},
   "outputs": [
    {
     "name": "stdout",
     "output_type": "stream",
     "text": [
      "znajdzka {\"date\":\"2024-10-15T08:20:49.150Z\",\"msg_id\":\"44ab7177-5f57-4be9-ae9d-e11b31136770\",\"msg_type\":\"execute_request\",\"session\":\"cb7c4b03-d5df-4786-96ba-cfb464677bfc\",\"username\":\"17b94c58-16f5-4526-aec2-19a3448653f3\",\"version\":\"5.2\"}\n",
      "znajdzka {}\n",
      "znajdzka {\"cellId\":\"vscode-notebook-cell:/c%3A/Users/aleks/Desktop/Python/AI/definicje/definicje.ipynb#X26sZmlsZQ%3D%3D\"}\n",
      "znajdzka {\"silent\":false,\"store_history\":true,\"user_expressions\":{},\"allow_stdin\":true,\"stop_on_error\":false,\"code\":\"labels\"}\n"
     ]
    },
    {
     "data": {
      "text/plain": [
       "[1,\n",
       " 0,\n",
       " 1,\n",
       " 0,\n",
       " 1,\n",
       " 0,\n",
       " 1,\n",
       " 0,\n",
       " 1,\n",
       " 0,\n",
       " 1,\n",
       " 0,\n",
       " 1,\n",
       " 0,\n",
       " 1,\n",
       " 0,\n",
       " 1,\n",
       " 0,\n",
       " 1,\n",
       " 0,\n",
       " 1,\n",
       " 0,\n",
       " 1,\n",
       " 0,\n",
       " 1,\n",
       " 0,\n",
       " 1,\n",
       " 0,\n",
       " 1,\n",
       " 0,\n",
       " 1,\n",
       " 0,\n",
       " 1,\n",
       " 0,\n",
       " 1,\n",
       " 0,\n",
       " 1,\n",
       " 0,\n",
       " 1,\n",
       " 0,\n",
       " 1,\n",
       " 0,\n",
       " 1,\n",
       " 0,\n",
       " 1,\n",
       " 0,\n",
       " 1,\n",
       " 0,\n",
       " 1,\n",
       " 0,\n",
       " 1,\n",
       " 0,\n",
       " 1,\n",
       " 0,\n",
       " 1,\n",
       " 0,\n",
       " 1,\n",
       " 0,\n",
       " 1,\n",
       " 0,\n",
       " 1,\n",
       " 0,\n",
       " 1,\n",
       " 0,\n",
       " 1,\n",
       " 0,\n",
       " 1,\n",
       " 0,\n",
       " 1,\n",
       " 0,\n",
       " 1,\n",
       " 0,\n",
       " 1,\n",
       " 0,\n",
       " 1,\n",
       " 0,\n",
       " 1,\n",
       " 0,\n",
       " 1,\n",
       " 0,\n",
       " 1,\n",
       " 0,\n",
       " 1,\n",
       " 0,\n",
       " 1,\n",
       " 0,\n",
       " 1,\n",
       " 0,\n",
       " 1,\n",
       " 0,\n",
       " 1,\n",
       " 0,\n",
       " 1,\n",
       " 0,\n",
       " 1,\n",
       " 0,\n",
       " 1,\n",
       " 0,\n",
       " 1,\n",
       " 0,\n",
       " 1,\n",
       " 0,\n",
       " 1,\n",
       " 0,\n",
       " 1,\n",
       " 0,\n",
       " 1,\n",
       " 0,\n",
       " 1,\n",
       " 0,\n",
       " 1,\n",
       " 0,\n",
       " 1,\n",
       " 0,\n",
       " 1,\n",
       " 0,\n",
       " 1,\n",
       " 0,\n",
       " 1,\n",
       " 0,\n",
       " 1,\n",
       " 0,\n",
       " 1,\n",
       " 0,\n",
       " 1,\n",
       " 0,\n",
       " 1,\n",
       " 0,\n",
       " 1,\n",
       " 0,\n",
       " 1,\n",
       " 0,\n",
       " 1,\n",
       " 0,\n",
       " 1,\n",
       " 0,\n",
       " 1,\n",
       " 0,\n",
       " 1,\n",
       " 0,\n",
       " 1,\n",
       " 0,\n",
       " 1,\n",
       " 0,\n",
       " 1,\n",
       " 0,\n",
       " 1,\n",
       " 0,\n",
       " 1,\n",
       " 0,\n",
       " 1,\n",
       " 0,\n",
       " 1,\n",
       " 0,\n",
       " 1,\n",
       " 0,\n",
       " 1,\n",
       " 0,\n",
       " 1,\n",
       " 0,\n",
       " 1,\n",
       " 0,\n",
       " 1,\n",
       " 0,\n",
       " 1,\n",
       " 0,\n",
       " 0,\n",
       " 0,\n",
       " 1,\n",
       " 0,\n",
       " 1,\n",
       " 0,\n",
       " 1,\n",
       " 0,\n",
       " 1,\n",
       " 0,\n",
       " 1,\n",
       " 0,\n",
       " 1,\n",
       " 0,\n",
       " 1,\n",
       " 0,\n",
       " 0,\n",
       " 0,\n",
       " 0,\n",
       " 0,\n",
       " 0,\n",
       " 0,\n",
       " 0,\n",
       " 0,\n",
       " 0,\n",
       " 1,\n",
       " 0]"
      ]
     },
     "execution_count": 64,
     "metadata": {},
     "output_type": "execute_result"
    }
   ],
   "source": [
    "labels"
   ]
  },
  {
   "cell_type": "code",
   "execution_count": 65,
   "id": "72b6ea04",
   "metadata": {},
   "outputs": [
    {
     "name": "stdout",
     "output_type": "stream",
     "text": [
      "znajdzka {\"date\":\"2024-10-15T08:20:49.984Z\",\"msg_id\":\"b45195ff-ef97-4e93-a41e-22556faec667\",\"msg_type\":\"execute_request\",\"session\":\"cb7c4b03-d5df-4786-96ba-cfb464677bfc\",\"username\":\"17b94c58-16f5-4526-aec2-19a3448653f3\",\"version\":\"5.2\"}\n",
      "znajdzka {}\n",
      "znajdzka {\"cellId\":\"vscode-notebook-cell:/c%3A/Users/aleks/Desktop/Python/AI/definicje/definicje.ipynb#X30sZmlsZQ%3D%3D\"}\n",
      "znajdzka {\"silent\":false,\"store_history\":true,\"user_expressions\":{},\"allow_stdin\":true,\"stop_on_error\":false,\"code\":\"len(labels)\"}\n"
     ]
    },
    {
     "data": {
      "text/plain": [
       "193"
      ]
     },
     "execution_count": 65,
     "metadata": {},
     "output_type": "execute_result"
    }
   ],
   "source": [
    "len(labels)"
   ]
  },
  {
   "cell_type": "code",
   "execution_count": 66,
   "id": "39e87702",
   "metadata": {},
   "outputs": [
    {
     "name": "stdout",
     "output_type": "stream",
     "text": [
      "znajdzka {\"date\":\"2024-10-15T08:20:50.524Z\",\"msg_id\":\"da1b2f38-44ac-4c50-87bd-466f8a220aca\",\"msg_type\":\"execute_request\",\"session\":\"cb7c4b03-d5df-4786-96ba-cfb464677bfc\",\"username\":\"17b94c58-16f5-4526-aec2-19a3448653f3\",\"version\":\"5.2\"}\n",
      "znajdzka {}\n",
      "znajdzka {\"cellId\":\"vscode-notebook-cell:/c%3A/Users/aleks/Desktop/Python/AI/definicje/definicje.ipynb#X31sZmlsZQ%3D%3D\"}\n",
      "znajdzka {\"silent\":false,\"store_history\":true,\"user_expressions\":{},\"allow_stdin\":true,\"stop_on_error\":false,\"code\":\"len(texts)\"}\n"
     ]
    },
    {
     "data": {
      "text/plain": [
       "193"
      ]
     },
     "execution_count": 66,
     "metadata": {},
     "output_type": "execute_result"
    }
   ],
   "source": [
    "len(texts)"
   ]
  },
  {
   "cell_type": "code",
   "execution_count": 21,
   "id": "907ef04a",
   "metadata": {},
   "outputs": [
    {
     "name": "stdout",
     "output_type": "stream",
     "text": [
      "znajdzka {\"date\":\"2024-10-15T08:42:25.384Z\",\"msg_id\":\"b8178d8e-2b41-4f2f-9413-62cb428b6934\",\"msg_type\":\"execute_request\",\"session\":\"c44cdea7-1f4a-42ff-8ee9-50eaa837fbe2\",\"username\":\"09268c39-1f81-4d55-b45a-c5380e590122\",\"version\":\"5.2\"}\n",
      "znajdzka {}\n",
      "znajdzka {\"cellId\":\"vscode-notebook-cell:/c%3A/Users/aleks/Desktop/Python/AI/definicje/definicje.ipynb#X32sZmlsZQ%3D%3D\"}\n",
      "znajdzka {\"silent\":false,\"store_history\":true,\"user_expressions\":{},\"allow_stdin\":true,\"stop_on_error\":false,\"code\":\"from keras.preprocessing.sequence import pad_sequences\"}\n"
     ]
    },
    {
     "name": "stdout",
     "output_type": "stream",
     "text": [
      "znajdzka {\n",
      "    \"floatx\": \"float32\",\n",
      "    \"epsilon\": 1e-07,\n",
      "    \"backend\": \"tensorflow\",\n",
      "    \"image_data_format\": \"channels_last\"\n",
      "}\n",
      "znajdzka {\n",
      "    \"floatx\": \"float32\",\n",
      "    \"epsilon\": 1e-07,\n",
      "    \"backend\": \"tensorflow\",\n",
      "    \"image_data_format\": \"channels_last\"\n",
      "}\n"
     ]
    }
   ],
   "source": [
    "from keras.preprocessing.sequence import pad_sequences"
   ]
  },
  {
   "cell_type": "code",
   "execution_count": 22,
   "id": "799537bd",
   "metadata": {},
   "outputs": [
    {
     "name": "stdout",
     "output_type": "stream",
     "text": [
      "znajdzka {\"date\":\"2024-10-15T08:42:54.219Z\",\"msg_id\":\"df419a35-572a-46ea-a32c-ecb3a027b208\",\"msg_type\":\"execute_request\",\"session\":\"c44cdea7-1f4a-42ff-8ee9-50eaa837fbe2\",\"username\":\"09268c39-1f81-4d55-b45a-c5380e590122\",\"version\":\"5.2\"}\n",
      "znajdzka {}\n",
      "znajdzka {\"cellId\":\"vscode-notebook-cell:/c%3A/Users/aleks/Desktop/Python/AI/definicje/definicje.ipynb#X33sZmlsZQ%3D%3D\"}\n",
      "znajdzka {\"silent\":false,\"store_history\":true,\"user_expressions\":{},\"allow_stdin\":true,\"stop_on_error\":false,\"code\":\"max_len = 50\\ntraining_samples = 100\"}\n"
     ]
    }
   ],
   "source": [
    "max_len = 50\n",
    "training_samples = 100"
   ]
  },
  {
   "cell_type": "code",
   "execution_count": 23,
   "id": "18fe2591",
   "metadata": {},
   "outputs": [
    {
     "name": "stdout",
     "output_type": "stream",
     "text": [
      "znajdzka {\"date\":\"2024-10-15T08:42:56.149Z\",\"msg_id\":\"b3be1a0e-681b-4f3e-8b67-fbb132a20e30\",\"msg_type\":\"execute_request\",\"session\":\"c44cdea7-1f4a-42ff-8ee9-50eaa837fbe2\",\"username\":\"09268c39-1f81-4d55-b45a-c5380e590122\",\"version\":\"5.2\"}\n",
      "znajdzka {}\n",
      "znajdzka {\"cellId\":\"vscode-notebook-cell:/c%3A/Users/aleks/Desktop/Python/AI/definicje/definicje.ipynb#X34sZmlsZQ%3D%3D\"}\n",
      "znajdzka {\"silent\":false,\"store_history\":true,\"user_expressions\":{},\"allow_stdin\":true,\"stop_on_error\":false,\"code\":\"content = pad_sequences(texts,maxlen=max_len)\"}\n"
     ]
    }
   ],
   "source": [
    "content = pad_sequences(texts,maxlen=max_len)"
   ]
  },
  {
   "cell_type": "code",
   "execution_count": 24,
   "id": "7579e28b",
   "metadata": {},
   "outputs": [
    {
     "name": "stdout",
     "output_type": "stream",
     "text": [
      "znajdzka {\"date\":\"2024-10-15T08:42:57.874Z\",\"msg_id\":\"563de8d6-409b-441d-918c-c5632aef8a3d\",\"msg_type\":\"execute_request\",\"session\":\"c44cdea7-1f4a-42ff-8ee9-50eaa837fbe2\",\"username\":\"09268c39-1f81-4d55-b45a-c5380e590122\",\"version\":\"5.2\"}\n",
      "znajdzka {}\n",
      "znajdzka {\"cellId\":\"vscode-notebook-cell:/c%3A/Users/aleks/Desktop/Python/AI/definicje/definicje.ipynb#X35sZmlsZQ%3D%3D\"}\n",
      "znajdzka {\"silent\":false,\"store_history\":true,\"user_expressions\":{},\"allow_stdin\":true,\"stop_on_error\":false,\"code\":\"content\"}\n"
     ]
    },
    {
     "data": {
      "text/plain": [
       "array([[   0,    0,    0, ...,   38,   39,   40],\n",
       "       [   0,    0,    0, ...,   52,   53,   40],\n",
       "       [   0,    0,    0, ...,   30,   84,   40],\n",
       "       ...,\n",
       "       [   0,    0,    0, ..., 7343, 2526,   40],\n",
       "       [   0,    0,    0, ...,  189, 1131,   40],\n",
       "       [   0,    0,    0, ..., 7386, 7387,   40]])"
      ]
     },
     "execution_count": 24,
     "metadata": {},
     "output_type": "execute_result"
    }
   ],
   "source": [
    "content"
   ]
  },
  {
   "cell_type": "code",
   "execution_count": 25,
   "id": "db62e787",
   "metadata": {},
   "outputs": [
    {
     "name": "stdout",
     "output_type": "stream",
     "text": [
      "znajdzka {\"date\":\"2024-10-15T08:43:00.748Z\",\"msg_id\":\"6d9d869d-f5e7-4f47-bf24-bc8646cfb629\",\"msg_type\":\"execute_request\",\"session\":\"c44cdea7-1f4a-42ff-8ee9-50eaa837fbe2\",\"username\":\"09268c39-1f81-4d55-b45a-c5380e590122\",\"version\":\"5.2\"}\n",
      "znajdzka {}\n",
      "znajdzka {\"cellId\":\"vscode-notebook-cell:/c%3A/Users/aleks/Desktop/Python/AI/definicje/definicje.ipynb#X36sZmlsZQ%3D%3D\"}\n",
      "znajdzka {\"silent\":false,\"store_history\":true,\"user_expressions\":{},\"allow_stdin\":true,\"stop_on_error\":false,\"code\":\"lbls = np.asarray(labels)\"}\n"
     ]
    }
   ],
   "source": [
    "lbls = np.asarray(labels)"
   ]
  },
  {
   "cell_type": "code",
   "execution_count": 26,
   "id": "6ef4cb62",
   "metadata": {},
   "outputs": [
    {
     "name": "stdout",
     "output_type": "stream",
     "text": [
      "znajdzka {\"date\":\"2024-10-15T08:43:03.035Z\",\"msg_id\":\"7c42d2fc-2401-40db-a779-0f1f1dfe9fda\",\"msg_type\":\"execute_request\",\"session\":\"c44cdea7-1f4a-42ff-8ee9-50eaa837fbe2\",\"username\":\"09268c39-1f81-4d55-b45a-c5380e590122\",\"version\":\"5.2\"}\n",
      "znajdzka {}\n",
      "znajdzka {\"cellId\":\"vscode-notebook-cell:/c%3A/Users/aleks/Desktop/Python/AI/definicje/definicje.ipynb#X40sZmlsZQ%3D%3D\"}\n",
      "znajdzka {\"silent\":false,\"store_history\":true,\"user_expressions\":{},\"allow_stdin\":true,\"stop_on_error\":false,\"code\":\"type(lbls)\"}\n"
     ]
    },
    {
     "data": {
      "text/plain": [
       "numpy.ndarray"
      ]
     },
     "execution_count": 26,
     "metadata": {},
     "output_type": "execute_result"
    }
   ],
   "source": [
    "type(lbls)"
   ]
  },
  {
   "cell_type": "code",
   "execution_count": 27,
   "id": "c0ce4a19",
   "metadata": {},
   "outputs": [
    {
     "name": "stdout",
     "output_type": "stream",
     "text": [
      "znajdzka {\"date\":\"2024-10-15T08:43:04.901Z\",\"msg_id\":\"9a432ffb-0766-4004-8f8d-ba30b7d14823\",\"msg_type\":\"execute_request\",\"session\":\"c44cdea7-1f4a-42ff-8ee9-50eaa837fbe2\",\"username\":\"09268c39-1f81-4d55-b45a-c5380e590122\",\"version\":\"5.2\"}\n",
      "znajdzka {}\n",
      "znajdzka {\"cellId\":\"vscode-notebook-cell:/c%3A/Users/aleks/Desktop/Python/AI/definicje/definicje.ipynb#X41sZmlsZQ%3D%3D\"}\n",
      "znajdzka {\"silent\":false,\"store_history\":true,\"user_expressions\":{},\"allow_stdin\":true,\"stop_on_error\":false,\"code\":\"lbls.shape\"}\n"
     ]
    },
    {
     "data": {
      "text/plain": [
       "(193,)"
      ]
     },
     "execution_count": 27,
     "metadata": {},
     "output_type": "execute_result"
    }
   ],
   "source": [
    "lbls.shape"
   ]
  },
  {
   "cell_type": "code",
   "execution_count": 28,
   "id": "ab24edc3",
   "metadata": {},
   "outputs": [
    {
     "name": "stdout",
     "output_type": "stream",
     "text": [
      "znajdzka {\"date\":\"2024-10-15T08:43:05.360Z\",\"msg_id\":\"d7a72561-ee47-4a6b-a66c-6be058e64277\",\"msg_type\":\"execute_request\",\"session\":\"c44cdea7-1f4a-42ff-8ee9-50eaa837fbe2\",\"username\":\"09268c39-1f81-4d55-b45a-c5380e590122\",\"version\":\"5.2\"}\n",
      "znajdzka {}\n",
      "znajdzka {\"cellId\":\"vscode-notebook-cell:/c%3A/Users/aleks/Desktop/Python/AI/definicje/definicje.ipynb#X42sZmlsZQ%3D%3D\"}\n",
      "znajdzka {\"silent\":false,\"store_history\":true,\"user_expressions\":{},\"allow_stdin\":true,\"stop_on_error\":false,\"code\":\"content.shape\"}\n"
     ]
    },
    {
     "data": {
      "text/plain": [
       "(193, 50)"
      ]
     },
     "execution_count": 28,
     "metadata": {},
     "output_type": "execute_result"
    }
   ],
   "source": [
    "content.shape"
   ]
  },
  {
   "cell_type": "code",
   "execution_count": 75,
   "id": "ec6b9029",
   "metadata": {},
   "outputs": [
    {
     "name": "stdout",
     "output_type": "stream",
     "text": [
      "znajdzka {\"date\":\"2024-10-15T08:21:01.254Z\",\"msg_id\":\"b794759a-a674-4884-92b2-16e1c8993b63\",\"msg_type\":\"execute_request\",\"session\":\"cb7c4b03-d5df-4786-96ba-cfb464677bfc\",\"username\":\"17b94c58-16f5-4526-aec2-19a3448653f3\",\"version\":\"5.2\"}\n",
      "znajdzka {}\n",
      "znajdzka {\"cellId\":\"vscode-notebook-cell:/c%3A/Users/aleks/Desktop/Python/AI/definicje/definicje.ipynb#X56sZmlsZQ%3D%3D\"}\n",
      "znajdzka {\"silent\":false,\"store_history\":true,\"user_expressions\":{},\"allow_stdin\":true,\"stop_on_error\":false,\"code\":\"content.shape[0]\"}\n"
     ]
    },
    {
     "data": {
      "text/plain": [
       "193"
      ]
     },
     "execution_count": 75,
     "metadata": {},
     "output_type": "execute_result"
    }
   ],
   "source": [
    "content.shape[0]"
   ]
  },
  {
   "cell_type": "code",
   "execution_count": 29,
   "id": "936a2938",
   "metadata": {},
   "outputs": [
    {
     "name": "stdout",
     "output_type": "stream",
     "text": [
      "znajdzka {\"date\":\"2024-10-15T08:43:08.408Z\",\"msg_id\":\"9bb36e9a-dcfa-47e5-a4ed-07d537be8045\",\"msg_type\":\"execute_request\",\"session\":\"c44cdea7-1f4a-42ff-8ee9-50eaa837fbe2\",\"username\":\"09268c39-1f81-4d55-b45a-c5380e590122\",\"version\":\"5.2\"}\n",
      "znajdzka {}\n",
      "znajdzka {\"cellId\":\"vscode-notebook-cell:/c%3A/Users/aleks/Desktop/Python/AI/definicje/definicje.ipynb#X44sZmlsZQ%3D%3D\"}\n",
      "znajdzka {\"silent\":false,\"store_history\":true,\"user_expressions\":{},\"allow_stdin\":true,\"stop_on_error\":false,\"code\":\"indices = np.arange(content.shape[0])\"}\n"
     ]
    }
   ],
   "source": [
    "indices = np.arange(content.shape[0])"
   ]
  },
  {
   "cell_type": "code",
   "execution_count": 30,
   "id": "ead0abfa",
   "metadata": {},
   "outputs": [
    {
     "name": "stdout",
     "output_type": "stream",
     "text": [
      "znajdzka {\"date\":\"2024-10-15T08:43:10.507Z\",\"msg_id\":\"fc708e8b-2d63-4f93-8cd1-ba1a7706587b\",\"msg_type\":\"execute_request\",\"session\":\"c44cdea7-1f4a-42ff-8ee9-50eaa837fbe2\",\"username\":\"09268c39-1f81-4d55-b45a-c5380e590122\",\"version\":\"5.2\"}\n",
      "znajdzka {}\n",
      "znajdzka {\"cellId\":\"vscode-notebook-cell:/c%3A/Users/aleks/Desktop/Python/AI/definicje/definicje.ipynb#X45sZmlsZQ%3D%3D\"}\n",
      "znajdzka {\"silent\":false,\"store_history\":true,\"user_expressions\":{},\"allow_stdin\":true,\"stop_on_error\":false,\"code\":\"indices\"}\n"
     ]
    },
    {
     "data": {
      "text/plain": [
       "array([  0,   1,   2,   3,   4,   5,   6,   7,   8,   9,  10,  11,  12,\n",
       "        13,  14,  15,  16,  17,  18,  19,  20,  21,  22,  23,  24,  25,\n",
       "        26,  27,  28,  29,  30,  31,  32,  33,  34,  35,  36,  37,  38,\n",
       "        39,  40,  41,  42,  43,  44,  45,  46,  47,  48,  49,  50,  51,\n",
       "        52,  53,  54,  55,  56,  57,  58,  59,  60,  61,  62,  63,  64,\n",
       "        65,  66,  67,  68,  69,  70,  71,  72,  73,  74,  75,  76,  77,\n",
       "        78,  79,  80,  81,  82,  83,  84,  85,  86,  87,  88,  89,  90,\n",
       "        91,  92,  93,  94,  95,  96,  97,  98,  99, 100, 101, 102, 103,\n",
       "       104, 105, 106, 107, 108, 109, 110, 111, 112, 113, 114, 115, 116,\n",
       "       117, 118, 119, 120, 121, 122, 123, 124, 125, 126, 127, 128, 129,\n",
       "       130, 131, 132, 133, 134, 135, 136, 137, 138, 139, 140, 141, 142,\n",
       "       143, 144, 145, 146, 147, 148, 149, 150, 151, 152, 153, 154, 155,\n",
       "       156, 157, 158, 159, 160, 161, 162, 163, 164, 165, 166, 167, 168,\n",
       "       169, 170, 171, 172, 173, 174, 175, 176, 177, 178, 179, 180, 181,\n",
       "       182, 183, 184, 185, 186, 187, 188, 189, 190, 191, 192])"
      ]
     },
     "execution_count": 30,
     "metadata": {},
     "output_type": "execute_result"
    }
   ],
   "source": [
    "indices"
   ]
  },
  {
   "cell_type": "code",
   "execution_count": 31,
   "id": "9e1c16de",
   "metadata": {},
   "outputs": [
    {
     "name": "stdout",
     "output_type": "stream",
     "text": [
      "znajdzka {\"date\":\"2024-10-15T08:43:15.388Z\",\"msg_id\":\"94adee4a-4281-41cb-acc7-c7fff390de76\",\"msg_type\":\"execute_request\",\"session\":\"c44cdea7-1f4a-42ff-8ee9-50eaa837fbe2\",\"username\":\"09268c39-1f81-4d55-b45a-c5380e590122\",\"version\":\"5.2\"}\n",
      "znajdzka {}\n",
      "znajdzka {\"cellId\":\"vscode-notebook-cell:/c%3A/Users/aleks/Desktop/Python/AI/definicje/definicje.ipynb#X46sZmlsZQ%3D%3D\"}\n",
      "znajdzka {\"silent\":false,\"store_history\":true,\"user_expressions\":{},\"allow_stdin\":true,\"stop_on_error\":false,\"code\":\"np.random.shuffle(indices)\"}\n"
     ]
    }
   ],
   "source": [
    "np.random.shuffle(indices)"
   ]
  },
  {
   "cell_type": "code",
   "execution_count": 32,
   "id": "c48d998a",
   "metadata": {},
   "outputs": [
    {
     "name": "stdout",
     "output_type": "stream",
     "text": [
      "znajdzka {\"date\":\"2024-10-15T08:43:17.201Z\",\"msg_id\":\"1d51a7bf-aaac-4699-b890-1963367f230b\",\"msg_type\":\"execute_request\",\"session\":\"c44cdea7-1f4a-42ff-8ee9-50eaa837fbe2\",\"username\":\"09268c39-1f81-4d55-b45a-c5380e590122\",\"version\":\"5.2\"}\n",
      "znajdzka {}\n",
      "znajdzka {\"cellId\":\"vscode-notebook-cell:/c%3A/Users/aleks/Desktop/Python/AI/definicje/definicje.ipynb#X50sZmlsZQ%3D%3D\"}\n",
      "znajdzka {\"silent\":false,\"store_history\":true,\"user_expressions\":{},\"allow_stdin\":true,\"stop_on_error\":false,\"code\":\"indices\"}\n"
     ]
    },
    {
     "data": {
      "text/plain": [
       "array([101,  85, 105,  98, 120,  20,  50,  79,  15,  77, 157, 139,  26,\n",
       "        45, 104,  47,  74, 156,  71, 165,  60, 123,  70, 183, 147, 181,\n",
       "       171,  56, 132,  55,  44,  32, 145,  93,  65,  12,  84, 129,  51,\n",
       "        28, 110,  42, 174, 179, 173,  81, 117, 148,  72,  49,  40, 126,\n",
       "         7,  90, 164,  61,  30,  76, 144,  68,  41,   4,  82,  91,  22,\n",
       "       106,  69, 118, 189, 175,  36,   2,  96,  34,  46, 190,  21,  29,\n",
       "        64, 131,  78,  10, 192,  59, 185, 176,  52, 100, 163, 109,   9,\n",
       "        87, 115,  92, 153,  24, 169,  58, 160,  25, 133, 112, 161, 140,\n",
       "       121, 158, 166,  99, 155,  37,  11,  35,  63, 170, 134, 184, 162,\n",
       "       159, 141,  95,   6, 150,   0, 114,  62, 152,  53, 178,  88, 187,\n",
       "        57, 167,  54, 177, 180,  43,  27,  66, 136,  89,  18, 124,  31,\n",
       "        23, 130, 188, 119, 146, 107,   8,  33, 151, 108, 125,  48,  19,\n",
       "         5, 127, 172, 137,  14,  86, 122, 191, 135, 113,  17, 149, 111,\n",
       "        39, 116, 182, 138, 142,  83, 103, 143,  16,  67,  97,  80, 154,\n",
       "       168,  38,  75,  73,  13, 102,   3, 186,   1,  94, 128])"
      ]
     },
     "execution_count": 32,
     "metadata": {},
     "output_type": "execute_result"
    }
   ],
   "source": [
    "indices"
   ]
  },
  {
   "cell_type": "code",
   "execution_count": 33,
   "id": "d6931c15",
   "metadata": {},
   "outputs": [
    {
     "name": "stdout",
     "output_type": "stream",
     "text": [
      "znajdzka {\"date\":\"2024-10-15T08:43:19.542Z\",\"msg_id\":\"dd3fe719-28e8-4d7c-8d1b-fd72be8bcb72\",\"msg_type\":\"execute_request\",\"session\":\"c44cdea7-1f4a-42ff-8ee9-50eaa837fbe2\",\"username\":\"09268c39-1f81-4d55-b45a-c5380e590122\",\"version\":\"5.2\"}\n",
      "znajdzka {}\n",
      "znajdzka {\"cellId\":\"vscode-notebook-cell:/c%3A/Users/aleks/Desktop/Python/AI/definicje/definicje.ipynb#X51sZmlsZQ%3D%3D\"}\n",
      "znajdzka {\"silent\":false,\"store_history\":true,\"user_expressions\":{},\"allow_stdin\":true,\"stop_on_error\":false,\"code\":\"\\ncontent = content[indices]\\nlbls = lbls[indices]\"}\n"
     ]
    }
   ],
   "source": [
    "\n",
    "content = content[indices]\n",
    "lbls = lbls[indices]"
   ]
  },
  {
   "cell_type": "code",
   "execution_count": 34,
   "id": "9bc118ef",
   "metadata": {},
   "outputs": [
    {
     "name": "stdout",
     "output_type": "stream",
     "text": [
      "znajdzka {\"date\":\"2024-10-15T08:44:01.646Z\",\"msg_id\":\"9b47593f-3da4-42cb-80f3-e7be52d983d2\",\"msg_type\":\"execute_request\",\"session\":\"c44cdea7-1f4a-42ff-8ee9-50eaa837fbe2\",\"username\":\"09268c39-1f81-4d55-b45a-c5380e590122\",\"version\":\"5.2\"}\n",
      "znajdzka {}\n",
      "znajdzka {\"cellId\":\"vscode-notebook-cell:/c%3A/Users/aleks/Desktop/Python/AI/definicje/definicje.ipynb#X52sZmlsZQ%3D%3D\"}\n",
      "znajdzka {\"silent\":false,\"store_history\":true,\"user_expressions\":{},\"allow_stdin\":true,\"stop_on_error\":false,\"code\":\"content\"}\n"
     ]
    },
    {
     "data": {
      "text/plain": [
       "array([[4213, 2063, 4215, ...,    4, 1774,   40],\n",
       "       [ 409,  517, 3464, ...,   31, 3510,   40],\n",
       "       [   0,    0,    0, ...,  318, 4346,   40],\n",
       "       ...,\n",
       "       [   0,    0,    0, ...,   52,   53,   40],\n",
       "       [   0,    0,    0, ..., 1539, 1168,   40],\n",
       "       [   0,    0,    0, ..., 1713,  999,   40]])"
      ]
     },
     "execution_count": 34,
     "metadata": {},
     "output_type": "execute_result"
    }
   ],
   "source": [
    "content"
   ]
  },
  {
   "cell_type": "code",
   "execution_count": 35,
   "id": "ddb79b16",
   "metadata": {},
   "outputs": [
    {
     "name": "stdout",
     "output_type": "stream",
     "text": [
      "znajdzka {\"date\":\"2024-10-15T08:44:05.063Z\",\"msg_id\":\"f6b849f4-8ddd-44ea-8d06-ede96c5a20e7\",\"msg_type\":\"execute_request\",\"session\":\"c44cdea7-1f4a-42ff-8ee9-50eaa837fbe2\",\"username\":\"09268c39-1f81-4d55-b45a-c5380e590122\",\"version\":\"5.2\"}\n",
      "znajdzka {}\n",
      "znajdzka {\"cellId\":\"vscode-notebook-cell:/c%3A/Users/aleks/Desktop/Python/AI/definicje/definicje.ipynb#X53sZmlsZQ%3D%3D\"}\n",
      "znajdzka {\"silent\":false,\"store_history\":true,\"user_expressions\":{},\"allow_stdin\":true,\"stop_on_error\":false,\"code\":\"x_train = content[:training_samples]\\ny_train = lbls[:training_samples]\\nx_test = content[training_samples:]\\ny_test = lbls[training_samples:]\"}\n"
     ]
    }
   ],
   "source": [
    "x_train = content[:training_samples]\n",
    "y_train = lbls[:training_samples]\n",
    "x_test = content[training_samples:]\n",
    "y_test = lbls[training_samples:]"
   ]
  },
  {
   "cell_type": "code",
   "execution_count": 36,
   "id": "0fe731af",
   "metadata": {},
   "outputs": [
    {
     "name": "stdout",
     "output_type": "stream",
     "text": [
      "znajdzka {\"date\":\"2024-10-15T08:44:09.150Z\",\"msg_id\":\"228d3098-a5f9-4107-b7be-c2e79ec75742\",\"msg_type\":\"execute_request\",\"session\":\"c44cdea7-1f4a-42ff-8ee9-50eaa837fbe2\",\"username\":\"09268c39-1f81-4d55-b45a-c5380e590122\",\"version\":\"5.2\"}\n",
      "znajdzka {}\n",
      "znajdzka {\"cellId\":\"vscode-notebook-cell:/c%3A/Users/aleks/Desktop/Python/AI/definicje/definicje.ipynb#X54sZmlsZQ%3D%3D\"}\n",
      "znajdzka {\"silent\":false,\"store_history\":true,\"user_expressions\":{},\"allow_stdin\":true,\"stop_on_error\":false,\"code\":\"from keras.models import Sequential\\nfrom keras.layers import Embedding, Flatten, Dense\"}\n"
     ]
    }
   ],
   "source": [
    "from keras.models import Sequential\n",
    "from keras.layers import Embedding, Flatten, Dense"
   ]
  },
  {
   "cell_type": "code",
   "execution_count": 41,
   "id": "39ee1a21",
   "metadata": {},
   "outputs": [
    {
     "name": "stdout",
     "output_type": "stream",
     "text": [
      "znajdzka {\"date\":\"2024-10-15T08:46:06.800Z\",\"msg_id\":\"ba498f60-b9e9-417b-98f7-a8d13f21bb18\",\"msg_type\":\"execute_request\",\"session\":\"c44cdea7-1f4a-42ff-8ee9-50eaa837fbe2\",\"username\":\"09268c39-1f81-4d55-b45a-c5380e590122\",\"version\":\"5.2\"}\n",
      "znajdzka {}\n",
      "znajdzka {\"cellId\":\"vscode-notebook-cell:/c%3A/Users/aleks/Desktop/Python/AI/definicje/definicje.ipynb#X55sZmlsZQ%3D%3D\"}\n",
      "znajdzka {\"silent\":false,\"store_history\":true,\"user_expressions\":{},\"allow_stdin\":true,\"stop_on_error\":false,\"code\":\"max_words = 10000\"}\n"
     ]
    }
   ],
   "source": [
    "max_words = 10000"
   ]
  },
  {
   "cell_type": "code",
   "execution_count": 42,
   "id": "189627cd",
   "metadata": {},
   "outputs": [
    {
     "name": "stdout",
     "output_type": "stream",
     "text": [
      "znajdzka {\"date\":\"2024-10-15T08:46:08.405Z\",\"msg_id\":\"c7ca0617-2bfe-4cf3-9872-b9fc67ff540c\",\"msg_type\":\"execute_request\",\"session\":\"c44cdea7-1f4a-42ff-8ee9-50eaa837fbe2\",\"username\":\"09268c39-1f81-4d55-b45a-c5380e590122\",\"version\":\"5.2\"}\n",
      "znajdzka {}\n",
      "znajdzka {\"cellId\":\"vscode-notebook-cell:/c%3A/Users/aleks/Desktop/Python/AI/definicje/definicje.ipynb#X56sZmlsZQ%3D%3D\"}\n",
      "znajdzka {\"silent\":false,\"store_history\":true,\"user_expressions\":{},\"allow_stdin\":true,\"stop_on_error\":false,\"code\":\"model = Sequential()\\nmodel.add(Embedding(max_words, 100))\\nmodel.add(Flatten())\\nmodel.add(Dense(32, activation='relu'))\\nmodel.add(Dense(1, activation='sigmoid'))\\nmodel.summary()\"}\n"
     ]
    },
    {
     "data": {
      "text/html": [
       "<pre style=\"white-space:pre;overflow-x:auto;line-height:normal;font-family:Menlo,'DejaVu Sans Mono',consolas,'Courier New',monospace\"><span style=\"font-weight: bold\">Model: \"sequential_1\"</span>\n",
       "</pre>\n"
      ],
      "text/plain": [
       "\u001b[1mModel: \"sequential_1\"\u001b[0m\n"
      ]
     },
     "metadata": {},
     "output_type": "display_data"
    },
    {
     "data": {
      "text/html": [
       "<pre style=\"white-space:pre;overflow-x:auto;line-height:normal;font-family:Menlo,'DejaVu Sans Mono',consolas,'Courier New',monospace\">┏━━━━━━━━━━━━━━━━━━━━━━━━━━━━━━━━━┳━━━━━━━━━━━━━━━━━━━━━━━━┳━━━━━━━━━━━━━━━┓\n",
       "┃<span style=\"font-weight: bold\"> Layer (type)                    </span>┃<span style=\"font-weight: bold\"> Output Shape           </span>┃<span style=\"font-weight: bold\">       Param # </span>┃\n",
       "┡━━━━━━━━━━━━━━━━━━━━━━━━━━━━━━━━━╇━━━━━━━━━━━━━━━━━━━━━━━━╇━━━━━━━━━━━━━━━┩\n",
       "│ embedding_1 (<span style=\"color: #0087ff; text-decoration-color: #0087ff\">Embedding</span>)         │ ?                      │   <span style=\"color: #00af00; text-decoration-color: #00af00\">0</span> (unbuilt) │\n",
       "├─────────────────────────────────┼────────────────────────┼───────────────┤\n",
       "│ flatten_1 (<span style=\"color: #0087ff; text-decoration-color: #0087ff\">Flatten</span>)             │ ?                      │   <span style=\"color: #00af00; text-decoration-color: #00af00\">0</span> (unbuilt) │\n",
       "├─────────────────────────────────┼────────────────────────┼───────────────┤\n",
       "│ dense_2 (<span style=\"color: #0087ff; text-decoration-color: #0087ff\">Dense</span>)                 │ ?                      │   <span style=\"color: #00af00; text-decoration-color: #00af00\">0</span> (unbuilt) │\n",
       "├─────────────────────────────────┼────────────────────────┼───────────────┤\n",
       "│ dense_3 (<span style=\"color: #0087ff; text-decoration-color: #0087ff\">Dense</span>)                 │ ?                      │   <span style=\"color: #00af00; text-decoration-color: #00af00\">0</span> (unbuilt) │\n",
       "└─────────────────────────────────┴────────────────────────┴───────────────┘\n",
       "</pre>\n"
      ],
      "text/plain": [
       "┏━━━━━━━━━━━━━━━━━━━━━━━━━━━━━━━━━┳━━━━━━━━━━━━━━━━━━━━━━━━┳━━━━━━━━━━━━━━━┓\n",
       "┃\u001b[1m \u001b[0m\u001b[1mLayer (type)                   \u001b[0m\u001b[1m \u001b[0m┃\u001b[1m \u001b[0m\u001b[1mOutput Shape          \u001b[0m\u001b[1m \u001b[0m┃\u001b[1m \u001b[0m\u001b[1m      Param #\u001b[0m\u001b[1m \u001b[0m┃\n",
       "┡━━━━━━━━━━━━━━━━━━━━━━━━━━━━━━━━━╇━━━━━━━━━━━━━━━━━━━━━━━━╇━━━━━━━━━━━━━━━┩\n",
       "│ embedding_1 (\u001b[38;5;33mEmbedding\u001b[0m)         │ ?                      │   \u001b[38;5;34m0\u001b[0m (unbuilt) │\n",
       "├─────────────────────────────────┼────────────────────────┼───────────────┤\n",
       "│ flatten_1 (\u001b[38;5;33mFlatten\u001b[0m)             │ ?                      │   \u001b[38;5;34m0\u001b[0m (unbuilt) │\n",
       "├─────────────────────────────────┼────────────────────────┼───────────────┤\n",
       "│ dense_2 (\u001b[38;5;33mDense\u001b[0m)                 │ ?                      │   \u001b[38;5;34m0\u001b[0m (unbuilt) │\n",
       "├─────────────────────────────────┼────────────────────────┼───────────────┤\n",
       "│ dense_3 (\u001b[38;5;33mDense\u001b[0m)                 │ ?                      │   \u001b[38;5;34m0\u001b[0m (unbuilt) │\n",
       "└─────────────────────────────────┴────────────────────────┴───────────────┘\n"
      ]
     },
     "metadata": {},
     "output_type": "display_data"
    },
    {
     "data": {
      "text/html": [
       "<pre style=\"white-space:pre;overflow-x:auto;line-height:normal;font-family:Menlo,'DejaVu Sans Mono',consolas,'Courier New',monospace\"><span style=\"font-weight: bold\"> Total params: </span><span style=\"color: #00af00; text-decoration-color: #00af00\">0</span> (0.00 B)\n",
       "</pre>\n"
      ],
      "text/plain": [
       "\u001b[1m Total params: \u001b[0m\u001b[38;5;34m0\u001b[0m (0.00 B)\n"
      ]
     },
     "metadata": {},
     "output_type": "display_data"
    },
    {
     "data": {
      "text/html": [
       "<pre style=\"white-space:pre;overflow-x:auto;line-height:normal;font-family:Menlo,'DejaVu Sans Mono',consolas,'Courier New',monospace\"><span style=\"font-weight: bold\"> Trainable params: </span><span style=\"color: #00af00; text-decoration-color: #00af00\">0</span> (0.00 B)\n",
       "</pre>\n"
      ],
      "text/plain": [
       "\u001b[1m Trainable params: \u001b[0m\u001b[38;5;34m0\u001b[0m (0.00 B)\n"
      ]
     },
     "metadata": {},
     "output_type": "display_data"
    },
    {
     "data": {
      "text/html": [
       "<pre style=\"white-space:pre;overflow-x:auto;line-height:normal;font-family:Menlo,'DejaVu Sans Mono',consolas,'Courier New',monospace\"><span style=\"font-weight: bold\"> Non-trainable params: </span><span style=\"color: #00af00; text-decoration-color: #00af00\">0</span> (0.00 B)\n",
       "</pre>\n"
      ],
      "text/plain": [
       "\u001b[1m Non-trainable params: \u001b[0m\u001b[38;5;34m0\u001b[0m (0.00 B)\n"
      ]
     },
     "metadata": {},
     "output_type": "display_data"
    }
   ],
   "source": [
    "model = Sequential()\n",
    "model.add(Embedding(max_words, 100))\n",
    "model.add(Flatten())\n",
    "model.add(Dense(32, activation='relu'))\n",
    "model.add(Dense(1, activation='sigmoid'))\n",
    "model.summary()"
   ]
  },
  {
   "cell_type": "code",
   "execution_count": 43,
   "id": "9d53d8fa",
   "metadata": {},
   "outputs": [
    {
     "name": "stdout",
     "output_type": "stream",
     "text": [
      "znajdzka {\"date\":\"2024-10-15T08:46:14.150Z\",\"msg_id\":\"bed9b87b-d453-45db-a112-3efc1c3d263e\",\"msg_type\":\"execute_request\",\"session\":\"c44cdea7-1f4a-42ff-8ee9-50eaa837fbe2\",\"username\":\"09268c39-1f81-4d55-b45a-c5380e590122\",\"version\":\"5.2\"}\n",
      "znajdzka {}\n",
      "znajdzka {\"cellId\":\"vscode-notebook-cell:/c%3A/Users/aleks/Desktop/Python/AI/definicje/definicje.ipynb#X60sZmlsZQ%3D%3D\"}\n",
      "znajdzka {\"silent\":false,\"store_history\":true,\"user_expressions\":{},\"allow_stdin\":true,\"stop_on_error\":false,\"code\":\"model.compile(optimizer='rmsprop',\\n              loss='binary_crossentropy',\\n              metrics=['acc'])\"}\n"
     ]
    }
   ],
   "source": [
    "model.compile(optimizer='rmsprop',\n",
    "              loss='binary_crossentropy',\n",
    "              metrics=['acc'])"
   ]
  },
  {
   "cell_type": "code",
   "execution_count": 40,
   "id": "1ff4e101",
   "metadata": {},
   "outputs": [
    {
     "data": {
      "text/html": [
       "<pre style=\"white-space:pre;overflow-x:auto;line-height:normal;font-family:Menlo,'DejaVu Sans Mono',consolas,'Courier New',monospace\"><span style=\"font-weight: bold\">Model: \"sequential\"</span>\n",
       "</pre>\n"
      ],
      "text/plain": [
       "\u001b[1mModel: \"sequential\"\u001b[0m\n"
      ]
     },
     "metadata": {},
     "output_type": "display_data"
    },
    {
     "data": {
      "text/html": [
       "<pre style=\"white-space:pre;overflow-x:auto;line-height:normal;font-family:Menlo,'DejaVu Sans Mono',consolas,'Courier New',monospace\">┏━━━━━━━━━━━━━━━━━━━━━━━━━━━━━━━━━┳━━━━━━━━━━━━━━━━━━━━━━━━┳━━━━━━━━━━━━━━━┓\n",
       "┃<span style=\"font-weight: bold\"> Layer (type)                    </span>┃<span style=\"font-weight: bold\"> Output Shape           </span>┃<span style=\"font-weight: bold\">       Param # </span>┃\n",
       "┡━━━━━━━━━━━━━━━━━━━━━━━━━━━━━━━━━╇━━━━━━━━━━━━━━━━━━━━━━━━╇━━━━━━━━━━━━━━━┩\n",
       "│ embedding (<span style=\"color: #0087ff; text-decoration-color: #0087ff\">Embedding</span>)           │ ?                      │   <span style=\"color: #00af00; text-decoration-color: #00af00\">0</span> (unbuilt) │\n",
       "├─────────────────────────────────┼────────────────────────┼───────────────┤\n",
       "│ flatten (<span style=\"color: #0087ff; text-decoration-color: #0087ff\">Flatten</span>)               │ ?                      │   <span style=\"color: #00af00; text-decoration-color: #00af00\">0</span> (unbuilt) │\n",
       "├─────────────────────────────────┼────────────────────────┼───────────────┤\n",
       "│ dense (<span style=\"color: #0087ff; text-decoration-color: #0087ff\">Dense</span>)                   │ ?                      │   <span style=\"color: #00af00; text-decoration-color: #00af00\">0</span> (unbuilt) │\n",
       "├─────────────────────────────────┼────────────────────────┼───────────────┤\n",
       "│ dense_1 (<span style=\"color: #0087ff; text-decoration-color: #0087ff\">Dense</span>)                 │ ?                      │   <span style=\"color: #00af00; text-decoration-color: #00af00\">0</span> (unbuilt) │\n",
       "└─────────────────────────────────┴────────────────────────┴───────────────┘\n",
       "</pre>\n"
      ],
      "text/plain": [
       "┏━━━━━━━━━━━━━━━━━━━━━━━━━━━━━━━━━┳━━━━━━━━━━━━━━━━━━━━━━━━┳━━━━━━━━━━━━━━━┓\n",
       "┃\u001b[1m \u001b[0m\u001b[1mLayer (type)                   \u001b[0m\u001b[1m \u001b[0m┃\u001b[1m \u001b[0m\u001b[1mOutput Shape          \u001b[0m\u001b[1m \u001b[0m┃\u001b[1m \u001b[0m\u001b[1m      Param #\u001b[0m\u001b[1m \u001b[0m┃\n",
       "┡━━━━━━━━━━━━━━━━━━━━━━━━━━━━━━━━━╇━━━━━━━━━━━━━━━━━━━━━━━━╇━━━━━━━━━━━━━━━┩\n",
       "│ embedding (\u001b[38;5;33mEmbedding\u001b[0m)           │ ?                      │   \u001b[38;5;34m0\u001b[0m (unbuilt) │\n",
       "├─────────────────────────────────┼────────────────────────┼───────────────┤\n",
       "│ flatten (\u001b[38;5;33mFlatten\u001b[0m)               │ ?                      │   \u001b[38;5;34m0\u001b[0m (unbuilt) │\n",
       "├─────────────────────────────────┼────────────────────────┼───────────────┤\n",
       "│ dense (\u001b[38;5;33mDense\u001b[0m)                   │ ?                      │   \u001b[38;5;34m0\u001b[0m (unbuilt) │\n",
       "├─────────────────────────────────┼────────────────────────┼───────────────┤\n",
       "│ dense_1 (\u001b[38;5;33mDense\u001b[0m)                 │ ?                      │   \u001b[38;5;34m0\u001b[0m (unbuilt) │\n",
       "└─────────────────────────────────┴────────────────────────┴───────────────┘\n"
      ]
     },
     "metadata": {},
     "output_type": "display_data"
    },
    {
     "data": {
      "text/html": [
       "<pre style=\"white-space:pre;overflow-x:auto;line-height:normal;font-family:Menlo,'DejaVu Sans Mono',consolas,'Courier New',monospace\"><span style=\"font-weight: bold\"> Total params: </span><span style=\"color: #00af00; text-decoration-color: #00af00\">0</span> (0.00 B)\n",
       "</pre>\n"
      ],
      "text/plain": [
       "\u001b[1m Total params: \u001b[0m\u001b[38;5;34m0\u001b[0m (0.00 B)\n"
      ]
     },
     "metadata": {},
     "output_type": "display_data"
    },
    {
     "data": {
      "text/html": [
       "<pre style=\"white-space:pre;overflow-x:auto;line-height:normal;font-family:Menlo,'DejaVu Sans Mono',consolas,'Courier New',monospace\"><span style=\"font-weight: bold\"> Trainable params: </span><span style=\"color: #00af00; text-decoration-color: #00af00\">0</span> (0.00 B)\n",
       "</pre>\n"
      ],
      "text/plain": [
       "\u001b[1m Trainable params: \u001b[0m\u001b[38;5;34m0\u001b[0m (0.00 B)\n"
      ]
     },
     "metadata": {},
     "output_type": "display_data"
    },
    {
     "data": {
      "text/html": [
       "<pre style=\"white-space:pre;overflow-x:auto;line-height:normal;font-family:Menlo,'DejaVu Sans Mono',consolas,'Courier New',monospace\"><span style=\"font-weight: bold\"> Non-trainable params: </span><span style=\"color: #00af00; text-decoration-color: #00af00\">0</span> (0.00 B)\n",
       "</pre>\n"
      ],
      "text/plain": [
       "\u001b[1m Non-trainable params: \u001b[0m\u001b[38;5;34m0\u001b[0m (0.00 B)\n"
      ]
     },
     "metadata": {},
     "output_type": "display_data"
    }
   ],
   "source": [
    "model.summary()"
   ]
  },
  {
   "cell_type": "code",
   "execution_count": 44,
   "id": "275bf035",
   "metadata": {},
   "outputs": [
    {
     "name": "stdout",
     "output_type": "stream",
     "text": [
      "znajdzka {\"date\":\"2024-10-15T08:46:16.473Z\",\"msg_id\":\"63c89cc9-1304-4e83-97dc-f7f63dd88265\",\"msg_type\":\"execute_request\",\"session\":\"c44cdea7-1f4a-42ff-8ee9-50eaa837fbe2\",\"username\":\"09268c39-1f81-4d55-b45a-c5380e590122\",\"version\":\"5.2\"}\n",
      "znajdzka {}\n",
      "znajdzka {\"cellId\":\"vscode-notebook-cell:/c%3A/Users/aleks/Desktop/Python/AI/definicje/definicje.ipynb#X62sZmlsZQ%3D%3D\"}\n",
      "znajdzka {\"silent\":false,\"store_history\":true,\"user_expressions\":{},\"allow_stdin\":true,\"stop_on_error\":false,\"code\":\"history = model.fit(x_train,y_train,epochs=5,batch_size=12)\"}\n"
     ]
    },
    {
     "name": "stdout",
     "output_type": "stream",
     "text": [
      "Epoch 1/5\n",
      "\u001b[1m9/9\u001b[0m \u001b[32m━━━━━━━━━━━━━━━━━━━━\u001b[0m\u001b[37m\u001b[0m \u001b[1m1s\u001b[0m 4ms/step - acc: 0.4661 - loss: 0.6922  \n",
      "Epoch 2/5\n",
      "\u001b[1m9/9\u001b[0m \u001b[32m━━━━━━━━━━━━━━━━━━━━\u001b[0m\u001b[37m\u001b[0m \u001b[1m0s\u001b[0m 3ms/step - acc: 0.8447 - loss: 0.5888 \n",
      "Epoch 3/5\n",
      "\u001b[1m9/9\u001b[0m \u001b[32m━━━━━━━━━━━━━━━━━━━━\u001b[0m\u001b[37m\u001b[0m \u001b[1m0s\u001b[0m 4ms/step - acc: 0.8842 - loss: 0.5117 \n",
      "Epoch 4/5\n",
      "\u001b[1m9/9\u001b[0m \u001b[32m━━━━━━━━━━━━━━━━━━━━\u001b[0m\u001b[37m\u001b[0m \u001b[1m0s\u001b[0m 4ms/step - acc: 0.9567 - loss: 0.3713 \n",
      "Epoch 5/5\n",
      "\u001b[1m9/9\u001b[0m \u001b[32m━━━━━━━━━━━━━━━━━━━━\u001b[0m\u001b[37m\u001b[0m \u001b[1m0s\u001b[0m 3ms/step - acc: 1.0000 - loss: 0.2104 \n"
     ]
    },
    {
     "name": "stdout",
     "output_type": "stream",
     "text": [
      "znajdzka {\"date\":\"2024-10-15T08:46:53.622Z\",\"msg_id\":\"f29007cc-6366-43ca-a559-65b9a9ae5819\",\"msg_type\":\"execute_request\",\"session\":\"c44cdea7-1f4a-42ff-8ee9-50eaa837fbe2\",\"username\":\"09268c39-1f81-4d55-b45a-c5380e590122\",\"version\":\"5.2\"}\n",
      "znajdzka {}\n",
      "znajdzka {}\n",
      "znajdzka {\"silent\":false,\"store_history\":false,\"user_expressions\":{},\"allow_stdin\":false,\"stop_on_error\":false,\"code\":\"def __jupyter_exec_background__():\\n    from IPython.display import display\\n    from threading import Thread\\n    from traceback import format_exc\\n\\n    # First send a dummy response to get the display id.\\n    # Later we'll send the real response with the actual data.\\n    # And that can happen much later even after the execution completes,\\n    # as that response will be sent from a bg thread.\\n    output = display({\\\"application/vnd.vscode.bg.execution.8\\\": \\\"\\\"}, raw=True, display_id=True)\\n\\n    def do_implementation():\\n        return get_ipython().kernel.do_complete(\\\"i\\\", 1)\\n\\n    def bg_main():\\n        try:\\n            output.update({\\\"application/vnd.vscode.bg.execution.8.result\\\": do_implementation()}, raw=True)\\n        except Exception as e:\\n            output.update({\\\"application/vnd.vscode.bg.execution.8.error\\\": format_exc()}, raw=True)\\n\\n\\n    Thread(target=bg_main, daemon=True).start()\\n\\n\\n__jupyter_exec_background__()\\ndel __jupyter_exec_background__\"}\n"
     ]
    }
   ],
   "source": [
    "history = model.fit(x_train,y_train,epochs=5,batch_size=12)"
   ]
  },
  {
   "cell_type": "code",
   "execution_count": 46,
   "id": "95232c30",
   "metadata": {},
   "outputs": [
    {
     "data": {
      "text/plain": [
       "<matplotlib.legend.Legend at 0x1edafa3c710>"
      ]
     },
     "execution_count": 46,
     "metadata": {},
     "output_type": "execute_result"
    },
    {
     "data": {
      "image/png": "[encoded data removed]",
      "text/plain": [
       "<Figure size 640x480 with 1 Axes>"
      ]
     },
     "metadata": {},
     "output_type": "display_data"
    }
   ],
   "source": [
    "import matplotlib.pyplot as plt\n",
    "\n",
    "acc = history.history['acc']\n",
    "loss = history.history['loss']\n",
    "\n",
    "epochs = range(1,len(acc)+1)\n",
    "\n",
    "plt.plot(epochs,acc,'bo',label='Dokładność trenowania.')\n",
    "plt.plot(epochs,loss,'b',label='Strata trenowania.')\n",
    "plt.title(\"wykres dokładności i straty trenowania\")\n",
    "plt.legend()"
   ]
  },
  {
   "cell_type": "code",
   "execution_count": null,
   "id": "835b1897",
   "metadata": {},
   "outputs": [],
   "source": []
  }
 ],
 "metadata": {
  "kernelspec": {
   "display_name": "Python 3 (ipykernel)",
   "language": "python",
   "name": "python3"
  },
  "language_info": {
   "codemirror_mode": {
    "name": "ipython",
    "version": 3
   },
   "file_extension": ".py",
   "mimetype": "text/x-python",
   "name": "python",
   "nbconvert_exporter": "python",
   "pygments_lexer": "ipython3",
   "version": "3.11.8"
  }
 },
 "nbformat": 4,
 "nbformat_minor": 5
}
